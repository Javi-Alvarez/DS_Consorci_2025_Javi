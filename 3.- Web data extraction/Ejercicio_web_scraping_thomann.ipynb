{
 "cells": [
  {
   "cell_type": "markdown",
   "id": "1b661257",
   "metadata": {},
   "source": [
    "## Ejemplo de Web Scraping del marketplace thomann\n",
    "\n",
    "\n",
    " - Busca en la página web https://www.thomann.de/es/cat.html y obtén un listado de todos los artículos que están a la venta incluyendo la mayor cantidad posible de información que consigas (nombre producto, precio, descripción, componentes...)\n",
    " \n",
    " - Si quieres buscar en otra web que sea de tú interés o de la tienda de tu barrio, adelante!\n",
    " \n",
    " - Antes de nada abre la url en tu explorador y mira cómo es y qué cosas pueden resultarte interesante para atacar a esta web y recopilar información de sus productos"
   ]
  },
  {
   "cell_type": "code",
   "execution_count": 1,
   "id": "8f26bf1a",
   "metadata": {},
   "outputs": [],
   "source": [
    "import requests\n",
    "from bs4 import BeautifulSoup\n",
    "import pandas as pd\n",
    "\n",
    "import time\n",
    "import pandas as pd\n",
    "from selenium import webdriver\n",
    "from selenium.webdriver.chrome.service import Service\n",
    "from selenium.webdriver.common.by import By\n",
    "from selenium.webdriver.chrome.options import Options\n"
   ]
  },
  {
   "cell_type": "code",
   "execution_count": 2,
   "id": "a29893e6",
   "metadata": {},
   "outputs": [],
   "source": [
    "# Iniciar el navegador\n",
    "driver = webdriver.Chrome()\n",
    "\n",
    "# URL principal de Carrefour Supermercado\n",
    "url = \"https://www.thomann.de/es/cat.html\"\n",
    "# url = \"https://www.thomann.de/es/index.html\"\n",
    "driver.get(url)\n"
   ]
  },
  {
   "cell_type": "code",
   "execution_count": null,
   "id": "6ce5a7c0",
   "metadata": {},
   "outputs": [],
   "source": []
  }
 ],
 "metadata": {
  "kernelspec": {
   "display_name": "Python 3 (ipykernel)",
   "language": "python",
   "name": "python3"
  },
  "language_info": {
   "codemirror_mode": {
    "name": "ipython",
    "version": 3
   },
   "file_extension": ".py",
   "mimetype": "text/x-python",
   "name": "python",
   "nbconvert_exporter": "python",
   "pygments_lexer": "ipython3",
   "version": "3.9.13"
  }
 },
 "nbformat": 4,
 "nbformat_minor": 5
}
