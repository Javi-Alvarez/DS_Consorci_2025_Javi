{
 "cells": [
  {
   "cell_type": "markdown",
   "id": "b86cd52b",
   "metadata": {},
   "source": [
    "## Ejercicio\n",
    "\n",
    " - Localiza una página de tu interés y extrae la información que te interese, sean tablas de resultados, texto... Si no se te ocurre ninguna usa https://es.wikipedia.org/wiki/Anexo:Pel%C3%ADculas_con_las_mayores_recaudaciones\n",
    " \n",
    " - Transforma la tabla que extraigas de la web en un dataframe y asegúrate de que el formato de las columnas es el adecuado, por si luego tuvieras que hacer operaciones con fechas, números..."
   ]
  }
 ],
 "metadata": {
  "kernelspec": {
   "display_name": "Python 3 (ipykernel)",
   "language": "python",
   "name": "python3"
  },
  "language_info": {
   "codemirror_mode": {
    "name": "ipython",
    "version": 3
   },
   "file_extension": ".py",
   "mimetype": "text/x-python",
   "name": "python",
   "nbconvert_exporter": "python",
   "pygments_lexer": "ipython3",
   "version": "3.9.13"
  }
 },
 "nbformat": 4,
 "nbformat_minor": 5
}
