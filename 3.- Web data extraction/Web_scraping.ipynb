{
 "cells": [
  {
   "cell_type": "markdown",
   "id": "53b54086",
   "metadata": {},
   "source": [
    "# Web Scraping\n",
    "\n",
    "Es una técnica que nos permite \"raspar\" o \"arañar\" la información que hay en las páginas web. De manera que todo lo que puedes ver y leer en cualquier página web también puedes extraerlo de manera automatizada con python (con algunas excepciones).\n",
    "\n",
    "En este notebook vamos a ver una de las maneras de recuperar esta información usando las librerías request, para extraer, y bs4 (BeautifulSoup) para darle forma. \n"
   ]
  },
  {
   "cell_type": "markdown",
   "id": "17632c88",
   "metadata": {},
   "source": [
    "## Introducción a `requests.Response`\n",
    "Cuando haces una solicitud HTTP con `requests.get(url)`, el resultado es un objeto `Response` que contiene:\n",
    "\n",
    " - Código de estado (status_code): Indica si la solicitud fue exitosa (200), redirigida (301), no encontrada (404), etc.\n",
    " - Cabeceras (headers): Metadatos sobre la respuesta (tipo de contenido, servidor, etc.).\n",
    " - Contenido (text o content): El HTML de la página web."
   ]
  },
  {
   "cell_type": "code",
   "execution_count": 15,
   "id": "efce2f53",
   "metadata": {},
   "outputs": [],
   "source": [
    "import requests\n",
    "from bs4 import BeautifulSoup\n",
    "import pandas as pd"
   ]
  },
  {
   "cell_type": "markdown",
   "id": "81affc4b",
   "metadata": {},
   "source": [
    "### Hacemos llamada a la web\n",
    "\n",
    "https://es.wikipedia.org/wiki/Anexo:Libros_m%C3%A1s_vendidos"
   ]
  },
  {
   "cell_type": "code",
   "execution_count": 32,
   "id": "26dadcbd",
   "metadata": {},
   "outputs": [],
   "source": [
    "# url de la que queremos extraer la información\n",
    "url = 'https://es.wikipedia.org/wiki/Anexo:Libros_m%C3%A1s_vendidos'"
   ]
  },
  {
   "cell_type": "code",
   "execution_count": 33,
   "id": "6b70a7a1",
   "metadata": {},
   "outputs": [
    {
     "data": {
      "text/plain": [
       "<Response [200]>"
      ]
     },
     "execution_count": 33,
     "metadata": {},
     "output_type": "execute_result"
    }
   ],
   "source": [
    "# Hacer la solicitud HTTP\n",
    "response = requests.get(url)\n",
    "response"
   ]
  },
  {
   "cell_type": "markdown",
   "id": "ce6299ff",
   "metadata": {},
   "source": [
    "Los tipos de respuestas que nos podemos encontrar cuando navegamos por internet: https://developer.mozilla.org/en-US/docs/Web/HTTP/Status"
   ]
  },
  {
   "cell_type": "markdown",
   "id": "68401aef",
   "metadata": {},
   "source": [
    "### Analizamos la respuesta a nuestra llamada"
   ]
  },
  {
   "cell_type": "code",
   "execution_count": 7,
   "id": "bd2cc029",
   "metadata": {},
   "outputs": [
    {
     "data": {
      "text/plain": [
       "'<!DOCTYPE html>\\n<html class=\"client-nojs vector-feature-language-in-header-enabled vector-feature-language-in-main-page-header-disabled vector-feature-page-tools-pinned-disabled vector-feature-toc-pinned-clientpref-1 vector-feature-main-menu-pinned-disabled vector-feature-limited-width-clientpref-1 vector-feature-limited-width-content-enabled vector-feature-custom-font-size-clientpref-1 vector-feature-appearance-pinned-clientpref-1 vector-feature-night-mode-enabled skin-theme-clientpref-day vector-sticky-header-enabled vector-toc-available\" lang=\"es\" dir=\"ltr\">\\n<head>\\n<meta charset=\"UTF-8\">\\n<title>Anexo:Libros más vendidos - Wikipedia, la enciclopedia libre</title>\\n<script>(function(){var className=\"client-js vector-feature-language-in-header-enabled vector-feature-language-in-main-page-header-disabled vector-feature-page-tools-pinned-disabled vector-feature-toc-pinned-clientpref-1 vector-feature-main-menu-pinned-disabled vector-feature-limited-width-clientpref-1 vector-feature-limited-width-content-enabled vector-feature-custom-font-size-clientpref-1 vector-feature-appearance-pinned-clientpref-1 vector-feature-night-mode-enabled skin-theme-clientpref-day vector-sticky-header-enabled vector-toc-available\";var cookie=document.cookie.match(/(?:^|; )eswikimwclientpreferences=([^;]+)/);if(cookie){cookie[1].split(\\'%2C\\').forEach(function(pref){className=className.replace(new RegExp(\\'(^| )\\'+pref.replace(/-clientpref-\\\\w+$|[^\\\\w-]+/g,\\'\\')+\\'-clientpref-\\\\\\\\w+( |$)\\'),\\'$1\\'+pref+\\'$2\\');});}document.documentElement.className=className;}());RLCONF={\"wgBreakFrames\":false,\"wgSeparatorTransformTable\":[\",\\\\t.\",\"\\xa0\\\\t,\"],\"wgDigitTransformTable\":[\"\",\"\"],\"wgDefaultDateFormat\":\"dmy\",\\n\"wgMonthNames\":[\"\",\"enero\",\"febrero\",\"marzo\",\"abril\",\"mayo\",\"junio\",\"julio\",\"agosto\",\"septiembre\",\"octubre\",\"noviembre\",\"diciembre\"],\"wgRequestId\":\"c0b8f618-43e9-4afd-a12f-78af2a0e5525\",\"wgCanonicalNamespace\":\"Anexo\",\"wgCanonicalSpecialPageName\":false,\"wgNamespaceNumber\":104,\"wgPageName\":\"Anexo:Libros_más_vendidos\",\"wgTitle\":\"Libros más vendidos\",\"wgCurRevisionId\":165507398,\"wgRevisionId\":165507398,\"wgArticleId\":3553464,\"wgIsArticle\":true,\"wgIsRedirect\":false,\"wgAction\":\"view\",\"wgUserName\":null,\"wgUserGroups\":[\"*\"],\"wgCategories\":[\"Wikipedia:Páginas con plantillas con argumentos duplicados\",\"Wikipedia:Páginas con referencias sin título\",\"Wikipedia:Páginas con referencias sin título y con URL\",\"Wikipedia:Páginas con referencias con parámetros redundantes\",\"Wikipedia:Páginas con referencias web sin URL\",\"Wikipedia:Páginas con referencias sin URL y con fecha de acceso\",\"Wikipedia:Artículos con enlaces externos rotos\",\"Wikipedia:Artículos con pasajes que requieren referencias\"\\n,\"Anexos:Listas de ventas en la industria editorial\"],\"wgPageViewLanguage\":\"es\",\"wgPageContentLanguage\":\"es\",\"wgPageContentModel\":\"wikitext\",\"wgRelevantPageName\":\"Anexo:Libros_más_vendidos\",\"wgRelevantArticleId\":3553464,\"wgIsProbablyEditable\":true,\"wgRelevantPageIsProbablyEditable\":true,\"wgRestrictionEdit\":[],\"wgRestrictionMove\":[],\"wgNoticeProject\":\"wikipedia\",\"wgCiteReferencePreviewsActive\":false,\"wgMediaViewerOnClick\":true,\"wgMediaViewerEnabledByDefault\":true,\"wgPopupsFlags\":0,\"wgVisualEditor\":{\"pageLanguageCode\":\"es\",\"pageLanguageDir\":\"ltr\",\"pageVariantFallbacks\":\"es\"},\"wgMFDisplayWikibaseDescriptions\":{\"search\":true,\"watchlist\":true,\"tagline\":true,\"nearby\":true},\"wgWMESchemaEditAttemptStepOversample\":false,\"wgWMEPageLength\":50000,\"wgEditSubmitButtonLabelPublish\":true,\"wgULSPosition\":\"interlanguage\",\"wgULSisCompactLinksEnabled\":false,\"wgVector2022LanguageInHeader\":true,\"wgULSisLanguageSelectorEmpty\":false,\"wgWikibaseItemId\":\"Q1076527\",\"wgCheckUserClientHintsHeadersJsApi\":[\"brands\"\\n,\"architecture\",\"bitness\",\"fullVersionList\",\"mobile\",\"model\",\"platform\",\"platformVersion\"],\"GEHomepageSuggestedEditsEnableTopics\":true,\"wgGETopicsMatchModeEnabled\":true,\"wgGEStructuredTaskRejectionReasonTextInputEnabled\":false,\"wgGELevelingUpEnabledForUser\":false};RLSTATE={\"ext.gadget.imagenesinfobox\":\"ready\",\"ext.globalCssJs.user.styles\":\"ready\",\"site.styles\":\"ready\",\"user.styles\":\"ready\",\"ext.globalCssJs.user\":\"ready\",\"user\":\"ready\",\"user.options\":\"loading\",\"ext.cite.styles\":\"ready\",\"skins.vector.search.codex.styles\":\"ready\",\"skins.vector.styles\":\"ready\",\"skins.vector.icons\":\"ready\",\"jquery.tablesorter.styles\":\"ready\",\"ext.wikimediamessages.styles\":\"ready\",\"ext.visualEditor.desktopArticleTarget.noscript\":\"ready\",\"ext.uls.interlanguage\":\"ready\",\"wikibase.client.init\":\"ready\",\"ext.wikimediaBadges\":\"ready\"};RLPAGEMODULES=[\"ext.cite.ux-enhancements\",\"site\",\"mediawiki.page.ready\",\"jquery.tablesorter\",\"mediawiki.toc\",\"skins.vector.js\",\"ext.centralNotice.geoIP\",\"ext.centralNotice.startUp\",\\n\"ext.gadget.a-commons-directo\",\"ext.gadget.ReferenceTooltips\",\"ext.gadget.refToolbar\",\"ext.gadget.switcher\",\"ext.urlShortener.toolbar\",\"ext.centralauth.centralautologin\",\"mmv.bootstrap\",\"ext.popups\",\"ext.visualEditor.desktopArticleTarget.init\",\"ext.visualEditor.targetLoader\",\"ext.echo.centralauth\",\"ext.eventLogging\",\"ext.wikimediaEvents\",\"ext.navigationTiming\",\"ext.uls.interface\",\"ext.cx.eventlogging.campaigns\",\"ext.cx.uls.quick.actions\",\"wikibase.client.vector-2022\",\"ext.checkUser.clientHints\"];</script>\\n<script>(RLQ=window.RLQ||[]).push(function(){mw.loader.impl(function(){return[\"user.options@12s5i\",function($,jQuery,require,module){mw.user.tokens.set({\"patrolToken\":\"+\\\\\\\\\",\"watchToken\":\"+\\\\\\\\\",\"csrfToken\":\"+\\\\\\\\\"});\\n}];});});</script>\\n<link rel=\"stylesheet\" href=\"/w/load.php?lang=es&amp;modules=ext.cite.styles%7Cext.uls.interlanguage%7Cext.visualEditor.desktopArticleTarget.noscript%7Cext.wikimediaBadges%7Cext.wikimediamessages.styles%7Cjquery.tablesorter.styles%7Cskins.vector.icons%2Cstyles%7Cskins.vector.search.codex.styles%7Cwikibase.client.init&amp;only=styles&amp;skin=vector-2022\">\\n<script async=\"\" src=\"/w/load.php?lang=es&amp;modules=startup&amp;only=scripts&amp;raw=1&amp;skin=vector-2022\"></script>\\n<meta name=\"ResourceLoaderDynamicStyles\" content=\"\">\\n<link rel=\"stylesheet\" href=\"/w/load.php?lang=es&amp;modules=ext.gadget.imagenesinfobox&amp;only=styles&amp;skin=vector-2022\">\\n<link rel=\"stylesheet\" href=\"/w/load.php?lang=es&amp;modules=site.styles&amp;only=styles&amp;skin=vector-2022\">\\n<noscript><link rel=\"stylesheet\" href=\"/w/load.php?lang=es&amp;modules=noscript&amp;only=styles&amp;skin=vector-2022\"></noscript>\\n<meta name=\"generator\" content=\"MediaWiki 1.44.0-wmf.16\">\\n<meta name=\"referrer\" content=\"origin\">\\n<meta name=\"referrer\" content=\"origin-when-cross-origin\">\\n<meta name=\"robots\" content=\"max-image-preview:standard\">\\n<meta name=\"format-detection\" content=\"telephone=no\">\\n<meta name=\"viewport\" content=\"width=1120\">\\n<meta property=\"og:title\" content=\"Anexo:Libros más vendidos - Wikipedia, la enciclopedia libre\">\\n<meta property=\"og:type\" content=\"website\">\\n<link rel=\"preconnect\" href=\"//upload.wikimedia.org\">\\n<link rel=\"alternate\" media=\"only screen and (max-width: 640px)\" href=\"//es.m.wikipedia.org/wiki/Anexo:Libros_m%C3%A1s_vendidos\">\\n<link rel=\"alternate\" type=\"application/x-wiki\" title=\"Editar\" href=\"/w/index.php?title=Anexo:Libros_m%C3%A1s_vendidos&amp;action=edit\">\\n<link rel=\"apple-touch-icon\" href=\"/static/apple-touch/wikipedia.png\">\\n<link rel=\"icon\" href=\"/static/favicon/wikipedia.ico\">\\n<link rel=\"search\" type=\"application/opensearchdescription+xml\" href=\"/w/rest.php/v1/search\" title=\"Wikipedia (es)\">\\n<link rel=\"EditURI\" type=\"application/rsd+xml\" href=\"//es.wikipedia.org/w/api.php?action=rsd\">\\n<link rel=\"canonical\" href=\"https://es.wikipedia.org/wiki/Anexo:Libros_m%C3%A1s_vendidos\">\\n<link rel=\"license\" href=\"https://creativecommons.org/licenses/by-sa/4.0/deed.es\">\\n<link rel=\"alternate\" type=\"application/atom+xml\" title=\"Canal Atom de Wikipedia\" href=\"/w/index.php?title=Especial:CambiosRecientes&amp;feed=atom\">\\n<link rel=\"dns-prefetch\" href=\"//meta.wikimedia.org\" />\\n<link rel=\"dns-prefetch\" href=\"login.wikimedia.org\">\\n</head>\\n<body class=\"skin--responsive skin-vector skin-vector-search-vue mediawiki ltr sitedir-ltr mw-hide-empty-elt ns-104 ns-subject mw-editable page-Anexo_Libros_más_vendidos rootpage-Anexo_Libros_más_vendidos skin-vector-2022 action-view\"><a class=\"mw-jump-link\" href=\"#bodyContent\">Ir al contenido</a>\\n<div class=\"vector-header-container\">\\n\\t<header class=\"vector-header mw-header\">\\n\\t\\t<div class=\"vector-header-start\">\\n\\t\\t\\t<nav class=\"vector-main-menu-landmark\" aria-label=\"Sitio\">\\n\\t\\t\\t\\t\\n<div id=\"vector-main-menu-dropdown\" class=\"vector-dropdown vector-main-menu-dropdown vector-button-flush-left vector-button-flush-right\"  title=\"Menú principal\" >\\n\\t<input type=\"checkbox\" id=\"vector-main-menu-dropdown-checkbox\" role=\"button\" aria-haspopup=\"true\" data-event-name=\"ui.dropdown-vector-main-menu-dropdown\" class=\"vector-dropdown-checkbox \"  aria-label=\"Menú principal\"  >\\n\\t<label id=\"vector-main-menu-dropdown-label\" for=\"vector-main-menu-dropdown-checkbox\" class=\"vector-dropdown-label cdx-button cdx-button--fake-button cdx-button--fake-button--enabled cdx-button--weight-quiet cdx-button--icon-only \" aria-hidden=\"true\"  ><span class=\"vector-icon mw-ui-icon-menu mw-ui-icon-wikimedia-menu\"></span>\\n\\n<span class=\"vector-dropdown-label-text\">Menú principal</span>\\n\\t</label>\\n\\t<div class=\"vector-dropdown-content\">\\n\\n\\n\\t\\t\\t\\t<div id=\"vector-main-menu-unpinned-container\" class=\"vector-unpinned-container\">\\n\\t\\t\\n<div id=\"vector-main-menu\" class=\"vector-main-menu vector-pinnable-element\">\\n\\t<div\\n\\tclass=\"vector-pinnable-header vector-main-menu-pinnable-header vector-pinnable-header-unpinned\"\\n\\tdata-feature-name=\"main-menu-pinned\"\\n\\tdata-pinnable-element-id=\"vector-main-menu\"\\n\\tdata-pinned-container-id=\"vector-main-menu-pinned-container\"\\n\\tdata-unpinned-container-id=\"vector-main-menu-unpinned-container\"\\n>\\n\\t<div class=\"vector-pinnable-header-label\">Menú principal</div>\\n\\t<button class=\"vector-pinnable-header-toggle-button vector-pinnable-header-pin-button\" data-event-name=\"pinnable-header.vector-main-menu.pin\">mover a la barra lateral</button>\\n\\t<button class=\"vector-pinnable-header-toggle-button vector-pinnable-header-unpin-button\" data-event-name=\"pinnable-header.vector-main-menu.unpin\">ocultar</button>\\n</div>\\n\\n\\t\\n<div id=\"p-navigation\" class=\"vector-menu mw-portlet mw-portlet-navigation\"  >\\n\\t<div class=\"vector-menu-heading\">\\n\\t\\tNavegación\\n\\t</div>\\n\\t<div class=\"vector-menu-content\">\\n\\t\\t\\n\\t\\t<ul class=\"vector-menu-content-list\">\\n\\t\\t\\t\\n\\t\\t\\t<li id=\"n-mainpage-description\" class=\"mw-list-item\"><a href=\"/wiki/Wikipedia:Portada\" title=\"Visitar la página principal [z]\" accesskey=\"z\"><span>Portada</span></a></li><li id=\"n-portal\" class=\"mw-list-item\"><a href=\"/wiki/Portal:Comunidad\" title=\"Acerca del proyecto, lo que puedes hacer, dónde encontrar información\"><span>Portal de la comunidad</span></a></li><li id=\"n-currentevents\" class=\"mw-list-item\"><a href=\"/wiki/Portal:Actualidad\" title=\"Encuentra información de contexto sobre acontecimientos actuales\"><span>Actualidad</span></a></li><li id=\"n-recentchanges\" class=\"mw-list-item\"><a href=\"/wiki/Especial:CambiosRecientes\" title=\"Lista de cambios recientes en la wiki [r]\" accesskey=\"r\"><span>Cambios recientes</span></a></li><li id=\"n-newpages\" class=\"mw-list-item\"><a href=\"/wiki/Especial:P%C3%A1ginasNuevas\"><span>Páginas nuevas</span></a></li><li id=\"n-randompage\" class=\"mw-list-item\"><a href=\"/wiki/Especial:Aleatoria\" title=\"Cargar una página al azar [x]\" accesskey=\"x\"><span>Página aleatoria</span></a></li><li id=\"n-help\" class=\"mw-list-item\"><a href=\"/wiki/Ayuda:Contenidos\" title=\"El lugar para aprender\"><span>Ayuda</span></a></li><li id=\"n-bug_in_article\" class=\"mw-list-item\"><a href=\"/wiki/Wikipedia:Informes_de_error\"><span>Notificar un error</span></a></li><li id=\"n-specialpages\" class=\"mw-list-item\"><a href=\"/wiki/Especial:P%C3%A1ginasEspeciales\"><span>Páginas especiales</span></a></li>\\n\\t\\t</ul>\\n\\t\\t\\n\\t</div>\\n</div>\\n\\n\\t\\n\\t\\n</div>\\n\\n\\t\\t\\t\\t</div>\\n\\n\\t</div>\\n</div>\\n\\n\\t\\t</nav>\\n\\t\\t\\t\\n<a href=\"/wiki/Wikipedia:Portada\" class=\"mw-logo\">\\n\\t<img class=\"mw-logo-icon\" src=\"/static/images/icons/wikipedia.png\" alt=\"\" aria-hidden=\"true\" height=\"50\" width=\"50\">\\n\\t<span class=\"mw-logo-container skin-invert\">\\n\\t\\t<img class=\"mw-logo-wordmark\" alt=\"Wikipedia\" src=\"/static/images/mobile/copyright/wikipedia-wordmark-en.svg\" style=\"width: 7.5em; height: 1.125em;\">\\n\\t\\t<img class=\"mw-logo-tagline\" alt=\"La enciclopedia libre\" src=\"/static/images/mobile/copyright/wikipedia-tagline-es.svg\" width=\"120\" height=\"13\" style=\"width: 7.5em; height: 0.8125em;\">\\n\\t</span>\\n</a>\\n\\n\\t\\t</div>\\n\\t\\t<div class=\"vector-header-end\">\\n\\t\\t\\t\\n<div id=\"p-search\" role=\"search\" class=\"vector-search-box-vue  vector-search-box-collapses vector-search-box-show-thumbnail vector-search-box-auto-expand-width vector-search-box\">\\n\\t<a href=\"/wiki/Especial:Buscar\" class=\"cdx-button cdx-button--fake-button cdx-button--fake-button--enabled cdx-button--weight-quiet cdx-button--icon-only search-toggle\" title=\"Buscar en este wiki [f]\" accesskey=\"f\"><span class=\"vector-icon mw-ui-icon-search mw-ui-icon-wikimedia-search\"></span>\\n\\n<span>Buscar</span>\\n\\t</a>\\n\\t<div class=\"vector-typeahead-search-container\">\\n\\t\\t<div class=\"cdx-typeahead-search cdx-typeahead-search--show-thumbnail cdx-typeahead-search--auto-expand-width\">\\n\\t\\t\\t<form action=\"/w/index.php\" id=\"searchform\" class=\"cdx-search-input cdx-search-input--has-end-button\">\\n\\t\\t\\t\\t<div id=\"simpleSearch\" class=\"cdx-search-input__input-wrapper\"  data-search-loc=\"header-moved\">\\n\\t\\t\\t\\t\\t<div class=\"cdx-text-input cdx-text-input--has-start-icon\">\\n\\t\\t\\t\\t\\t\\t<input\\n\\t\\t\\t\\t\\t\\t\\tclass=\"cdx-text-input__input\"\\n\\t\\t\\t\\t\\t\\t\\t type=\"search\" name=\"search\" placeholder=\"Buscar en Wikipedia\" aria-label=\"Buscar en Wikipedia\" autocapitalize=\"sentences\" title=\"Buscar en este wiki [f]\" accesskey=\"f\" id=\"searchInput\"\\n\\t\\t\\t\\t\\t\\t\\t>\\n\\t\\t\\t\\t\\t\\t<span class=\"cdx-text-input__icon cdx-text-input__start-icon\"></span>\\n\\t\\t\\t\\t\\t</div>\\n\\t\\t\\t\\t\\t<input type=\"hidden\" name=\"title\" value=\"Especial:Buscar\">\\n\\t\\t\\t\\t</div>\\n\\t\\t\\t\\t<button class=\"cdx-button cdx-search-input__end-button\">Buscar</button>\\n\\t\\t\\t</form>\\n\\t\\t</div>\\n\\t</div>\\n</div>\\n\\n\\t\\t\\t<nav class=\"vector-user-links vector-user-links-wide\" aria-label=\"Herramientas personales\">\\n\\t<div class=\"vector-user-links-main\">\\n\\t\\n<div id=\"p-vector-user-menu-preferences\" class=\"vector-menu mw-portlet emptyPortlet\"  >\\n\\t<div class=\"vector-menu-content\">\\n\\t\\t\\n\\t\\t<ul class=\"vector-menu-content-list\">\\n\\t\\t\\t\\n\\t\\t\\t\\n\\t\\t</ul>\\n\\t\\t\\n\\t</div>\\n</div>\\n\\n\\t\\n<div id=\"p-vector-user-menu-userpage\" class=\"vector-menu mw-portlet emptyPortlet\"  >\\n\\t<div class=\"vector-menu-content\">\\n\\t\\t\\n\\t\\t<ul class=\"vector-menu-content-list\">\\n\\t\\t\\t\\n\\t\\t\\t\\n\\t\\t</ul>\\n\\t\\t\\n\\t</div>\\n</div>\\n\\n\\t<nav class=\"vector-appearance-landmark\" aria-label=\"Apariencia\">\\n\\t\\t\\n<div id=\"vector-appearance-dropdown\" class=\"vector-dropdown \"  title=\"Change the appearance of the page&#039;s font size, width, and color\" >\\n\\t<input type=\"checkbox\" id=\"vector-appearance-dropdown-checkbox\" role=\"button\" aria-haspopup=\"true\" data-event-name=\"ui.dropdown-vector-appearance-dropdown\" class=\"vector-dropdown-checkbox \"  aria-label=\"Apariencia\"  >\\n\\t<label id=\"vector-appearance-dropdown-label\" for=\"vector-appearance-dropdown-checkbox\" class=\"vector-dropdown-label cdx-button cdx-button--fake-button cdx-button--fake-button--enabled cdx-button--weight-quiet cdx-button--icon-only \" aria-hidden=\"true\"  ><span class=\"vector-icon mw-ui-icon-appearance mw-ui-icon-wikimedia-appearance\"></span>\\n\\n<span class=\"vector-dropdown-label-text\">Apariencia</span>\\n\\t</label>\\n\\t<div class=\"vector-dropdown-content\">\\n\\n\\n\\t\\t\\t<div id=\"vector-appearance-unpinned-container\" class=\"vector-unpinned-container\">\\n\\t\\t\\t\\t\\n\\t\\t\\t</div>\\n\\t\\t\\n\\t</div>\\n</div>\\n\\n\\t</nav>\\n\\t\\n<div id=\"p-vector-user-menu-notifications\" class=\"vector-menu mw-portlet emptyPortlet\"  >\\n\\t<div class=\"vector-menu-content\">\\n\\t\\t\\n\\t\\t<ul class=\"vector-menu-content-list\">\\n\\t\\t\\t\\n\\t\\t\\t\\n\\t\\t</ul>\\n\\t\\t\\n\\t</div>\\n</div>\\n\\n\\t\\n<div id=\"p-vector-user-menu-overflow\" class=\"vector-menu mw-portlet\"  >\\n\\t<div class=\"vector-menu-content\">\\n\\t\\t\\n\\t\\t<ul class=\"vector-menu-content-list\">\\n\\t\\t\\t<li id=\"pt-sitesupport-2\" class=\"user-links-collapsible-item mw-list-item user-links-collapsible-item\"><a data-mw=\"interface\" href=\"https://donate.wikimedia.org/?wmf_source=donate&amp;wmf_medium=sidebar&amp;wmf_campaign=es.wikipedia.org&amp;uselang=es\" class=\"\"><span>Donaciones</span></a>\\n</li>\\n<li id=\"pt-createaccount-2\" class=\"user-links-collapsible-item mw-list-item user-links-collapsible-item\"><a data-mw=\"interface\" href=\"/w/index.php?title=Especial:Crear_una_cuenta&amp;returnto=Anexo%3ALibros+m%C3%A1s+vendidos\" title=\"Te recomendamos crear una cuenta e iniciar sesión; sin embargo, no es obligatorio\" class=\"\"><span>Crear una cuenta</span></a>\\n</li>\\n<li id=\"pt-login-2\" class=\"user-links-collapsible-item mw-list-item user-links-collapsible-item\"><a data-mw=\"interface\" href=\"/w/index.php?title=Especial:Entrar&amp;returnto=Anexo%3ALibros+m%C3%A1s+vendidos\" title=\"Te recomendamos iniciar sesión, aunque no es obligatorio [o]\" accesskey=\"o\" class=\"\"><span>Acceder</span></a>\\n</li>\\n\\n\\t\\t\\t\\n\\t\\t</ul>\\n\\t\\t\\n\\t</div>\\n</div>\\n\\n\\t</div>\\n\\t\\n<div id=\"vector-user-links-dropdown\" class=\"vector-dropdown vector-user-menu vector-button-flush-right vector-user-menu-logged-out\"  title=\"Más opciones\" >\\n\\t<input type=\"checkbox\" id=\"vector-user-links-dropdown-checkbox\" role=\"button\" aria-haspopup=\"true\" data-event-name=\"ui.dropdown-vector-user-links-dropdown\" class=\"vector-dropdown-checkbox \"  aria-label=\"Herramientas personales\"  >\\n\\t<label id=\"vector-user-links-dropdown-label\" for=\"vector-user-links-dropdown-checkbox\" class=\"vector-dropdown-label cdx-button cdx-button--fake-button cdx-button--fake-button--enabled cdx-button--weight-quiet cdx-button--icon-only \" aria-hidden=\"true\"  ><span class=\"vector-icon mw-ui-icon-ellipsis mw-ui-icon-wikimedia-ellipsis\"></span>\\n\\n<span class=\"vector-dropdown-label-text\">Herramientas personales</span>\\n\\t</label>\\n\\t<div class=\"vector-dropdown-content\">\\n\\n\\n\\t\\t\\n<div id=\"p-personal\" class=\"vector-menu mw-portlet mw-portlet-personal user-links-collapsible-item\"  title=\"Menú de usuario\" >\\n\\t<div class=\"vector-menu-content\">\\n\\t\\t\\n\\t\\t<ul class=\"vector-menu-content-list\">\\n\\t\\t\\t\\n\\t\\t\\t<li id=\"pt-sitesupport\" class=\"user-links-collapsible-item mw-list-item\"><a href=\"https://donate.wikimedia.org/?wmf_source=donate&amp;wmf_medium=sidebar&amp;wmf_campaign=es.wikipedia.org&amp;uselang=es\"><span>Donaciones</span></a></li><li id=\"pt-createaccount\" class=\"user-links-collapsible-item mw-list-item\"><a href=\"/w/index.php?title=Especial:Crear_una_cuenta&amp;returnto=Anexo%3ALibros+m%C3%A1s+vendidos\" title=\"Te recomendamos crear una cuenta e iniciar sesión; sin embargo, no es obligatorio\"><span class=\"vector-icon mw-ui-icon-userAdd mw-ui-icon-wikimedia-userAdd\"></span> <span>Crear una cuenta</span></a></li><li id=\"pt-login\" class=\"user-links-collapsible-item mw-list-item\"><a href=\"/w/index.php?title=Especial:Entrar&amp;returnto=Anexo%3ALibros+m%C3%A1s+vendidos\" title=\"Te recomendamos iniciar sesión, aunque no es obligatorio [o]\" accesskey=\"o\"><span class=\"vector-icon mw-ui-icon-logIn mw-ui-icon-wikimedia-logIn\"></span> <span>Acceder</span></a></li>\\n\\t\\t</ul>\\n\\t\\t\\n\\t</div>\\n</div>\\n\\n<div id=\"p-user-menu-anon-editor\" class=\"vector-menu mw-portlet mw-portlet-user-menu-anon-editor\"  >\\n\\t<div class=\"vector-menu-heading\">\\n\\t\\tPáginas para editores desconectados <a href=\"/wiki/Ayuda:Introducci%C3%B3n\" aria-label=\"Obtenga más información sobre editar\"><span>más información</span></a>\\n\\t</div>\\n\\t<div class=\"vector-menu-content\">\\n\\t\\t\\n\\t\\t<ul class=\"vector-menu-content-list\">\\n\\t\\t\\t\\n\\t\\t\\t<li id=\"pt-anoncontribs\" class=\"mw-list-item\"><a href=\"/wiki/Especial:MisContribuciones\" title=\"Una lista de modificaciones hechas desde esta dirección IP [y]\" accesskey=\"y\"><span>Contribuciones</span></a></li><li id=\"pt-anontalk\" class=\"mw-list-item\"><a href=\"/wiki/Especial:MiDiscusi%C3%B3n\" title=\"Discusión sobre ediciones hechas desde esta dirección IP [n]\" accesskey=\"n\"><span>Discusión</span></a></li>\\n\\t\\t</ul>\\n\\t\\t\\n\\t</div>\\n</div>\\n\\n\\t\\n\\t</div>\\n</div>\\n\\n</nav>\\n\\n\\t\\t</div>\\n\\t</header>\\n</div>\\n<div class=\"mw-page-container\">\\n\\t<div class=\"mw-page-container-inner\">\\n\\t\\t<div class=\"vector-sitenotice-container\">\\n\\t\\t\\t<div id=\"siteNotice\"><!-- CentralNotice --></div>\\n\\t\\t</div>\\n\\t\\t<div class=\"vector-column-start\">\\n\\t\\t\\t<div class=\"vector-main-menu-container\">\\n\\t\\t<div id=\"mw-navigation\">\\n\\t\\t\\t<nav id=\"mw-panel\" class=\"vector-main-menu-landmark\" aria-label=\"Sitio\">\\n\\t\\t\\t\\t<div id=\"vector-main-menu-pinned-container\" class=\"vector-pinned-container\">\\n\\t\\t\\t\\t\\n\\t\\t\\t\\t</div>\\n\\t\\t</nav>\\n\\t\\t</div>\\n\\t</div>\\n\\t<div class=\"vector-sticky-pinned-container\">\\n\\t\\t\\t\\t<nav id=\"mw-panel-toc\" aria-label=\"Contenidos\" data-event-name=\"ui.sidebar-toc\" class=\"mw-table-of-contents-container vector-toc-landmark\">\\n\\t\\t\\t\\t\\t<div id=\"vector-toc-pinned-container\" class=\"vector-pinned-container\">\\n\\t\\t\\t\\t\\t<div id=\"vector-toc\" class=\"vector-toc vector-pinnable-element\">\\n\\t<div\\n\\tclass=\"vector-pinnable-header vector-toc-pinnable-header vector-pinnable-header-pinned\"\\n\\tdata-feature-name=\"toc-pinned\"\\n\\tdata-pinnable-element-id=\"vector-toc\"\\n\\t\\n\\t\\n>\\n\\t<h2 class=\"vector-pinnable-header-label\">Contenidos</h2>\\n\\t<button class=\"vector-pinnable-header-toggle-button vector-pinnable-header-pin-button\" data-event-name=\"pinnable-header.vector-toc.pin\">mover a la barra lateral</button>\\n\\t<button class=\"vector-pinnable-header-toggle-button vector-pinnable-header-unpin-button\" data-event-name=\"pinnable-header.vector-toc.unpin\">ocultar</button>\\n</div>\\n\\n\\n\\t<ul class=\"vector-toc-contents\" id=\"mw-panel-toc-list\">\\n\\t\\t<li id=\"toc-mw-content-text\"\\n\\t\\t\\tclass=\"vector-toc-list-item vector-toc-level-1\">\\n\\t\\t\\t<a href=\"#\" class=\"vector-toc-link\">\\n\\t\\t\\t\\t<div class=\"vector-toc-text\">Inicio</div>\\n\\t\\t\\t</a>\\n\\t\\t</li>\\n\\t\\t<li id=\"toc-Más_de_cien_millones_de_ejemplares\"\\n\\t\\tclass=\"vector-toc-list-item vector-toc-level-1 vector-toc-list-item-expanded\">\\n\\t\\t<a class=\"vector-toc-link\" href=\"#Más_de_cien_millones_de_ejemplares\">\\n\\t\\t\\t<div class=\"vector-toc-text\">\\n\\t\\t\\t\\t<span class=\"vector-toc-numb\">1</span>\\n\\t\\t\\t\\t<span>Más de cien millones de ejemplares</span>\\n\\t\\t\\t</div>\\n\\t\\t</a>\\n\\t\\t\\n\\t\\t<ul id=\"toc-Más_de_cien_millones_de_ejemplares-sublist\" class=\"vector-toc-list\">\\n\\t\\t</ul>\\n\\t</li>\\n\\t<li id=\"toc-Entre_cincuenta_y_cien_millones_de_ejemplares\"\\n\\t\\tclass=\"vector-toc-list-item vector-toc-level-1 vector-toc-list-item-expanded\">\\n\\t\\t<a class=\"vector-toc-link\" href=\"#Entre_cincuenta_y_cien_millones_de_ejemplares\">\\n\\t\\t\\t<div class=\"vector-toc-text\">\\n\\t\\t\\t\\t<span class=\"vector-toc-numb\">2</span>\\n\\t\\t\\t\\t<span>Entre cincuenta y cien millones de ejemplares</span>\\n\\t\\t\\t</div>\\n\\t\\t</a>\\n\\t\\t\\n\\t\\t<ul id=\"toc-Entre_cincuenta_y_cien_millones_de_ejemplares-sublist\" class=\"vector-toc-list\">\\n\\t\\t</ul>\\n\\t</li>\\n\\t<li id=\"toc-Entre_treinta_y_cincuenta_millones_de_ejemplares\"\\n\\t\\tclass=\"vector-toc-list-item vector-toc-level-1 vector-toc-list-item-expanded\">\\n\\t\\t<a class=\"vector-toc-link\" href=\"#Entre_treinta_y_cincuenta_millones_de_ejemplares\">\\n\\t\\t\\t<div class=\"vector-toc-text\">\\n\\t\\t\\t\\t<span class=\"vector-toc-numb\">3</span>\\n\\t\\t\\t\\t<span>Entre treinta y cincuenta millones de ejemplares</span>\\n\\t\\t\\t</div>\\n\\t\\t</a>\\n\\t\\t\\n\\t\\t<ul id=\"toc-Entre_treinta_y_cincuenta_millones_de_ejemplares-sublist\" class=\"vector-toc-list\">\\n\\t\\t</ul>\\n\\t</li>\\n\\t<li id=\"toc-Entre_veinte_y_treinta_millones_de_ejemplares\"\\n\\t\\tclass=\"vector-toc-list-item vector-toc-level-1 vector-toc-list-item-expanded\">\\n\\t\\t<a class=\"vector-toc-link\" href=\"#Entre_veinte_y_treinta_millones_de_ejemplares\">\\n\\t\\t\\t<div class=\"vector-toc-text\">\\n\\t\\t\\t\\t<span class=\"vector-toc-numb\">4</span>\\n\\t\\t\\t\\t<span>Entre veinte y treinta millones de ejemplares</span>\\n\\t\\t\\t</div>\\n\\t\\t</a>\\n\\t\\t\\n\\t\\t<ul id=\"toc-Entre_veinte_y_treinta_millones_de_ejemplares-sublist\" class=\"vector-toc-list\">\\n\\t\\t</ul>\\n\\t</li>\\n\\t<li id=\"toc-Entre_diez_y_veinte_millones_de_ejemplares\"\\n\\t\\tclass=\"vector-toc-list-item vector-toc-level-1 vector-toc-list-item-expanded\">\\n\\t\\t<a class=\"vector-toc-link\" href=\"#Entre_diez_y_veinte_millones_de_ejemplares\">\\n\\t\\t\\t<div class=\"vector-toc-text\">\\n\\t\\t\\t\\t<span class=\"vector-toc-numb\">5</span>\\n\\t\\t\\t\\t<span>Entre diez y veinte millones de ejemplares</span>\\n\\t\\t\\t</div>\\n\\t\\t</a>\\n\\t\\t\\n\\t\\t<ul id=\"toc-Entre_diez_y_veinte_millones_de_ejemplares-sublist\" class=\"vector-toc-list\">\\n\\t\\t</ul>\\n\\t</li>\\n\\t<li id=\"toc-Véase_también\"\\n\\t\\tclass=\"vector-toc-list-item vector-toc-level-1 vector-toc-list-item-expanded\">\\n\\t\\t<a class=\"vector-toc-link\" href=\"#Véase_también\">\\n\\t\\t\\t<div class=\"vector-toc-text\">\\n\\t\\t\\t\\t<span class=\"vector-toc-numb\">6</span>\\n\\t\\t\\t\\t<span>Véase también</span>\\n\\t\\t\\t</div>\\n\\t\\t</a>\\n\\t\\t\\n\\t\\t<ul id=\"toc-Véase_también-sublist\" class=\"vector-toc-list\">\\n\\t\\t</ul>\\n\\t</li>\\n\\t<li id=\"toc-Notas\"\\n\\t\\tclass=\"vector-toc-list-item vector-toc-level-1 vector-toc-list-item-expanded\">\\n\\t\\t<a class=\"vector-toc-link\" href=\"#Notas\">\\n\\t\\t\\t<div class=\"vector-toc-text\">\\n\\t\\t\\t\\t<span class=\"vector-toc-numb\">7</span>\\n\\t\\t\\t\\t<span>Notas</span>\\n\\t\\t\\t</div>\\n\\t\\t</a>\\n\\t\\t\\n\\t\\t<ul id=\"toc-Notas-sublist\" class=\"vector-toc-list\">\\n\\t\\t</ul>\\n\\t</li>\\n\\t<li id=\"toc-Referencias\"\\n\\t\\tclass=\"vector-toc-list-item vector-toc-level-1 vector-toc-list-item-expanded\">\\n\\t\\t<a class=\"vector-toc-link\" href=\"#Referencias\">\\n\\t\\t\\t<div class=\"vector-toc-text\">\\n\\t\\t\\t\\t<span class=\"vector-toc-numb\">8</span>\\n\\t\\t\\t\\t<span>Referencias</span>\\n\\t\\t\\t</div>\\n\\t\\t</a>\\n\\t\\t\\n\\t\\t<ul id=\"toc-Referencias-sublist\" class=\"vector-toc-list\">\\n\\t\\t</ul>\\n\\t</li>\\n\\t<li id=\"toc-Enlaces_externos\"\\n\\t\\tclass=\"vector-toc-list-item vector-toc-level-1 vector-toc-list-item-expanded\">\\n\\t\\t<a class=\"vector-toc-link\" href=\"#Enlaces_externos\">\\n\\t\\t\\t<div class=\"vector-toc-text\">\\n\\t\\t\\t\\t<span class=\"vector-toc-numb\">9</span>\\n\\t\\t\\t\\t<span>Enlaces externos</span>\\n\\t\\t\\t</div>\\n\\t\\t</a>\\n\\t\\t\\n\\t\\t<ul id=\"toc-Enlaces_externos-sublist\" class=\"vector-toc-list\">\\n\\t\\t</ul>\\n\\t</li>\\n</ul>\\n</div>\\n\\n\\t\\t\\t\\t\\t</div>\\n\\t\\t</nav>\\n\\t\\t\\t</div>\\n\\t\\t</div>\\n\\t\\t<div class=\"mw-content-container\">\\n\\t\\t\\t<main id=\"content\" class=\"mw-body\">\\n\\t\\t\\t\\t<header class=\"mw-body-header vector-page-titlebar\">\\n\\t\\t\\t\\t\\t<nav aria-label=\"Contenidos\" class=\"vector-toc-landmark\">\\n\\t\\t\\t\\t\\t\\t\\n<div id=\"vector-page-titlebar-toc\" class=\"vector-dropdown vector-page-titlebar-toc vector-button-flush-left\"  title=\"Tabla de contenidos\" >\\n\\t<input type=\"checkbox\" id=\"vector-page-titlebar-toc-checkbox\" role=\"button\" aria-haspopup=\"true\" data-event-name=\"ui.dropdown-vector-page-titlebar-toc\" class=\"vector-dropdown-checkbox \"  aria-label=\"Cambiar a la tabla de contenidos\"  >\\n\\t<label id=\"vector-page-titlebar-toc-label\" for=\"vector-page-titlebar-toc-checkbox\" class=\"vector-dropdown-label cdx-button cdx-button--fake-button cdx-button--fake-button--enabled cdx-button--weight-quiet cdx-button--icon-only \" aria-hidden=\"true\"  ><span class=\"vector-icon mw-ui-icon-listBullet mw-ui-icon-wikimedia-listBullet\"></span>\\n\\n<span class=\"vector-dropdown-label-text\">Cambiar a la tabla de contenidos</span>\\n\\t</label>\\n\\t<div class=\"vector-dropdown-content\">\\n\\n\\n\\t\\t\\t\\t\\t\\t\\t<div id=\"vector-page-titlebar-toc-unpinned-container\" class=\"vector-unpinned-container\">\\n\\t\\t\\t</div>\\n\\t\\t\\n\\t</div>\\n</div>\\n\\n\\t\\t\\t\\t\\t</nav>\\n\\t\\t\\t\\t\\t<h1 id=\"firstHeading\" class=\"firstHeading mw-first-heading\"><span class=\"mw-page-title-namespace\">Anexo</span><span class=\"mw-page-title-separator\">:</span><span class=\"mw-page-title-main\">Libros más vendidos</span></h1>\\n\\t\\t\\t\\t\\t\\t\\t\\n<div id=\"p-lang-btn\" class=\"vector-dropdown mw-portlet mw-portlet-lang\"  >\\n\\t<input type=\"checkbox\" id=\"p-lang-btn-checkbox\" role=\"button\" aria-haspopup=\"true\" data-event-name=\"ui.dropdown-p-lang-btn\" class=\"vector-dropdown-checkbox mw-interlanguage-selector\" aria-label=\"Ir a un artículo en otro idioma. Disponible en 22 idiomas\"   >\\n\\t<label id=\"p-lang-btn-label\" for=\"p-lang-btn-checkbox\" class=\"vector-dropdown-label cdx-button cdx-button--fake-button cdx-button--fake-button--enabled cdx-button--weight-quiet cdx-button--action-progressive mw-portlet-lang-heading-22\" aria-hidden=\"true\"  ><span class=\"vector-icon mw-ui-icon-language-progressive mw-ui-icon-wikimedia-language-progressive\"></span>\\n\\n<span class=\"vector-dropdown-label-text\">22 idiomas</span>\\n\\t</label>\\n\\t<div class=\"vector-dropdown-content\">\\n\\n\\t\\t<div class=\"vector-menu-content\">\\n\\t\\t\\t\\n\\t\\t\\t<ul class=\"vector-menu-content-list\">\\n\\t\\t\\t\\t\\n\\t\\t\\t\\t<li class=\"interlanguage-link interwiki-ar mw-list-item\"><a href=\"https://ar.wikipedia.org/wiki/%D9%82%D8%A7%D8%A6%D9%85%D8%A9_%D8%A3%D9%83%D8%AB%D8%B1_%D8%A7%D9%84%D9%83%D8%AA%D8%A8_%D9%85%D8%A8%D9%8A%D8%B9%D8%A7\" title=\"قائمة أكثر الكتب مبيعا – árabe\" lang=\"ar\" hreflang=\"ar\" data-title=\"قائمة أكثر الكتب مبيعا\" data-language-autonym=\"العربية\" data-language-local-name=\"árabe\" class=\"interlanguage-link-target\"><span>العربية</span></a></li><li class=\"interlanguage-link interwiki-az mw-list-item\"><a href=\"https://az.wikipedia.org/wiki/%C6%8Fn_%C3%A7ox_sat%C4%B1lan_kitablar%C4%B1n_siyah%C4%B1s%C4%B1\" title=\"Ən çox satılan kitabların siyahısı – azerbaiyano\" lang=\"az\" hreflang=\"az\" data-title=\"Ən çox satılan kitabların siyahısı\" data-language-autonym=\"Azərbaycanca\" data-language-local-name=\"azerbaiyano\" class=\"interlanguage-link-target\"><span>Azərbaycanca</span></a></li><li class=\"interlanguage-link interwiki-ca mw-list-item\"><a href=\"https://ca.wikipedia.org/wiki/Llista_dels_llibres_m%C3%A9s_venuts\" title=\"Llista dels llibres més venuts – catalán\" lang=\"ca\" hreflang=\"ca\" data-title=\"Llista dels llibres més venuts\" data-language-autonym=\"Català\" data-language-local-name=\"catalán\" class=\"interlanguage-link-target\"><span>Català</span></a></li><li class=\"interlanguage-link interwiki-cs mw-list-item\"><a href=\"https://cs.wikipedia.org/wiki/Sv%C4%9Btov%C3%A9_bestsellery\" title=\"Světové bestsellery – checo\" lang=\"cs\" hreflang=\"cs\" data-title=\"Světové bestsellery\" data-language-autonym=\"Čeština\" data-language-local-name=\"checo\" class=\"interlanguage-link-target\"><span>Čeština</span></a></li><li class=\"interlanguage-link interwiki-el mw-list-item\"><a href=\"https://el.wikipedia.org/wiki/%CE%9A%CE%B1%CF%84%CE%AC%CE%BB%CE%BF%CE%B3%CE%BF%CF%82_%CE%B2%CE%B9%CE%B2%CE%BB%CE%AF%CF%89%CE%BD_%CE%BC%CE%B5_%CE%BA%CE%B1%CE%BB%CF%8D%CF%84%CE%B5%CF%81%CE%B5%CF%82_%CF%80%CF%89%CE%BB%CE%AE%CF%83%CE%B5%CE%B9%CF%82\" title=\"Κατάλογος βιβλίων με καλύτερες πωλήσεις – griego\" lang=\"el\" hreflang=\"el\" data-title=\"Κατάλογος βιβλίων με καλύτερες πωλήσεις\" data-language-autonym=\"Ελληνικά\" data-language-local-name=\"griego\" class=\"interlanguage-link-target\"><span>Ελληνικά</span></a></li><li class=\"interlanguage-link interwiki-en mw-list-item\"><a href=\"https://en.wikipedia.org/wiki/List_of_best-selling_books\" title=\"List of best-selling books – inglés\" lang=\"en\" hreflang=\"en\" data-title=\"List of best-selling books\" data-language-autonym=\"English\" data-language-local-name=\"inglés\" class=\"interlanguage-link-target\"><span>English</span></a></li><li class=\"interlanguage-link interwiki-eo mw-list-item\"><a href=\"https://eo.wikipedia.org/wiki/Listo_de_sukcesaj_libroj\" title=\"Listo de sukcesaj libroj – esperanto\" lang=\"eo\" hreflang=\"eo\" data-title=\"Listo de sukcesaj libroj\" data-language-autonym=\"Esperanto\" data-language-local-name=\"esperanto\" class=\"interlanguage-link-target\"><span>Esperanto</span></a></li><li class=\"interlanguage-link interwiki-fa mw-list-item\"><a href=\"https://fa.wikipedia.org/wiki/%D9%81%D9%87%D8%B1%D8%B3%D8%AA_%D9%BE%D8%B1%D9%81%D8%B1%D9%88%D8%B4%E2%80%8C%D8%AA%D8%B1%DB%8C%D9%86_%DA%A9%D8%AA%D8%A7%D8%A8%E2%80%8C%D9%87%D8%A7%DB%8C_%D8%AA%D8%A7%D8%B1%DB%8C%D8%AE\" title=\"فهرست پرفروش\\u200cترین کتاب\\u200cهای تاریخ – persa\" lang=\"fa\" hreflang=\"fa\" data-title=\"فهرست پرفروش\\u200cترین کتاب\\u200cهای تاریخ\" data-language-autonym=\"فارسی\" data-language-local-name=\"persa\" class=\"interlanguage-link-target\"><span>فارسی</span></a></li><li class=\"interlanguage-link interwiki-he mw-list-item\"><a href=\"https://he.wikipedia.org/wiki/%D7%94%D7%A1%D7%A4%D7%A8%D7%99%D7%9D_%D7%94%D7%A0%D7%9E%D7%9B%D7%A8%D7%99%D7%9D_%D7%91%D7%99%D7%95%D7%AA%D7%A8_%D7%91%D7%9B%D7%9C_%D7%94%D7%96%D7%9E%D7%A0%D7%99%D7%9D\" title=\"הספרים הנמכרים ביותר בכל הזמנים – hebreo\" lang=\"he\" hreflang=\"he\" data-title=\"הספרים הנמכרים ביותר בכל הזמנים\" data-language-autonym=\"עברית\" data-language-local-name=\"hebreo\" class=\"interlanguage-link-target\"><span>עברית</span></a></li><li class=\"interlanguage-link interwiki-id mw-list-item\"><a href=\"https://id.wikipedia.org/wiki/Daftar_buku_terlaris\" title=\"Daftar buku terlaris – indonesio\" lang=\"id\" hreflang=\"id\" data-title=\"Daftar buku terlaris\" data-language-autonym=\"Bahasa Indonesia\" data-language-local-name=\"indonesio\" class=\"interlanguage-link-target\"><span>Bahasa Indonesia</span></a></li><li class=\"interlanguage-link interwiki-it mw-list-item\"><a href=\"https://it.wikipedia.org/wiki/Libri_pi%C3%B9_venduti\" title=\"Libri più venduti – italiano\" lang=\"it\" hreflang=\"it\" data-title=\"Libri più venduti\" data-language-autonym=\"Italiano\" data-language-local-name=\"italiano\" class=\"interlanguage-link-target\"><span>Italiano</span></a></li><li class=\"interlanguage-link interwiki-ja mw-list-item\"><a href=\"https://ja.wikipedia.org/wiki/%E3%83%99%E3%82%B9%E3%83%88%E3%82%BB%E3%83%A9%E3%83%BC%E6%9C%AC%E3%81%AE%E4%B8%80%E8%A6%A7\" title=\"ベストセラー本の一覧 – japonés\" lang=\"ja\" hreflang=\"ja\" data-title=\"ベストセラー本の一覧\" data-language-autonym=\"日本語\" data-language-local-name=\"japonés\" class=\"interlanguage-link-target\"><span>日本語</span></a></li><li class=\"interlanguage-link interwiki-ko mw-list-item\"><a href=\"https://ko.wikipedia.org/wiki/%EA%B0%80%EC%9E%A5_%EB%A7%8E%EC%9D%B4_%ED%8C%94%EB%A6%B0_%EC%B1%85_%EB%AA%A9%EB%A1%9D\" title=\"가장 많이 팔린 책 목록 – coreano\" lang=\"ko\" hreflang=\"ko\" data-title=\"가장 많이 팔린 책 목록\" data-language-autonym=\"한국어\" data-language-local-name=\"coreano\" class=\"interlanguage-link-target\"><span>한국어</span></a></li><li class=\"interlanguage-link interwiki-ky mw-list-item\"><a href=\"https://ky.wikipedia.org/wiki/%D0%94%D2%AF%D0%B9%D0%BD%D3%A9_%D0%B6%D2%AF%D0%B7%D2%AF_%D0%B1%D0%BE%D1%8E%D0%BD%D1%87%D0%B0_%D1%8D%D2%A3_%D0%BA%D3%A9%D0%BF_%D1%81%D0%B0%D1%82%D1%8B%D0%BB%D0%B3%D0%B0%D0%BD_%D0%BA%D0%B8%D1%82%D0%B5%D0%BF%D1%82%D0%B5%D1%80%D0%B4%D0%B8%D0%BD_%D1%82%D0%B8%D0%B7%D0%BC%D0%B5%D1%81%D0%B8\" title=\"Дүйнө жүзү боюнча эң көп сатылган китептердин тизмеси – kirguís\" lang=\"ky\" hreflang=\"ky\" data-title=\"Дүйнө жүзү боюнча эң көп сатылган китептердин тизмеси\" data-language-autonym=\"Кыргызча\" data-language-local-name=\"kirguís\" class=\"interlanguage-link-target\"><span>Кыргызча</span></a></li><li class=\"interlanguage-link interwiki-pl mw-list-item\"><a href=\"https://pl.wikipedia.org/wiki/Lista_najlepiej_sprzedaj%C4%85cych_si%C4%99_ksi%C4%85%C5%BCek\" title=\"Lista najlepiej sprzedających się książek – polaco\" lang=\"pl\" hreflang=\"pl\" data-title=\"Lista najlepiej sprzedających się książek\" data-language-autonym=\"Polski\" data-language-local-name=\"polaco\" class=\"interlanguage-link-target\"><span>Polski</span></a></li><li class=\"interlanguage-link interwiki-pt mw-list-item\"><a href=\"https://pt.wikipedia.org/wiki/Lista_de_livros_mais_vendidos\" title=\"Lista de livros mais vendidos – portugués\" lang=\"pt\" hreflang=\"pt\" data-title=\"Lista de livros mais vendidos\" data-language-autonym=\"Português\" data-language-local-name=\"portugués\" class=\"interlanguage-link-target\"><span>Português</span></a></li><li class=\"interlanguage-link interwiki-ro mw-list-item\"><a href=\"https://ro.wikipedia.org/wiki/Lista_celor_mai_bine_v%C3%A2ndute_c%C4%83r%C8%9Bi\" title=\"Lista celor mai bine vândute cărți – rumano\" lang=\"ro\" hreflang=\"ro\" data-title=\"Lista celor mai bine vândute cărți\" data-language-autonym=\"Română\" data-language-local-name=\"rumano\" class=\"interlanguage-link-target\"><span>Română</span></a></li><li class=\"interlanguage-link interwiki-simple mw-list-item\"><a href=\"https://simple.wikipedia.org/wiki/List_of_best-selling_books\" title=\"List of best-selling books – Simple English\" lang=\"en-simple\" hreflang=\"en-simple\" data-title=\"List of best-selling books\" data-language-autonym=\"Simple English\" data-language-local-name=\"Simple English\" class=\"interlanguage-link-target\"><span>Simple English</span></a></li><li class=\"interlanguage-link interwiki-tr mw-list-item\"><a href=\"https://tr.wikipedia.org/wiki/D%C3%BCnya_%C3%A7ap%C4%B1nda_en_%C3%A7ok_satan_kitaplar_listesi\" title=\"Dünya çapında en çok satan kitaplar listesi – turco\" lang=\"tr\" hreflang=\"tr\" data-title=\"Dünya çapında en çok satan kitaplar listesi\" data-language-autonym=\"Türkçe\" data-language-local-name=\"turco\" class=\"interlanguage-link-target\"><span>Türkçe</span></a></li><li class=\"interlanguage-link interwiki-uz mw-list-item\"><a href=\"https://uz.wikipedia.org/wiki/Dunyo_bo%CA%BBylab_eng_ko%CA%BBp_sotilgan_kitoblar_ro%CA%BByxati\" title=\"Dunyo boʻylab eng koʻp sotilgan kitoblar roʻyxati – uzbeko\" lang=\"uz\" hreflang=\"uz\" data-title=\"Dunyo boʻylab eng koʻp sotilgan kitoblar roʻyxati\" data-language-autonym=\"Oʻzbekcha / ўзбекча\" data-language-local-name=\"uzbeko\" class=\"interlanguage-link-target\"><span>Oʻzbekcha / ўзбекча</span></a></li><li class=\"interlanguage-link interwiki-vi mw-list-item\"><a href=\"https://vi.wikipedia.org/wiki/Danh_s%C3%A1ch_s%C3%A1ch_b%C3%A1n_ch%E1%BA%A1y_nh%E1%BA%A5t\" title=\"Danh sách sách bán chạy nhất – vietnamita\" lang=\"vi\" hreflang=\"vi\" data-title=\"Danh sách sách bán chạy nhất\" data-language-autonym=\"Tiếng Việt\" data-language-local-name=\"vietnamita\" class=\"interlanguage-link-target\"><span>Tiếng Việt</span></a></li><li class=\"interlanguage-link interwiki-zh mw-list-item\"><a href=\"https://zh.wikipedia.org/wiki/%E6%9A%A2%E9%8A%B7%E6%9B%B8%E7%B1%8D%E5%88%97%E8%A1%A8\" title=\"暢銷書籍列表 – chino\" lang=\"zh\" hreflang=\"zh\" data-title=\"暢銷書籍列表\" data-language-autonym=\"中文\" data-language-local-name=\"chino\" class=\"interlanguage-link-target\"><span>中文</span></a></li>\\n\\t\\t\\t</ul>\\n\\t\\t\\t<div class=\"after-portlet after-portlet-lang\"><span class=\"wb-langlinks-edit wb-langlinks-link\"><a href=\"https://www.wikidata.org/wiki/Special:EntityPage/Q1076527#sitelinks-wikipedia\" title=\"Editar enlaces interlingüísticos\" class=\"wbc-editpage\">Editar enlaces</a></span></div>\\n\\t\\t</div>\\n\\n\\t</div>\\n</div>\\n</header>\\n\\t\\t\\t\\t<div class=\"vector-page-toolbar\">\\n\\t\\t\\t\\t\\t<div class=\"vector-page-toolbar-container\">\\n\\t\\t\\t\\t\\t\\t<div id=\"left-navigation\">\\n\\t\\t\\t\\t\\t\\t\\t<nav aria-label=\"Espacios de nombres\">\\n\\t\\t\\t\\t\\t\\t\\t\\t\\n<div id=\"p-associated-pages\" class=\"vector-menu vector-menu-tabs mw-portlet mw-portlet-associated-pages\"  >\\n\\t<div class=\"vector-menu-content\">\\n\\t\\t\\n\\t\\t<ul class=\"vector-menu-content-list\">\\n\\t\\t\\t\\n\\t\\t\\t<li id=\"ca-nstab-anexo\" class=\"selected vector-tab-noicon mw-list-item\"><a href=\"/wiki/Anexo:Libros_m%C3%A1s_vendidos\" title=\"Ver la página de contenido [c]\" accesskey=\"c\"><span>Anexo</span></a></li><li id=\"ca-talk\" class=\"vector-tab-noicon mw-list-item\"><a href=\"/wiki/Anexo_discusi%C3%B3n:Libros_m%C3%A1s_vendidos\" rel=\"discussion\" title=\"Discusión acerca de la página [t]\" accesskey=\"t\"><span>Discusión</span></a></li>\\n\\t\\t</ul>\\n\\t\\t\\n\\t</div>\\n</div>\\n\\n\\t\\t\\t\\t\\t\\t\\t\\t\\n<div id=\"vector-variants-dropdown\" class=\"vector-dropdown emptyPortlet\"  >\\n\\t<input type=\"checkbox\" id=\"vector-variants-dropdown-checkbox\" role=\"button\" aria-haspopup=\"true\" data-event-name=\"ui.dropdown-vector-variants-dropdown\" class=\"vector-dropdown-checkbox \" aria-label=\"Cambiar variante de idioma\"   >\\n\\t<label id=\"vector-variants-dropdown-label\" for=\"vector-variants-dropdown-checkbox\" class=\"vector-dropdown-label cdx-button cdx-button--fake-button cdx-button--fake-button--enabled cdx-button--weight-quiet\" aria-hidden=\"true\"  ><span class=\"vector-dropdown-label-text\">español</span>\\n\\t</label>\\n\\t<div class=\"vector-dropdown-content\">\\n\\n\\n\\t\\t\\t\\t\\t\\n<div id=\"p-variants\" class=\"vector-menu mw-portlet mw-portlet-variants emptyPortlet\"  >\\n\\t<div class=\"vector-menu-content\">\\n\\t\\t\\n\\t\\t<ul class=\"vector-menu-content-list\">\\n\\t\\t\\t\\n\\t\\t\\t\\n\\t\\t</ul>\\n\\t\\t\\n\\t</div>\\n</div>\\n\\n\\t\\t\\t\\t\\n\\t</div>\\n</div>\\n\\n\\t\\t\\t\\t\\t\\t\\t</nav>\\n\\t\\t\\t\\t\\t\\t</div>\\n\\t\\t\\t\\t\\t\\t<div id=\"right-navigation\" class=\"vector-collapsible\">\\n\\t\\t\\t\\t\\t\\t\\t<nav aria-label=\"Vistas\">\\n\\t\\t\\t\\t\\t\\t\\t\\t\\n<div id=\"p-views\" class=\"vector-menu vector-menu-tabs mw-portlet mw-portlet-views\"  >\\n\\t<div class=\"vector-menu-content\">\\n\\t\\t\\n\\t\\t<ul class=\"vector-menu-content-list\">\\n\\t\\t\\t\\n\\t\\t\\t<li id=\"ca-view\" class=\"selected vector-tab-noicon mw-list-item\"><a href=\"/wiki/Anexo:Libros_m%C3%A1s_vendidos\"><span>Leer</span></a></li><li id=\"ca-edit\" class=\"vector-tab-noicon mw-list-item\"><a href=\"/w/index.php?title=Anexo:Libros_m%C3%A1s_vendidos&amp;action=edit\" title=\"Editar esta página [e]\" accesskey=\"e\"><span>Editar</span></a></li><li id=\"ca-history\" class=\"vector-tab-noicon mw-list-item\"><a href=\"/w/index.php?title=Anexo:Libros_m%C3%A1s_vendidos&amp;action=history\" title=\"Versiones anteriores de esta página [h]\" accesskey=\"h\"><span>Ver historial</span></a></li>\\n\\t\\t</ul>\\n\\t\\t\\n\\t</div>\\n</div>\\n\\n\\t\\t\\t\\t\\t\\t\\t</nav>\\n\\t\\t\\t\\t\\n\\t\\t\\t\\t\\t\\t\\t<nav class=\"vector-page-tools-landmark\" aria-label=\"Página de herramientas\">\\n\\t\\t\\t\\t\\t\\t\\t\\t\\n<div id=\"vector-page-tools-dropdown\" class=\"vector-dropdown vector-page-tools-dropdown\"  >\\n\\t<input type=\"checkbox\" id=\"vector-page-tools-dropdown-checkbox\" role=\"button\" aria-haspopup=\"true\" data-event-name=\"ui.dropdown-vector-page-tools-dropdown\" class=\"vector-dropdown-checkbox \"  aria-label=\"Herramientas\"  >\\n\\t<label id=\"vector-page-tools-dropdown-label\" for=\"vector-page-tools-dropdown-checkbox\" class=\"vector-dropdown-label cdx-button cdx-button--fake-button cdx-button--fake-button--enabled cdx-button--weight-quiet\" aria-hidden=\"true\"  ><span class=\"vector-dropdown-label-text\">Herramientas</span>\\n\\t</label>\\n\\t<div class=\"vector-dropdown-content\">\\n\\n\\n\\t\\t\\t\\t\\t\\t\\t\\t\\t<div id=\"vector-page-tools-unpinned-container\" class=\"vector-unpinned-container\">\\n\\t\\t\\t\\t\\t\\t\\n<div id=\"vector-page-tools\" class=\"vector-page-tools vector-pinnable-element\">\\n\\t<div\\n\\tclass=\"vector-pinnable-header vector-page-tools-pinnable-header vector-pinnable-header-unpinned\"\\n\\tdata-feature-name=\"page-tools-pinned\"\\n\\tdata-pinnable-element-id=\"vector-page-tools\"\\n\\tdata-pinned-container-id=\"vector-page-tools-pinned-container\"\\n\\tdata-unpinned-container-id=\"vector-page-tools-unpinned-container\"\\n>\\n\\t<div class=\"vector-pinnable-header-label\">Herramientas</div>\\n\\t<button class=\"vector-pinnable-header-toggle-button vector-pinnable-header-pin-button\" data-event-name=\"pinnable-header.vector-page-tools.pin\">mover a la barra lateral</button>\\n\\t<button class=\"vector-pinnable-header-toggle-button vector-pinnable-header-unpin-button\" data-event-name=\"pinnable-header.vector-page-tools.unpin\">ocultar</button>\\n</div>\\n\\n\\t\\n<div id=\"p-cactions\" class=\"vector-menu mw-portlet mw-portlet-cactions emptyPortlet vector-has-collapsible-items\"  title=\"Más opciones\" >\\n\\t<div class=\"vector-menu-heading\">\\n\\t\\tAcciones\\n\\t</div>\\n\\t<div class=\"vector-menu-content\">\\n\\t\\t\\n\\t\\t<ul class=\"vector-menu-content-list\">\\n\\t\\t\\t\\n\\t\\t\\t<li id=\"ca-more-view\" class=\"selected vector-more-collapsible-item mw-list-item\"><a href=\"/wiki/Anexo:Libros_m%C3%A1s_vendidos\"><span>Leer</span></a></li><li id=\"ca-more-edit\" class=\"vector-more-collapsible-item mw-list-item\"><a href=\"/w/index.php?title=Anexo:Libros_m%C3%A1s_vendidos&amp;action=edit\" title=\"Editar esta página [e]\" accesskey=\"e\"><span>Editar</span></a></li><li id=\"ca-more-history\" class=\"vector-more-collapsible-item mw-list-item\"><a href=\"/w/index.php?title=Anexo:Libros_m%C3%A1s_vendidos&amp;action=history\"><span>Ver historial</span></a></li>\\n\\t\\t</ul>\\n\\t\\t\\n\\t</div>\\n</div>\\n\\n<div id=\"p-tb\" class=\"vector-menu mw-portlet mw-portlet-tb\"  >\\n\\t<div class=\"vector-menu-heading\">\\n\\t\\tGeneral\\n\\t</div>\\n\\t<div class=\"vector-menu-content\">\\n\\t\\t\\n\\t\\t<ul class=\"vector-menu-content-list\">\\n\\t\\t\\t\\n\\t\\t\\t<li id=\"t-whatlinkshere\" class=\"mw-list-item\"><a href=\"/wiki/Especial:LoQueEnlazaAqu%C3%AD/Anexo:Libros_m%C3%A1s_vendidos\" title=\"Lista de todas las páginas de la wiki que enlazan aquí [j]\" accesskey=\"j\"><span>Lo que enlaza aquí</span></a></li><li id=\"t-recentchangeslinked\" class=\"mw-list-item\"><a href=\"/wiki/Especial:CambiosEnEnlazadas/Anexo:Libros_m%C3%A1s_vendidos\" rel=\"nofollow\" title=\"Cambios recientes en las páginas que enlazan con esta [k]\" accesskey=\"k\"><span>Cambios en enlazadas</span></a></li><li id=\"t-upload\" class=\"mw-list-item\"><a href=\"//commons.wikimedia.org/wiki/Special:UploadWizard?uselang=es\" title=\"Subir archivos [u]\" accesskey=\"u\"><span>Subir archivo</span></a></li><li id=\"t-permalink\" class=\"mw-list-item\"><a href=\"/w/index.php?title=Anexo:Libros_m%C3%A1s_vendidos&amp;oldid=165507398\" title=\"Enlace permanente a esta versión de la página\"><span>Enlace permanente</span></a></li><li id=\"t-info\" class=\"mw-list-item\"><a href=\"/w/index.php?title=Anexo:Libros_m%C3%A1s_vendidos&amp;action=info\" title=\"Más información sobre esta página\"><span>Información de la página</span></a></li><li id=\"t-cite\" class=\"mw-list-item\"><a href=\"/w/index.php?title=Especial:Citar&amp;page=Anexo%3ALibros_m%C3%A1s_vendidos&amp;id=165507398&amp;wpFormIdentifier=titleform\" title=\"Información sobre cómo citar esta página\"><span>Citar esta página</span></a></li><li id=\"t-urlshortener\" class=\"mw-list-item\"><a href=\"/w/index.php?title=Especial:Acortador_de_URL&amp;url=https%3A%2F%2Fes.wikipedia.org%2Fwiki%2FAnexo%3ALibros_m%25C3%25A1s_vendidos\"><span>Obtener URL acortado</span></a></li><li id=\"t-urlshortener-qrcode\" class=\"mw-list-item\"><a href=\"/w/index.php?title=Especial:QrCode&amp;url=https%3A%2F%2Fes.wikipedia.org%2Fwiki%2FAnexo%3ALibros_m%25C3%25A1s_vendidos\"><span>Descargar código QR</span></a></li>\\n\\t\\t</ul>\\n\\t\\t\\n\\t</div>\\n</div>\\n\\n<div id=\"p-coll-print_export\" class=\"vector-menu mw-portlet mw-portlet-coll-print_export\"  >\\n\\t<div class=\"vector-menu-heading\">\\n\\t\\tImprimir/exportar\\n\\t</div>\\n\\t<div class=\"vector-menu-content\">\\n\\t\\t\\n\\t\\t<ul class=\"vector-menu-content-list\">\\n\\t\\t\\t\\n\\t\\t\\t<li id=\"coll-create_a_book\" class=\"mw-list-item\"><a href=\"/w/index.php?title=Especial:Libro&amp;bookcmd=book_creator&amp;referer=Anexo%3ALibros+m%C3%A1s+vendidos\"><span>Crear un libro</span></a></li><li id=\"coll-download-as-rl\" class=\"mw-list-item\"><a href=\"/w/index.php?title=Especial:DownloadAsPdf&amp;page=Anexo%3ALibros_m%C3%A1s_vendidos&amp;action=show-download-screen\"><span>Descargar como PDF</span></a></li><li id=\"t-print\" class=\"mw-list-item\"><a href=\"/w/index.php?title=Anexo:Libros_m%C3%A1s_vendidos&amp;printable=yes\" title=\"Versión imprimible de esta página [p]\" accesskey=\"p\"><span>Versión para imprimir</span></a></li>\\n\\t\\t</ul>\\n\\t\\t\\n\\t</div>\\n</div>\\n\\n<div id=\"p-wikibase-otherprojects\" class=\"vector-menu mw-portlet mw-portlet-wikibase-otherprojects\"  >\\n\\t<div class=\"vector-menu-heading\">\\n\\t\\tEn otros proyectos\\n\\t</div>\\n\\t<div class=\"vector-menu-content\">\\n\\t\\t\\n\\t\\t<ul class=\"vector-menu-content-list\">\\n\\t\\t\\t\\n\\t\\t\\t<li id=\"t-wikibase\" class=\"wb-otherproject-link wb-otherproject-wikibase-dataitem mw-list-item\"><a href=\"https://www.wikidata.org/wiki/Special:EntityPage/Q1076527\" title=\"Enlace al elemento conectado del repositorio de datos [g]\" accesskey=\"g\"><span>Elemento de Wikidata</span></a></li>\\n\\t\\t</ul>\\n\\t\\t\\n\\t</div>\\n</div>\\n\\n</div>\\n\\n\\t\\t\\t\\t\\t\\t\\t\\t\\t</div>\\n\\t\\t\\t\\t\\n\\t</div>\\n</div>\\n\\n\\t\\t\\t\\t\\t\\t\\t</nav>\\n\\t\\t\\t\\t\\t\\t</div>\\n\\t\\t\\t\\t\\t</div>\\n\\t\\t\\t\\t</div>\\n\\t\\t\\t\\t<div class=\"vector-column-end\">\\n\\t\\t\\t\\t\\t<div class=\"vector-sticky-pinned-container\">\\n\\t\\t\\t\\t\\t\\t<nav class=\"vector-page-tools-landmark\" aria-label=\"Página de herramientas\">\\n\\t\\t\\t\\t\\t\\t\\t<div id=\"vector-page-tools-pinned-container\" class=\"vector-pinned-container\">\\n\\t\\t\\t\\t\\n\\t\\t\\t\\t\\t\\t\\t</div>\\n\\t\\t</nav>\\n\\t\\t\\t\\t\\t\\t<nav class=\"vector-appearance-landmark\" aria-label=\"Apariencia\">\\n\\t\\t\\t\\t\\t\\t\\t<div id=\"vector-appearance-pinned-container\" class=\"vector-pinned-container\">\\n\\t\\t\\t\\t<div id=\"vector-appearance\" class=\"vector-appearance vector-pinnable-element\">\\n\\t<div\\n\\tclass=\"vector-pinnable-header vector-appearance-pinnable-header vector-pinnable-header-pinned\"\\n\\tdata-feature-name=\"appearance-pinned\"\\n\\tdata-pinnable-element-id=\"vector-appearance\"\\n\\tdata-pinned-container-id=\"vector-appearance-pinned-container\"\\n\\tdata-unpinned-container-id=\"vector-appearance-unpinned-container\"\\n>\\n\\t<div class=\"vector-pinnable-header-label\">Apariencia</div>\\n\\t<button class=\"vector-pinnable-header-toggle-button vector-pinnable-header-pin-button\" data-event-name=\"pinnable-header.vector-appearance.pin\">mover a la barra lateral</button>\\n\\t<button class=\"vector-pinnable-header-toggle-button vector-pinnable-header-unpin-button\" data-event-name=\"pinnable-header.vector-appearance.unpin\">ocultar</button>\\n</div>\\n\\n\\n</div>\\n\\n\\t\\t\\t\\t\\t\\t\\t</div>\\n\\t\\t</nav>\\n\\t\\t\\t\\t\\t</div>\\n\\t\\t\\t\\t</div>\\n\\t\\t\\t\\t<div id=\"bodyContent\" class=\"vector-body\" aria-labelledby=\"firstHeading\" data-mw-ve-target-container>\\n\\t\\t\\t\\t\\t<div class=\"vector-body-before-content\">\\n\\t\\t\\t\\t\\t\\t\\t<div class=\"mw-indicators\">\\n\\t\\t</div>\\n\\n\\t\\t\\t\\t\\t\\t<div id=\"siteSub\" class=\"noprint\">De Wikipedia, la enciclopedia libre</div>\\n\\t\\t\\t\\t\\t</div>\\n\\t\\t\\t\\t\\t<div id=\"contentSub\"><div id=\"mw-content-subtitle\"></div></div>\\n\\t\\t\\t\\t\\t\\n\\t\\t\\t\\t\\t\\n\\t\\t\\t\\t\\t<div id=\"mw-content-text\" class=\"mw-body-content\"><div class=\"mw-content-ltr mw-parser-output\" lang=\"es\" dir=\"ltr\"><p>Este anexo provee una lista de los <b>libros más vendidos</b> en cualquier idioma. El concepto de «más vendido» (que generalmente se expresa mediante los términos <a href=\"/wiki/Superventas\" title=\"Superventas\">superventas</a> o <i>best-seller</i>) se refiere al número de copias (o a una estimación del mismo) que se han vendido de cada libro, y no a las que fueron impresas o distribuidas gratuitamente. No se incluyen en esta lista ni <a href=\"/wiki/C%C3%B3mic\" class=\"mw-redirect\" title=\"Cómic\">cómics</a>, ni <a href=\"/wiki/Libro_de_texto\" title=\"Libro de texto\">libros de texto</a>. Tampoco aparecen obras políticas, como las de <a href=\"/wiki/Mao_Zedong\" title=\"Mao Zedong\">Mao Zedong</a>, ni religiosas, como la <i><a href=\"/wiki/Biblia\" title=\"Biblia\">Biblia</a></i> (la obra más vendida de la historia, pero con ventas e impresiones muy inexactas) el <i><a href=\"/wiki/Cor%C3%A1n\" title=\"Corán\">Corán</a></i>, el <i><a href=\"/wiki/Libro_de_Morm%C3%B3n\" title=\"Libro de Mormón\">Libro de Mormón</a></i> o <i><a href=\"/wiki/%C2%BFQu%C3%A9_ense%C3%B1a_realmente_la_Biblia%3F\" title=\"¿Qué enseña realmente la Biblia?\">¿Qué enseña realmente la Biblia?</a></i>, que se han distribuido gratuitamente, indicadas en el <a href=\"/wiki/Anexo:Libros_m%C3%A1s_distribuidos\" title=\"Anexo:Libros más distribuidos\">anexo correspondiente a las obras más distribuidas</a>. Los libros se listan según las ventas máximas estimadas y reportadas por fuentes independientes y fidedignas.\\n</p><p>Hay varios casos, significativamente el de <i><a href=\"/wiki/El_ingenioso_hidalgo_Don_Quijote_de_la_Mancha\" class=\"mw-redirect\" title=\"El ingenioso hidalgo Don Quijote de la Mancha\">El ingenioso hidalgo Don Quijote de la Mancha</a></i> ―de <a href=\"/wiki/Miguel_de_Cervantes\" title=\"Miguel de Cervantes\">Miguel de Cervantes</a> (1605-1615), en <a href=\"/wiki/Idioma_espa%C3%B1ol\" title=\"Idioma español\">español</a>― para los que se suele reclamar un gran número de ejemplares vendidos a lo largo de la historia, presumiblemente el dato más alto de la lista,<sup id=\"cite_ref-1\" class=\"reference separada\"><a href=\"#cite_note-1\"><span class=\"corchete-llamada\">[</span>1<span class=\"corchete-llamada\">]</span></a></sup>&#8203;<sup id=\"cite_ref-2\" class=\"reference separada\"><a href=\"#cite_note-2\"><span class=\"corchete-llamada\">[</span>2<span class=\"corchete-llamada\">]</span></a></sup>&#8203; pero para los que ninguna fuente fiable da una cifra concreta. Para los casos más modernos de las series de <i><a href=\"/wiki/Harry_Potter\" title=\"Harry Potter\">Harry Potter</a></i> (<a href=\"/wiki/J._K._Rowling\" title=\"J. K. Rowling\">J. K. Rowling</a>, en <a href=\"/wiki/Idioma_ingl%C3%A9s\" title=\"Idioma inglés\">inglés</a>, 1997-2007) y <i><a href=\"/wiki/Crep%C3%BAsculo_(serie)\" title=\"Crepúsculo (serie)\">Crepúsculo</a></i> (<a href=\"/wiki/Stephenie_Meyer\" title=\"Stephenie Meyer\">Stephenie Meyer</a>, en inglés, 2005-2008), el problema es que no se hallan cifras de ventas de cada libro por separado, tan solo las del total de la colección, lo que obviamente no es comparable. Un cálculo aritmético elemental lleva a la conclusión  que, si las cifras totales de las series son correctas, al menos un título de cada una debiera entrar en el rango de esta lista.\\n</p>\\n<meta property=\"mw:PageProp/toc\" />\\n<div class=\"mw-heading mw-heading2\"><h2 id=\"Más_de_cien_millones_de_ejemplares\"><span id=\"M.C3.A1s_de_cien_millones_de_ejemplares\"></span>Más de cien millones de ejemplares</h2><span class=\"mw-editsection\"><span class=\"mw-editsection-bracket\">[</span><a href=\"/w/index.php?title=Anexo:Libros_m%C3%A1s_vendidos&amp;action=edit&amp;section=1\" title=\"Editar sección: Más de cien millones de ejemplares\"><span>editar</span></a><span class=\"mw-editsection-bracket\">]</span></span></div>\\n<table class=\"wikitable sortable\">\\n\\n<tbody><tr>\\n<th>Libro</th>\\n<th>Autor</th>\\n<th>Idioma original</th>\\n<th>Primera edición</th>\\n<th>Ventas aproximadas\\n</th></tr>\\n\\n<tr>\\n<td><i><a href=\"/wiki/Don_Quijote_de_la_Mancha\" title=\"Don Quijote de la Mancha\">Don Quijote</a></i></td>\\n<td><a href=\"/wiki/Miguel_de_Cervantes\" title=\"Miguel de Cervantes\">Miguel de Cervantes</a></td>\\n<td><a href=\"/wiki/Idioma_espa%C3%B1ol\" title=\"Idioma español\">Español</a></td>\\n<td>1605</td>\\n<td>Más de 500 millones\\n</td></tr>\\n<tr>\\n<td><i><a href=\"/wiki/Historia_de_dos_ciudades_(novela)\" title=\"Historia de dos ciudades (novela)\">Historia de dos ciudades</a></i> (<i>A Tale of Two Cities</i>)</td>\\n<td><a href=\"/wiki/Charles_Dickens\" title=\"Charles Dickens\">Charles Dickens</a></td>\\n<td><a href=\"/wiki/Idioma_ingl%C3%A9s\" title=\"Idioma inglés\">Inglés</a></td>\\n<td>1859</td>\\n<td>Más de 200 millones<sup id=\"cite_ref-3\" class=\"reference separada\"><a href=\"#cite_note-3\"><span class=\"corchete-llamada\">[</span>3<span class=\"corchete-llamada\">]</span></a></sup>&#8203;\\n</td></tr>\\n<tr>\\n<td><i><a href=\"/wiki/El_Se%C3%B1or_de_los_Anillos\" title=\"El Señor de los Anillos\">El Señor de los Anillos</a></i> (<i>The Lord of the Rings</i>)</td>\\n<td><a href=\"/wiki/J._R._R._Tolkien\" title=\"J. R. R. Tolkien\">J. R. R. Tolkien</a></td>\\n<td>Inglés</td>\\n<td>1954</td>\\n<td>150 millones<sup id=\"cite_ref-4\" class=\"reference separada\"><a href=\"#cite_note-4\"><span class=\"corchete-llamada\">[</span>4<span class=\"corchete-llamada\">]</span></a></sup>&#8203;<sup id=\"cite_ref-5\" class=\"reference separada\"><a href=\"#cite_note-5\"><span class=\"corchete-llamada\">[</span>5<span class=\"corchete-llamada\">]</span></a></sup>&#8203;\\n</td></tr>\\n<tr>\\n<td><i><a href=\"/wiki/Harry_Potter_y_la_piedra_filosofal\" title=\"Harry Potter y la piedra filosofal\">Harry Potter y la piedra filosofal</a> (Harry Potter and the Philosopher\\'s Stone)</i></td>\\n<td><a href=\"/wiki/J.K._Rowling\" class=\"mw-redirect\" title=\"J.K. Rowling\">J.K. Rowling</a></td>\\n<td><a href=\"/wiki/Idioma_Ingl%C3%A9s\" class=\"mw-redirect\" title=\"Idioma Inglés\">Inglés</a></td>\\n<td>1997</td>\\n<td>140 millones<sup id=\"cite_ref-6\" class=\"reference separada\"><a href=\"#cite_note-6\"><span class=\"corchete-llamada\">[</span>6<span class=\"corchete-llamada\">]</span></a></sup>&#8203;\\n</td></tr>\\n<tr>\\n<td><i><a href=\"/wiki/El_principito\" title=\"El principito\">El principito</a></i> (<i>Le Petit Prince</i>)</td>\\n<td><a href=\"/wiki/Antoine_de_Saint-Exup%C3%A9ry\" title=\"Antoine de Saint-Exupéry\">Antoine de Saint-Exupéry</a></td>\\n<td><a href=\"/wiki/Idioma_franc%C3%A9s\" title=\"Idioma francés\">Francés</a></td>\\n<td>1943</td>\\n<td>140 millones<sup id=\"cite_ref-7\" class=\"reference separada\"><a href=\"#cite_note-7\"><span class=\"corchete-llamada\">[</span>7<span class=\"corchete-llamada\">]</span></a></sup>&#8203;\\n</td></tr>\\n<tr>\\n<td><i><a href=\"/wiki/El_hobbit\" title=\"El hobbit\">El hobbit</a></i> (<i>The Hobbit</i>)</td>\\n<td><a href=\"/wiki/J._R._R._Tolkien\" title=\"J. R. R. Tolkien\">J. R. R. Tolkien</a></td>\\n<td>Inglés</td>\\n<td>1937</td>\\n<td>Más de 100 millones<sup id=\"cite_ref-8\" class=\"reference separada\"><a href=\"#cite_note-8\"><span class=\"corchete-llamada\">[</span>8<span class=\"corchete-llamada\">]</span></a></sup>&#8203;\\n</td></tr>\\n<tr>\\n<td><i><a href=\"/wiki/Sue%C3%B1o_en_el_pabell%C3%B3n_rojo\" title=\"Sueño en el pabellón rojo\">Sueño en el pabellón rojo</a></i> (红楼梦, <i>Hóng lóu mèng</i>)</td>\\n<td><a href=\"/wiki/Cao_Xueqin\" title=\"Cao Xueqin\">Cao Xueqin</a></td>\\n<td><a href=\"/wiki/Idioma_chino\" title=\"Idioma chino\">Chino</a></td>\\n<td>1759–1791</td>\\n<td>Más de 100 millones<sup id=\"cite_ref-9\" class=\"reference separada\"><a href=\"#cite_note-9\"><span class=\"corchete-llamada\">[</span>9<span class=\"corchete-llamada\">]</span></a></sup>&#8203;\\n</td></tr>\\n<tr>\\n<td><i><a href=\"/wiki/Triple_representatividad\" title=\"Triple representatividad\">Triple representatividad</a></i> (论三个代表, <i>Sānge dàibiǎo</i>)</td>\\n<td><a href=\"/wiki/Jiang_Zemin\" title=\"Jiang Zemin\">Jiang Zemin</a></td>\\n<td>Chino</td>\\n<td>2001</td>\\n<td>100 millones<sup id=\"cite_ref-chinascope_10-0\" class=\"reference separada\"><a href=\"#cite_note-chinascope-10\"><span class=\"corchete-llamada\">[</span>10<span class=\"corchete-llamada\">]</span></a></sup>&#8203;<sup id=\"cite_ref-11\" class=\"reference separada\"><a href=\"#cite_note-11\"><span class=\"corchete-llamada\">[</span>Nota 1<span class=\"corchete-llamada\">]</span></a></sup>&#8203;\\n</td></tr>\\n<tr>\\n<td><i><a href=\"/wiki/Diez_negritos\" title=\"Diez negritos\">Diez negritos</a></i></td>\\n<td><a href=\"/wiki/Agatha_Christie\" title=\"Agatha Christie\">Agatha Christie</a></td>\\n<td>Inglés</td>\\n<td>1939</td>\\n<td>100 millones<sup id=\"cite_ref-12\" class=\"reference separada\"><a href=\"#cite_note-12\"><span class=\"corchete-llamada\">[</span>11<span class=\"corchete-llamada\">]</span></a></sup>&#8203;\\n</td></tr>\\n<tr>\\n<td><i><a href=\"/wiki/Las_aventuras_de_Alicia_en_el_pa%C3%ADs_de_las_maravillas\" title=\"Las aventuras de Alicia en el país de las maravillas\">Las aventuras de Alicia en el país de las maravillas</a></i></td>\\n<td><a href=\"/wiki/Lewis_Carroll\" title=\"Lewis Carroll\">Lewis Carroll</a></td>\\n<td>Inglés</td>\\n<td>1865</td>\\n<td>Más de 100 millones<sup id=\"cite_ref-13\" class=\"reference separada\"><a href=\"#cite_note-13\"><span class=\"corchete-llamada\">[</span>12<span class=\"corchete-llamada\">]</span></a></sup>&#8203;\\n</td></tr></tbody></table>\\n<div class=\"mw-heading mw-heading2\"><h2 id=\"Entre_cincuenta_y_cien_millones_de_ejemplares\">Entre cincuenta y cien millones de ejemplares</h2><span class=\"mw-editsection\"><span class=\"mw-editsection-bracket\">[</span><a href=\"/w/index.php?title=Anexo:Libros_m%C3%A1s_vendidos&amp;action=edit&amp;section=2\" title=\"Editar sección: Entre cincuenta y cien millones de ejemplares\"><span>editar</span></a><span class=\"mw-editsection-bracket\">]</span></span></div>\\n<table class=\"wikitable sortable\">\\n\\n<tbody><tr>\\n<th>Libro</th>\\n<th>Autor</th>\\n<th>Idioma original</th>\\n<th>Primera edición</th>\\n<th>Ventas aproximadas\\n</th></tr>\\n<tr>\\n<td><i>El león, la bruja y el armario</i> o <i>El león, la bruja y el ropero</i> (<i><a href=\"/wiki/The_Lion,_the_Witch_and_the_Wardrobe\" title=\"The Lion, the Witch and the Wardrobe\">The Lion, the Witch and the Wardrobe</a></i>)</td>\\n<td><a href=\"/wiki/C._S._Lewis\" title=\"C. S. Lewis\">C. S. Lewis</a></td>\\n<td><a href=\"/wiki/Idioma_ingl%C3%A9s\" title=\"Idioma inglés\">Inglés</a></td>\\n<td>1950</td>\\n<td>85 millones<sup id=\"cite_ref-14\" class=\"reference separada\"><a href=\"#cite_note-14\"><span class=\"corchete-llamada\">[</span>13<span class=\"corchete-llamada\">]</span></a></sup>&#8203;\\n</td></tr>\\n<tr>\\n<td><i><a href=\"/wiki/Ella\" title=\"Ella\">Ella</a></i> (<i>She</i>)</td>\\n<td><a href=\"/wiki/Henry_Rider_Haggard\" class=\"mw-redirect\" title=\"Henry Rider Haggard\">Henry Rider Haggard</a></td>\\n<td>Inglés</td>\\n<td>1887</td>\\n<td>83 millones<sup id=\"cite_ref-15\" class=\"reference separada\"><a href=\"#cite_note-15\"><span class=\"corchete-llamada\">[</span>14<span class=\"corchete-llamada\">]</span></a></sup>&#8203;\\n</td></tr>\\n<tr>\\n<td><i><a href=\"/wiki/El_c%C3%B3digo_Da_Vinci\" title=\"El código Da Vinci\">El código Da Vinci</a></i> (<i>The Da Vinci Code</i>)</td>\\n<td><a href=\"/wiki/Dan_Brown\" title=\"Dan Brown\">Dan Brown</a></td>\\n<td>Inglés</td>\\n<td>2003</td>\\n<td>80 millones<sup id=\"cite_ref-16\" class=\"reference separada\"><a href=\"#cite_note-16\"><span class=\"corchete-llamada\">[</span>15<span class=\"corchete-llamada\">]</span></a></sup>&#8203;\\n</td></tr>\\n<tr>\\n<td><i><a href=\"/wiki/Harry_Potter_y_la_c%C3%A1mara_secreta\" title=\"Harry Potter y la cámara secreta\">Harry Potter y la cámara secreta</a> (Harry Potter and the Chamber of Secrets)</i></td>\\n<td><a href=\"/wiki/J.K._Rowling\" class=\"mw-redirect\" title=\"J.K. Rowling\">J.K. Rowling</a></td>\\n<td>Inglés</td>\\n<td>1998</td>\\n<td>77 millones<sup id=\"cite_ref-ElMundoHarryPotter_17-0\" class=\"reference separada\"><a href=\"#cite_note-ElMundoHarryPotter-17\"><span class=\"corchete-llamada\">[</span>16<span class=\"corchete-llamada\">]</span></a></sup>&#8203;\\n</td></tr>\\n<tr>\\n<td><i><a href=\"/wiki/Harry_Potter_y_el_prisionero_de_Azkaban\" title=\"Harry Potter y el prisionero de Azkaban\">Harry Potter y el prisionero de Azkaban</a> (Harry Potter and the Prisoner of Azkaban)</i></td>\\n<td><a href=\"/wiki/J.K._Rowling\" class=\"mw-redirect\" title=\"J.K. Rowling\">J.K. Rowling</a></td>\\n<td>Inglés</td>\\n<td>1999</td>\\n<td>65 millones<sup id=\"cite_ref-ElMundoHarryPotter_17-1\" class=\"reference separada\"><a href=\"#cite_note-ElMundoHarryPotter-17\"><span class=\"corchete-llamada\">[</span>16<span class=\"corchete-llamada\">]</span></a></sup>&#8203;\\n</td></tr>\\n<tr>\\n<td><i><a href=\"/wiki/Harry_Potter_y_las_reliquias_de_la_muerte\" class=\"mw-redirect\" title=\"Harry Potter y las reliquias de la muerte\">Harry Potter y las reliquias de la muerte</a> (Harry Potter and the Deathly Hallows)</i></td>\\n<td><a href=\"/wiki/J.K._Rowling\" class=\"mw-redirect\" title=\"J.K. Rowling\">J.K. Rowling</a></td>\\n<td>Inglés</td>\\n<td>2007</td>\\n<td>65 millones<sup id=\"cite_ref-ElMundoHarryPotter_17-2\" class=\"reference separada\"><a href=\"#cite_note-ElMundoHarryPotter-17\"><span class=\"corchete-llamada\">[</span>16<span class=\"corchete-llamada\">]</span></a></sup>&#8203;\\n</td></tr>\\n<tr>\\n<td><i><a href=\"/wiki/Harry_Potter_y_el_c%C3%A1liz_de_fuego\" title=\"Harry Potter y el cáliz de fuego\">Harry Potter y el cáliz de fuego</a> (Harry Potter and the Globet of Fire)</i></td>\\n<td><a href=\"/wiki/J.K._Rowling\" class=\"mw-redirect\" title=\"J.K. Rowling\">J.K. Rowling</a></td>\\n<td>Inglés</td>\\n<td>2000</td>\\n<td>65 millones<sup id=\"cite_ref-ElMundoHarryPotter_17-3\" class=\"reference separada\"><a href=\"#cite_note-ElMundoHarryPotter-17\"><span class=\"corchete-llamada\">[</span>16<span class=\"corchete-llamada\">]</span></a></sup>&#8203;\\n</td></tr>\\n<tr>\\n<td><i><a href=\"/wiki/Harry_Potter_y_la_orden_del_f%C3%A9nix\" class=\"mw-redirect\" title=\"Harry Potter y la orden del fénix\">Harry Potter y la orden del fénix</a> (Harry Potter and the Order of the Phoenix)</i></td>\\n<td><a href=\"/wiki/J.K._Rowling\" class=\"mw-redirect\" title=\"J.K. Rowling\">J.K. Rowling</a></td>\\n<td>Inglés</td>\\n<td>2003</td>\\n<td>65 millones<sup id=\"cite_ref-ElMundoHarryPotter_17-4\" class=\"reference separada\"><a href=\"#cite_note-ElMundoHarryPotter-17\"><span class=\"corchete-llamada\">[</span>16<span class=\"corchete-llamada\">]</span></a></sup>&#8203;\\n</td></tr>\\n<tr>\\n<td><i><a href=\"/wiki/Harry_Potter_y_el_misterio_del_pr%C3%ADncipe\" title=\"Harry Potter y el misterio del príncipe\">Harry Potter y el misterio del príncipe</a> (Harry Potter and the Half-blood Prince)</i></td>\\n<td><a href=\"/wiki/J.K._Rowling\" class=\"mw-redirect\" title=\"J.K. Rowling\">J.K. Rowling</a></td>\\n<td>Inglés</td>\\n<td>2005</td>\\n<td>65 millones<sup id=\"cite_ref-ElMundoHarryPotter_17-5\" class=\"reference separada\"><a href=\"#cite_note-ElMundoHarryPotter-17\"><span class=\"corchete-llamada\">[</span>16<span class=\"corchete-llamada\">]</span></a></sup>&#8203;\\n</td></tr>\\n<tr>\\n<td><i>El guardián entre el centeno</i> o <i>El cazador oculto</i> (<i><a href=\"/wiki/The_Catcher_in_the_Rye\" title=\"The Catcher in the Rye\">The Catcher in the Rye</a></i>)</td>\\n<td><a href=\"/wiki/J._D._Salinger\" title=\"J. D. Salinger\">J. D. Salinger</a></td>\\n<td>Inglés</td>\\n<td>1951</td>\\n<td>65 millones<sup id=\"cite_ref-18\" class=\"reference separada\"><a href=\"#cite_note-18\"><span class=\"corchete-llamada\">[</span>17<span class=\"corchete-llamada\">]</span></a></sup>&#8203;\\n</td></tr>\\n<tr>\\n<td><i><a href=\"/wiki/El_alquimista_(novela)\" title=\"El alquimista (novela)\">El alquimista</a></i> (<i>O Alquimista</i>)</td>\\n<td><a href=\"/wiki/Paulo_Coelho\" title=\"Paulo Coelho\">Paulo Coelho</a></td>\\n<td><a href=\"/wiki/Idioma_portugu%C3%A9s\" title=\"Idioma portugués\">Portugués</a></td>\\n<td>1988</td>\\n<td>65 millones<sup id=\"cite_ref-19\" class=\"reference separada\"><a href=\"#cite_note-19\"><span class=\"corchete-llamada\">[</span>18<span class=\"corchete-llamada\">]</span></a></sup>&#8203;\\n</td></tr>\\n<tr>\\n<td><i><a href=\"/w/index.php?title=El_camino_a_Cristo&amp;action=edit&amp;redlink=1\" class=\"new\" title=\"El camino a Cristo (aún no redactado)\">El camino a Cristo</a></i> (<i>Steps to Christ</i>)</td>\\n<td><a href=\"/wiki/Ellen_G._White\" title=\"Ellen G. White\">Ellen G. White</a></td>\\n<td>Inglés</td>\\n<td>1892</td>\\n<td>60 millones<sup id=\"cite_ref-20\" class=\"reference separada\"><a href=\"#cite_note-20\"><span class=\"corchete-llamada\">[</span>19<span class=\"corchete-llamada\">]</span></a></sup>&#8203;\\n</td></tr>\\n<tr>\\n<td><i><a href=\"/wiki/Heidi\" title=\"Heidi\">Heidi</a></i> (<i>Heidis Lehr- und Wanderjahre</i>)</td>\\n<td><a href=\"/wiki/Johanna_Spyri\" title=\"Johanna Spyri\">Johanna Spyri</a></td>\\n<td><a href=\"/wiki/Idioma_alem%C3%A1n\" title=\"Idioma alemán\">Alemán</a></td>\\n<td>1880</td>\\n<td>50 millones<sup id=\"cite_ref-21\" class=\"reference separada\"><a href=\"#cite_note-21\"><span class=\"corchete-llamada\">[</span>20<span class=\"corchete-llamada\">]</span></a></sup>&#8203;\\n</td></tr>\\n<tr>\\n<td><i>El libro del sentido común del cuidado de bebés y niños</i> o simplemente <i>Tu hijo</i> (<i><a href=\"/wiki/The_Common_Sense_Book_of_Baby_and_Child_Care\" title=\"The Common Sense Book of Baby and Child Care\">The Common Sense Book of Baby and Child Care</a></i>)</td>\\n<td>Dr. <a href=\"/wiki/Benjamin_Spock\" title=\"Benjamin Spock\">Benjamin Spock</a></td>\\n<td>Inglés</td>\\n<td>1946</td>\\n<td>50 millones<sup id=\"cite_ref-RussellAsh_22-0\" class=\"reference separada\"><a href=\"#cite_note-RussellAsh-22\"><span class=\"corchete-llamada\">[</span>21<span class=\"corchete-llamada\">]</span></a></sup>&#8203;\\n</td></tr>\\n<tr>\\n<td><i><a href=\"/wiki/Ana_de_las_Tejas_Verdes\" class=\"mw-redirect\" title=\"Ana de las Tejas Verdes\">Ana de las Tejas Verdes</a></i> (<i>Anne of Green Gables</i>)</td>\\n<td><a href=\"/wiki/Lucy_Maud_Montgomery\" title=\"Lucy Maud Montgomery\">Lucy Maud Montgomery</a></td>\\n<td>Inglés</td>\\n<td>1908</td>\\n<td>50 millones<sup id=\"cite_ref-23\" class=\"reference separada\"><a href=\"#cite_note-23\"><span class=\"corchete-llamada\">[</span>22<span class=\"corchete-llamada\">]</span></a></sup>&#8203;\\n</td></tr>\\n<tr>\\n<td><i>Belleza Negra</i> o <i>Azabache</i> (<i><a href=\"/wiki/Black_Beauty_(novela)\" class=\"mw-redirect\" title=\"Black Beauty (novela)\">Black Beauty: His Grooms and Companions: The Autobiography of a Horse</a></i>)</td>\\n<td><a href=\"/wiki/Anna_Sewell\" title=\"Anna Sewell\">Anna Sewell</a></td>\\n<td>Inglés</td>\\n<td>1877</td>\\n<td>50 millones<sup id=\"cite_ref-24\" class=\"reference separada\"><a href=\"#cite_note-24\"><span class=\"corchete-llamada\">[</span>23<span class=\"corchete-llamada\">]</span></a></sup>&#8203;\\n</td></tr>\\n<tr>\\n<td><i><a href=\"/wiki/El_nombre_de_la_rosa\" title=\"El nombre de la rosa\">El nombre de la rosa</a></i> (<i>Il Nome della Rosa</i>)</td>\\n<td><a href=\"/wiki/Umberto_Eco\" title=\"Umberto Eco\">Umberto Eco</a></td>\\n<td><a href=\"/wiki/Idioma_italiano\" title=\"Idioma italiano\">Italiano</a></td>\\n<td>1980</td>\\n<td>50 millones<sup id=\"cite_ref-25\" class=\"reference separada\"><a href=\"#cite_note-25\"><span class=\"corchete-llamada\">[</span>24<span class=\"corchete-llamada\">]</span></a></sup>&#8203;\\n</td></tr></tbody></table>\\n<div class=\"mw-heading mw-heading2\"><h2 id=\"Entre_treinta_y_cincuenta_millones_de_ejemplares\">Entre treinta y cincuenta millones de ejemplares</h2><span class=\"mw-editsection\"><span class=\"mw-editsection-bracket\">[</span><a href=\"/w/index.php?title=Anexo:Libros_m%C3%A1s_vendidos&amp;action=edit&amp;section=3\" title=\"Editar sección: Entre treinta y cincuenta millones de ejemplares\"><span>editar</span></a><span class=\"mw-editsection-bracket\">]</span></span></div>\\n<table class=\"wikitable sortable\">\\n\\n<tbody><tr>\\n<th>Libro</th>\\n<th>Autor</th>\\n<th>Idioma original</th>\\n<th>Primera edición</th>\\n<th>Ventas aproximadas\\n</th></tr>\\n<tr>\\n<td><i><a href=\"/w/index.php?title=El_informe_Hite&amp;action=edit&amp;redlink=1\" class=\"new\" title=\"El informe Hite (aún no redactado)\">El informe Hite</a></i> (<i>The Hite Report</i>)</td>\\n<td><a href=\"/wiki/Shere_Hite\" title=\"Shere Hite\">Shere Hite</a></td>\\n<td><a href=\"/wiki/Idioma_ingl%C3%A9s\" title=\"Idioma inglés\">Inglés</a></td>\\n<td>1976</td>\\n<td>48 millones<sup id=\"cite_ref-26\" class=\"reference separada\"><a href=\"#cite_note-26\"><span class=\"corchete-llamada\">[</span>25<span class=\"corchete-llamada\">]</span></a></sup>&#8203;\\n</td></tr>\\n<tr>\\n<td><i><a href=\"/wiki/La_telara%C3%B1a_de_Charlotte\" class=\"mw-redirect\" title=\"La telaraña de Charlotte\">La telaraña de Charlotte</a></i> (<i>Charlotte\\'s Web</i>)</td>\\n<td><a href=\"/wiki/E._B._White\" title=\"E. B. White\">E. B. White</a>, ilustrado por <a href=\"/w/index.php?title=Garth_Williams&amp;action=edit&amp;redlink=1\" class=\"new\" title=\"Garth Williams (aún no redactado)\">Garth Williams</a></td>\\n<td>Inglés</td>\\n<td>1952</td>\\n<td>45 millones<sup id=\"cite_ref-27\" class=\"reference separada\"><a href=\"#cite_note-27\"><span class=\"corchete-llamada\">[</span>26<span class=\"corchete-llamada\">]</span></a></sup>&#8203;\\n</td></tr>\\n<tr>\\n<td><i><a href=\"/wiki/El_cuento_de_Perico,_el_conejo_travieso\" class=\"mw-redirect\" title=\"El cuento de Perico, el conejo travieso\">El cuento de Perico, el conejo travieso</a></i> (<i>The Tale of Peter Rabbit</i>)</td>\\n<td><a href=\"/wiki/Beatrix_Potter\" title=\"Beatrix Potter\">Beatrix Potter</a></td>\\n<td>Inglés</td>\\n<td>1902</td>\\n<td>45 millones<sup id=\"cite_ref-28\" class=\"reference separada\"><a href=\"#cite_note-28\"><span class=\"corchete-llamada\">[</span>27<span class=\"corchete-llamada\">]</span></a></sup>&#8203;\\n</td></tr>\\n<tr>\\n<td><i><a href=\"/wiki/Juan_Salvador_Gaviota\" title=\"Juan Salvador Gaviota\">Juan Salvador Gaviota</a></i> (<i>Jonathan Livingston Seagull</i>)</td>\\n<td><a href=\"/wiki/Richard_Bach\" title=\"Richard Bach\">Richard Bach</a></td>\\n<td>Inglés</td>\\n<td>1970</td>\\n<td>40 millones<sup id=\"cite_ref-29\" class=\"reference separada\"><a href=\"#cite_note-29\"><span class=\"corchete-llamada\">[</span>28<span class=\"corchete-llamada\">]</span></a></sup>&#8203;\\n</td></tr>\\n<tr>\\n<td><i><a href=\"/wiki/Un_mensaje_a_Garc%C3%ADa\" title=\"Un mensaje a García\">Un mensaje a García</a></i> (<i>A Message to Garcia</i>)</td>\\n<td><a href=\"/wiki/Elbert_Hubbard\" title=\"Elbert Hubbard\">Elbert Hubbard</a></td>\\n<td>Inglés</td>\\n<td>1899</td>\\n<td>40 millones<sup id=\"cite_ref-RussellAsh_22-1\" class=\"reference separada\"><a href=\"#cite_note-RussellAsh-22\"><span class=\"corchete-llamada\">[</span>21<span class=\"corchete-llamada\">]</span></a></sup>&#8203;\\n</td></tr>\\n<tr>\\n<td><i><a href=\"/wiki/%C3%81ngeles_y_demonios_(novela)\" title=\"Ángeles y demonios (novela)\">Ángeles y demonios</a></i> (<i>Angels and Demons</i>)</td>\\n<td><a href=\"/wiki/Dan_Brown\" title=\"Dan Brown\">Dan Brown</a></td>\\n<td>Inglés</td>\\n<td>2000</td>\\n<td>39 millones<sup id=\"cite_ref-30\" class=\"reference separada\"><a href=\"#cite_note-30\"><span class=\"corchete-llamada\">[</span>29<span class=\"corchete-llamada\">]</span></a></sup>&#8203;\\n</td></tr>\\n<tr>\\n<td><i><a href=\"/wiki/As%C3%AD_se_templ%C3%B3_el_acero\" title=\"Así se templó el acero\">Así se templó el acero</a></i> (Как закалялась сталь, <i>Kak zakalyalas\\' stal\\'</i>)</td>\\n<td><a href=\"/wiki/Nikolai_Ostrovsky\" class=\"mw-redirect\" title=\"Nikolai Ostrovsky\">Nikolai Ostrovsky</a></td>\\n<td><a href=\"/wiki/Idioma_ruso\" title=\"Idioma ruso\">Ruso</a></td>\\n<td>1932</td>\\n<td>36,4 millones de copias en la <a href=\"/wiki/URSS\" class=\"mw-redirect\" title=\"URSS\">URSS</a><sup id=\"cite_ref-compuart.ru_31-0\" class=\"reference separada\"><a href=\"#cite_note-compuart.ru-31\"><span class=\"corchete-llamada\">[</span>30<span class=\"corchete-llamada\">]</span></a></sup>&#8203;\\n</td></tr>\\n<tr>\\n<td><i><a href=\"/wiki/Guerra_y_paz\" title=\"Guerra y paz\">Guerra y paz</a></i> (Война и мир, <i>Voyna i mir</i>)</td>\\n<td><a href=\"/wiki/Le%C3%B3n_Tolst%C3%B3i\" title=\"León Tolstói\">León Tolstói</a></td>\\n<td>Ruso</td>\\n<td>1869</td>\\n<td>36,0 millones de copias en la URSS<sup id=\"cite_ref-compuart.ru_31-1\" class=\"reference separada\"><a href=\"#cite_note-compuart.ru-31\"><span class=\"corchete-llamada\">[</span>30<span class=\"corchete-llamada\">]</span></a></sup>&#8203;\\n</td></tr>\\n<tr>\\n<td><i><a href=\"/wiki/Las_aventuras_de_Pinocho\" class=\"mw-redirect\" title=\"Las aventuras de Pinocho\">Las aventuras de Pinocho</a></i> (<i>Le avventure di Pinocchio. Storia di un burattino</i>)</td>\\n<td><a href=\"/wiki/Carlo_Collodi\" title=\"Carlo Collodi\">Carlo Collodi</a></td>\\n<td><a href=\"/wiki/Idioma_italiano\" title=\"Idioma italiano\">Italiano</a></td>\\n<td>1881</td>\\n<td>35 millones<sup id=\"cite_ref-32\" class=\"reference separada\"><a href=\"#cite_note-32\"><span class=\"corchete-llamada\">[</span>31<span class=\"corchete-llamada\">]</span></a></sup>&#8203;\\n</td></tr>\\n<tr>\\n<td><i><a href=\"/w/index.php?title=Usted_puede_sanar_su_vida&amp;action=edit&amp;redlink=1\" class=\"new\" title=\"Usted puede sanar su vida (aún no redactado)\">Usted puede sanar su vida</a></i> (<i>You Can Heal Your Life</i>)</td>\\n<td><a href=\"/wiki/Louise_Hay\" title=\"Louise Hay\">Louise Hay</a></td>\\n<td>Inglés</td>\\n<td>1984</td>\\n<td>35 millones<sup id=\"cite_ref-33\" class=\"reference separada\"><a href=\"#cite_note-33\"><span class=\"corchete-llamada\">[</span>32<span class=\"corchete-llamada\">]</span></a></sup>&#8203;\\n</td></tr>\\n<tr>\\n<td><i><a href=\"/wiki/Kane_y_Abel\" title=\"Kane y Abel\">Kane y Abel</a></i> (<i>Kane and Abel</i>)</td>\\n<td><a href=\"/wiki/Jeffrey_Archer\" title=\"Jeffrey Archer\">Jeffrey Archer</a></td>\\n<td>Inglés</td>\\n<td>1979</td>\\n<td>34 millones<sup id=\"cite_ref-34\" class=\"reference separada\"><a href=\"#cite_note-34\"><span class=\"corchete-llamada\">[</span>33<span class=\"corchete-llamada\">]</span></a></sup>&#8203;\\n</td></tr>\\n<tr>\\n<td><i><a href=\"/wiki/50_sombras_de_Grey\" class=\"mw-redirect\" title=\"50 sombras de Grey\">50 sombras de Grey</a></i> (<i>Fifty Shades of Grey</i>)</td>\\n<td><a href=\"/wiki/E._L._James\" title=\"E. L. James\">E. L. James</a></td>\\n<td>Inglés</td>\\n<td>2011</td>\\n<td>31 millones<sup>[<i><a href=\"/wiki/Wikipedia:Verificabilidad\" title=\"Wikipedia:Verificabilidad\">cita&#160;requerida</a></i>]</sup>\\n</td></tr>\\n<tr>\\n<td><i><a href=\"/wiki/Diario_de_Ana_Frank\" title=\"Diario de Ana Frank\">Diario de Ana Frank</a></i> o <i>Las habitaciones de atrás</i> (<i>Het Achterhuis</i>)</td>\\n<td><a href=\"/wiki/Anne_Frank\" class=\"mw-redirect\" title=\"Anne Frank\">Anne Frank</a></td>\\n<td><a href=\"/wiki/Idioma_neerland%C3%A9s\" title=\"Idioma neerlandés\">Neerlandés</a></td>\\n<td>1947</td>\\n<td>30 millones<sup id=\"cite_ref-35\" class=\"reference separada\"><a href=\"#cite_note-35\"><span class=\"corchete-llamada\">[</span>34<span class=\"corchete-llamada\">]</span></a></sup>&#8203;\\n</td></tr>\\n<tr>\\n<td><i><a href=\"/w/index.php?title=En_Sus_pasos&amp;action=edit&amp;redlink=1\" class=\"new\" title=\"En Sus pasos (aún no redactado)\">En Sus pasos</a></i> (<i>In His Steps: What Would Jesus Do?</i>)</td>\\n<td><a href=\"/w/index.php?title=Charles_M._Sheldon&amp;action=edit&amp;redlink=1\" class=\"new\" title=\"Charles M. Sheldon (aún no redactado)\">Charles M. Sheldon</a></td>\\n<td>Inglés</td>\\n<td>1896</td>\\n<td>30 millones<sup id=\"cite_ref-RussellAsh_22-2\" class=\"reference separada\"><a href=\"#cite_note-RussellAsh-22\"><span class=\"corchete-llamada\">[</span>21<span class=\"corchete-llamada\">]</span></a></sup>&#8203;\\n</td></tr>\\n<tr>\\n<td><i><a href=\"/wiki/Matar_un_ruise%C3%B1or\" title=\"Matar un ruiseñor\">Matar un ruiseñor</a></i> (<i>To Kill a Mockingbird</i>)</td>\\n<td><a href=\"/wiki/Harper_Lee\" title=\"Harper Lee\">Harper Lee</a></td>\\n<td>Inglés</td>\\n<td>1960</td>\\n<td>30 millones<sup id=\"cite_ref-36\" class=\"reference separada\"><a href=\"#cite_note-36\"><span class=\"corchete-llamada\">[</span>35<span class=\"corchete-llamada\">]</span></a></sup>&#8203;\\n</td></tr>\\n<tr>\\n<td><i><a href=\"/wiki/El_valle_de_las_mu%C3%B1ecas\" title=\"El valle de las muñecas\">El valle de las muñecas</a></i> (<i>Valley of the Dolls</i>)</td>\\n<td><a href=\"/wiki/Jacqueline_Susann\" title=\"Jacqueline Susann\">Jacqueline Susann</a></td>\\n<td>Inglés</td>\\n<td>1966</td>\\n<td>30 millones<sup id=\"cite_ref-RussellAsh_22-3\" class=\"reference separada\"><a href=\"#cite_note-RussellAsh-22\"><span class=\"corchete-llamada\">[</span>21<span class=\"corchete-llamada\">]</span></a></sup>&#8203;\\n</td></tr>\\n<tr>\\n<td><i><a href=\"/wiki/Lo_que_el_viento_se_llev%C3%B3_(novela)\" class=\"mw-redirect\" title=\"Lo que el viento se llevó (novela)\">Lo que el viento se llevó</a></i> (<i>Gone with the Wind</i>)</td>\\n<td><a href=\"/wiki/Margaret_Mitchell\" title=\"Margaret Mitchell\">Margaret Mitchell</a></td>\\n<td>Inglés</td>\\n<td>1936</td>\\n<td>30 millones<sup id=\"cite_ref-37\" class=\"reference separada\"><a href=\"#cite_note-37\"><span class=\"corchete-llamada\">[</span>36<span class=\"corchete-llamada\">]</span></a></sup>&#8203;\\n</td></tr>\\n<tr>\\n<td><i><a href=\"/wiki/Cien_a%C3%B1os_de_soledad\" title=\"Cien años de soledad\">Cien años de soledad</a></i></td>\\n<td><a href=\"/wiki/Gabriel_Garc%C3%ADa_M%C3%A1rquez\" title=\"Gabriel García Márquez\">Gabriel García Márquez</a></td>\\n<td><a href=\"/wiki/Idioma_espa%C3%B1ol\" title=\"Idioma español\">Español</a></td>\\n<td>1967</td>\\n<td>30 millones<sup id=\"cite_ref-38\" class=\"reference separada\"><a href=\"#cite_note-38\"><span class=\"corchete-llamada\">[</span>37<span class=\"corchete-llamada\">]</span></a></sup>&#8203;<sup id=\"cite_ref-39\" class=\"reference separada\"><a href=\"#cite_note-39\"><span class=\"corchete-llamada\">[</span>38<span class=\"corchete-llamada\">]</span></a></sup>&#8203;\\n</td></tr>\\n<tr>\\n<td><i><a href=\"/wiki/Una_vida_con_prop%C3%B3sito\" title=\"Una vida con propósito\">Una vida con propósito</a></i> (<i>The Purpose Driven Life</i>)</td>\\n<td><a href=\"/wiki/Rick_Warren\" title=\"Rick Warren\">Rick Warren</a></td>\\n<td>Inglés</td>\\n<td>2002</td>\\n<td>30 millones<sup id=\"cite_ref-40\" class=\"reference separada\"><a href=\"#cite_note-40\"><span class=\"corchete-llamada\">[</span>39<span class=\"corchete-llamada\">]</span></a></sup>&#8203;\\n</td></tr>\\n<tr>\\n<td><i>El pájaro espino</i>, <i>El pájaro canta hasta morir</i> o <i>Amor entre espinas</i> (<i><a href=\"/wiki/The_Thorn_Birds\" title=\"The Thorn Birds\">The Thorn Birds</a></i>)</td>\\n<td><a href=\"/wiki/Colleen_McCullough\" title=\"Colleen McCullough\">Colleen McCullough</a></td>\\n<td>Inglés</td>\\n<td>1977</td>\\n<td>30 millones<sup id=\"cite_ref-41\" class=\"reference separada\"><a href=\"#cite_note-41\"><span class=\"corchete-llamada\">[</span>40<span class=\"corchete-llamada\">]</span></a></sup>&#8203;\\n</td></tr>\\n<tr>\\n<td><i><a href=\"/wiki/Piense_y_h%C3%A1gase_rico\" title=\"Piense y hágase rico\">Piense y hágase rico</a></i> (<i>Think and Grow Rich</i>)</td>\\n<td><a href=\"/wiki/Napole%C3%B3n_Hill\" class=\"mw-redirect\" title=\"Napoleón Hill\">Napoleón Hill</a></td>\\n<td>Inglés</td>\\n<td>1937</td>\\n<td>30 millones<sup id=\"cite_ref-42\" class=\"reference separada\"><a href=\"#cite_note-42\"><span class=\"corchete-llamada\">[</span>41<span class=\"corchete-llamada\">]</span></a></sup>&#8203;\\n</td></tr>\\n<tr>\\n<td><i><a href=\"/w/index.php?title=La_rebeld%C3%ADa_de_la_Sra._Stover&amp;action=edit&amp;redlink=1\" class=\"new\" title=\"La rebeldía de la Sra. Stover (aún no redactado)\">La rebeldía de la Sra. Stover</a></i> (<i>The Revolt of Mamie Stover</i>)</td>\\n<td><a href=\"/w/index.php?title=William_Bradford_Huie&amp;action=edit&amp;redlink=1\" class=\"new\" title=\"William Bradford Huie (aún no redactado)\">William Bradford Huie</a></td>\\n<td>Inglés</td>\\n<td>1951</td>\\n<td>30 millones<sup id=\"cite_ref-43\" class=\"reference separada\"><a href=\"#cite_note-43\"><span class=\"corchete-llamada\">[</span>42<span class=\"corchete-llamada\">]</span></a></sup>&#8203;\\n</td></tr>\\n<tr>\\n<td><i><a href=\"/wiki/Los_hombres_que_no_amaban_a_las_mujeres\" title=\"Los hombres que no amaban a las mujeres\">Los hombres que no amaban a las mujeres</a></i> (<i>Män som hatar kvinnor</i>)</td>\\n<td><a href=\"/wiki/Stieg_Larsson\" title=\"Stieg Larsson\">Stieg Larsson</a></td>\\n<td><a href=\"/wiki/Idioma_sueco\" title=\"Idioma sueco\">Sueco</a></td>\\n<td>2005</td>\\n<td>30 millones<sup id=\"cite_ref-44\" class=\"reference separada\"><a href=\"#cite_note-44\"><span class=\"corchete-llamada\">[</span>43<span class=\"corchete-llamada\">]</span></a></sup>&#8203;\\n</td></tr>\\n<tr>\\n<td><i><a href=\"/w/index.php?title=La_oruguita_glotona&amp;action=edit&amp;redlink=1\" class=\"new\" title=\"La oruguita glotona (aún no redactado)\">La oruguita glotona</a></i> o <i>La pequeña oruga glotona</i> (<i>The Very Hungry Caterpillar</i>)</td>\\n<td><a href=\"/wiki/Eric_Carle\" title=\"Eric Carle\">Eric Carle</a></td>\\n<td>Inglés</td>\\n<td>1969</td>\\n<td>30 millones<sup id=\"cite_ref-45\" class=\"reference separada\"><a href=\"#cite_note-45\"><span class=\"corchete-llamada\">[</span>44<span class=\"corchete-llamada\">]</span></a></sup>&#8203;\\n</td></tr></tbody></table>\\n<div class=\"mw-heading mw-heading2\"><h2 id=\"Entre_veinte_y_treinta_millones_de_ejemplares\">Entre veinte y treinta millones de ejemplares</h2><span class=\"mw-editsection\"><span class=\"mw-editsection-bracket\">[</span><a href=\"/w/index.php?title=Anexo:Libros_m%C3%A1s_vendidos&amp;action=edit&amp;section=4\" title=\"Editar sección: Entre veinte y treinta millones de ejemplares\"><span>editar</span></a><span class=\"mw-editsection-bracket\">]</span></span></div>\\n<table class=\"wikitable sortable\">\\n\\n<tbody><tr>\\n<th>Libro</th>\\n<th>Autor</th>\\n<th>Idioma original</th>\\n<th>Primera edición</th>\\n<th>Ventas aproximadas\\n</th></tr>\\n<tr>\\n<td><i>El Diario de Greg</i> (<i>The Diary of a Wimpy Kid</i>)\\n</td>\\n<td><a href=\"/wiki/Jeff_Kinney\" title=\"Jeff Kinney\">Jeff Kinney</a></td>\\n<td><a href=\"/wiki/Idioma_ingl%C3%A9s\" title=\"Idioma inglés\">Inglés</a></td>\\n<td>2008</td>\\n<td>30 millones<sup id=\"cite_ref-46\" class=\"reference separada\"><a href=\"#cite_note-46\"><span class=\"corchete-llamada\">[</span>45<span class=\"corchete-llamada\">]</span></a></sup>&#8203;\\n</td></tr>\\n<tr>\\n<td><i><a href=\"/w/index.php?title=La_agon%C3%ADa_del_gran_planeta_Tierra&amp;action=edit&amp;redlink=1\" class=\"new\" title=\"La agonía del gran planeta Tierra (aún no redactado)\">La agonía del gran planeta Tierra</a></i> (<i>The Late, Great Planet Earth</i>)</td>\\n<td><a href=\"/w/index.php?title=Hal_Lindsey&amp;action=edit&amp;redlink=1\" class=\"new\" title=\"Hal Lindsey (aún no redactado)\">Hal Lindsey</a> y <a href=\"/w/index.php?title=Carole_C._Carlson&amp;action=edit&amp;redlink=1\" class=\"new\" title=\"Carole C. Carlson (aún no redactado)\">Carole C. Carlson</a></td>\\n<td><a href=\"/wiki/Idioma_ingl%C3%A9s\" title=\"Idioma inglés\">Inglés</a></td>\\n<td>1970</td>\\n<td>28 millones<sup id=\"cite_ref-47\" class=\"reference separada\"><a href=\"#cite_note-47\"><span class=\"corchete-llamada\">[</span>46<span class=\"corchete-llamada\">]</span></a></sup>&#8203;\\n</td></tr>\\n<tr>\\n<td><i><a href=\"/wiki/Princesa_mec%C3%A1nica\" title=\"Princesa mecánica\">Princesa mecánica</a></i> (<i>The Infernal Devices: Clockwork Princess</i>)</td>\\n<td><a href=\"/wiki/Cassandra_Clare\" title=\"Cassandra Clare\">Cassandra Clare</a></td>\\n<td><a href=\"/wiki/Idioma_ingl%C3%A9s\" title=\"Idioma inglés\">Inglés</a></td>\\n<td>2013</td>\\n<td>28 millones<sup id=\"cite_ref-48\" class=\"reference separada\"><a href=\"#cite_note-48\"><span class=\"corchete-llamada\">[</span>47<span class=\"corchete-llamada\">]</span></a></sup>&#8203;\\n</td></tr>\\n<tr>\\n<td><i><a href=\"/wiki/%C2%BFQui%C3%A9n_se_ha_llevado_mi_queso%3F\" title=\"¿Quién se ha llevado mi queso?\">¿Quién se ha llevado mi queso?</a></i> (<i>Who Moved My Cheese?</i>)</td>\\n<td><a href=\"/wiki/Spencer_Johnson\" title=\"Spencer Johnson\">Spencer Johnson</a></td>\\n<td>Inglés</td>\\n<td>1998</td>\\n<td>26 millones<sup id=\"cite_ref-49\" class=\"reference separada\"><a href=\"#cite_note-49\"><span class=\"corchete-llamada\">[</span>48<span class=\"corchete-llamada\">]</span></a></sup>&#8203;\\n</td></tr>\\n<tr>\\n<td><i><a href=\"/wiki/El_viento_en_los_sauces\" title=\"El viento en los sauces\">El viento en los sauces</a></i> (<i>The Wind in the Willows</i>)</td>\\n<td><a href=\"/wiki/Kenneth_Grahame\" title=\"Kenneth Grahame\">Kenneth Grahame</a></td>\\n<td>Inglés</td>\\n<td>1908</td>\\n<td>25 millones<sup id=\"cite_ref-50\" class=\"reference separada\"><a href=\"#cite_note-50\"><span class=\"corchete-llamada\">[</span>49<span class=\"corchete-llamada\">]</span></a></sup>&#8203;\\n</td></tr>\\n<tr>\\n<td><i><a href=\"/wiki/1984_(novela)\" title=\"1984 (novela)\">1984</a></i> (<i>Nineteen Eighty-Four</i>)</td>\\n<td><a href=\"/wiki/George_Orwell\" title=\"George Orwell\">George Orwell</a></td>\\n<td>Inglés</td>\\n<td>1949</td>\\n<td>25 millones<sup id=\"cite_ref-51\" class=\"reference separada\"><a href=\"#cite_note-51\"><span class=\"corchete-llamada\">[</span>50<span class=\"corchete-llamada\">]</span></a></sup>&#8203;\\n</td></tr>\\n<tr>\\n<td><i><a href=\"/wiki/Los_juegos_del_hambre\" title=\"Los juegos del hambre\">Los juegos del hambre</a></i> (<i>The Hunger Games</i>)</td>\\n<td><a href=\"/wiki/Suzanne_Collins\" title=\"Suzanne Collins\">Suzanne Collins</a></td>\\n<td>Inglés</td>\\n<td>2008</td>\\n<td>Más de 23 millones<sup id=\"cite_ref-52\" class=\"reference separada\"><a href=\"#cite_note-52\"><span class=\"corchete-llamada\">[</span>51<span class=\"corchete-llamada\">]</span></a></sup>&#8203;\\n</td></tr>\\n<tr>\\n<td><i><a href=\"/wiki/Las_Nueve_Revelaciones\" class=\"mw-redirect\" title=\"Las Nueve Revelaciones\">Las Nueve Revelaciones</a></i> (<i>The Celestine Prophecy</i>)</td>\\n<td><a href=\"/wiki/James_Redfield\" title=\"James Redfield\">James Redfield</a></td>\\n<td>Inglés</td>\\n<td>1993</td>\\n<td>23 millones<sup id=\"cite_ref-53\" class=\"reference separada\"><a href=\"#cite_note-53\"><span class=\"corchete-llamada\">[</span>52<span class=\"corchete-llamada\">]</span></a></sup>&#8203;\\n</td></tr>\\n<tr>\\n<td><i><a href=\"/wiki/El_Padrino_(novela)\" class=\"mw-redirect\" title=\"El Padrino (novela)\">El Padrino</a></i> (<i>The Godfather</i>)</td>\\n<td><a href=\"/wiki/Mario_Puzo\" title=\"Mario Puzo\">Mario Puzo</a></td>\\n<td>Inglés</td>\\n<td>1969</td>\\n<td>21 millones<sup id=\"cite_ref-54\" class=\"reference separada\"><a href=\"#cite_note-54\"><span class=\"corchete-llamada\">[</span>53<span class=\"corchete-llamada\">]</span></a></sup>&#8203;\\n</td></tr>\\n<tr>\\n<td><i><a href=\"/wiki/Love_Story_(novela)\" title=\"Love Story (novela)\">Love Story</a></i></td>\\n<td><a href=\"/wiki/Erich_Segal\" title=\"Erich Segal\">Erich Segal</a></td>\\n<td>Inglés</td>\\n<td>1970</td>\\n<td>21 millones<sup id=\"cite_ref-55\" class=\"reference separada\"><a href=\"#cite_note-55\"><span class=\"corchete-llamada\">[</span>54<span class=\"corchete-llamada\">]</span></a></sup>&#8203;\\n</td></tr>\\n<tr>\\n<td><i><a href=\"/w/index.php?title=T%C3%B3tem_Lobo&amp;action=edit&amp;redlink=1\" class=\"new\" title=\"Tótem Lobo (aún no redactado)\">Tótem Lobo</a></i> (狼图腾, <i>Láng Túténg</i>)</td>\\n<td><a href=\"/w/index.php?title=L%C3%BC_Jiamin&amp;action=edit&amp;redlink=1\" class=\"new\" title=\"Lü Jiamin (aún no redactado)\">Jiang Rong</a></td>\\n<td><a href=\"/wiki/Idioma_chino\" title=\"Idioma chino\">Chino</a></td>\\n<td>2004</td>\\n<td>20 millones<sup id=\"cite_ref-56\" class=\"reference separada\"><a href=\"#cite_note-56\"><span class=\"corchete-llamada\">[</span>55<span class=\"corchete-llamada\">]</span></a></sup>&#8203;\\n</td></tr>\\n<tr>\\n<td><i><a href=\"/w/index.php?title=La_prostituta_feliz&amp;action=edit&amp;redlink=1\" class=\"new\" title=\"La prostituta feliz (aún no redactado)\">La prostituta feliz</a></i> (<i>The Happy Hooker: My Own Story</i>)</td>\\n<td><a href=\"/wiki/Xaviera_Hollander\" title=\"Xaviera Hollander\">Xaviera Hollander</a></td>\\n<td>Inglés</td>\\n<td>1971</td>\\n<td>20 millones<sup id=\"cite_ref-57\" class=\"reference separada\"><a href=\"#cite_note-57\"><span class=\"corchete-llamada\">[</span>56<span class=\"corchete-llamada\">]</span></a></sup>&#8203;\\n</td></tr>\\n<tr>\\n<td><i><a href=\"/wiki/Tibur%C3%B3n_(novela)\" title=\"Tiburón (novela)\">Tiburón</a></i> (<i>Jaws</i>)</td>\\n<td><a href=\"/wiki/Peter_Benchley\" title=\"Peter Benchley\">Peter Benchley</a></td>\\n<td>Inglés</td>\\n<td>1974</td>\\n<td>20 millones<sup id=\"cite_ref-58\" class=\"reference separada\"><a href=\"#cite_note-58\"><span class=\"corchete-llamada\">[</span>57<span class=\"corchete-llamada\">]</span></a></sup>&#8203;\\n</td></tr>\\n<tr>\\n<td><i><a href=\"/w/index.php?title=Siempre_te_querr%C3%A9&amp;action=edit&amp;redlink=1\" class=\"new\" title=\"Siempre te querré (aún no redactado)\">Siempre te querré</a></i> (<i>Love You Forever</i>)</td>\\n<td><a href=\"/w/index.php?title=Robert_Munsch&amp;action=edit&amp;redlink=1\" class=\"new\" title=\"Robert Munsch (aún no redactado)\">Robert Munsch</a></td>\\n<td>Inglés</td>\\n<td>1986</td>\\n<td>20 millones<sup id=\"cite_ref-59\" class=\"reference separada\"><a href=\"#cite_note-59\"><span class=\"corchete-llamada\">[</span>58<span class=\"corchete-llamada\">]</span></a></sup>&#8203;\\n</td></tr>\\n<tr>\\n<td><i><a href=\"/wiki/El_mundo_de_Sof%C3%ADa\" title=\"El mundo de Sofía\">El mundo de Sofía</a></i> (<i>Sofies verden</i>)</td>\\n<td><a href=\"/wiki/Jostein_Gaarder\" title=\"Jostein Gaarder\">Jostein Gaarder</a></td>\\n<td><a href=\"/wiki/Idioma_noruego\" title=\"Idioma noruego\">Noruego</a></td>\\n<td>1991</td>\\n<td>20 millones<sup id=\"cite_ref-60\" class=\"reference separada\"><a href=\"#cite_note-60\"><span class=\"corchete-llamada\">[</span>59<span class=\"corchete-llamada\">]</span></a></sup>&#8203;\\n</td></tr>\\n<tr>\\n<td><i><a href=\"/w/index.php?title=S%C3%B3lo_para_mujeres&amp;action=edit&amp;redlink=1\" class=\"new\" title=\"Sólo para mujeres (aún no redactado)\">Sólo para mujeres</a></i>, o simplemente <i>Mujeres</i> (<i>The Women\\'s Room</i>)</td>\\n<td><a href=\"/wiki/Marilyn_French\" title=\"Marilyn French\">Marilyn French</a></td>\\n<td>Inglés</td>\\n<td>1977</td>\\n<td>20 millones<sup id=\"cite_ref-61\" class=\"reference separada\"><a href=\"#cite_note-61\"><span class=\"corchete-llamada\">[</span>60<span class=\"corchete-llamada\">]</span></a></sup>&#8203;\\n</td></tr>\\n<tr>\\n<td><i><a href=\"/w/index.php?title=Qu%C3%A9_esperar_cuando_se_est%C3%A1_esperando&amp;action=edit&amp;redlink=1\" class=\"new\" title=\"Qué esperar cuando se está esperando (aún no redactado)\">Qué esperar cuando se está esperando</a></i> (<i>What to Expect When You\\'re Expecting</i>)</td>\\n<td><a href=\"/w/index.php?title=Arlene_Eisenberg&amp;action=edit&amp;redlink=1\" class=\"new\" title=\"Arlene Eisenberg (aún no redactado)\">Arlene Eisenberg</a>, <a href=\"/w/index.php?title=Heidi_Murkoff&amp;action=edit&amp;redlink=1\" class=\"new\" title=\"Heidi Murkoff (aún no redactado)\">Heidi Murkoff</a> y <a href=\"/w/index.php?title=Sharon_Mazel&amp;action=edit&amp;redlink=1\" class=\"new\" title=\"Sharon Mazel (aún no redactado)\">Sharon Mazel</a></td>\\n<td>Inglés</td>\\n<td>1984</td>\\n<td>20 millones<sup id=\"cite_ref-62\" class=\"reference separada\"><a href=\"#cite_note-62\"><span class=\"corchete-llamada\">[</span>61<span class=\"corchete-llamada\">]</span></a></sup>&#8203;\\n</td></tr>\\n<tr>\\n<td><i><a href=\"/w/index.php?title=Diario_de_Greg_:_La_Ley_de_Rodrick&amp;action=edit&amp;redlink=1\" class=\"new\" title=\"Diario de Greg : La Ley de Rodrick (aún no redactado)\">Diario de Greg&#160;: La Ley de Rodrick</a></i> (The Diary Of a Wimpy Kid&#160;: The Rodrick\\'s Law)\\n</td>\\n<td><a href=\"/wiki/Jeff_Kinney\" title=\"Jeff Kinney\">Jeff Kinney</a></td>\\n<td><a href=\"/wiki/Idioma_ingl%C3%A9s\" title=\"Idioma inglés\">Inglés</a></td>\\n<td>2010</td>\\n<td>21 Millones<sup id=\"cite_ref-63\" class=\"reference separada\"><a href=\"#cite_note-63\"><span class=\"corchete-llamada\">[</span>62<span class=\"corchete-llamada\">]</span></a></sup>&#8203;\\n</td></tr></tbody></table>\\n<div class=\"mw-heading mw-heading2\"><h2 id=\"Entre_diez_y_veinte_millones_de_ejemplares\">Entre diez y veinte millones de ejemplares</h2><span class=\"mw-editsection\"><span class=\"mw-editsection-bracket\">[</span><a href=\"/w/index.php?title=Anexo:Libros_m%C3%A1s_vendidos&amp;action=edit&amp;section=5\" title=\"Editar sección: Entre diez y veinte millones de ejemplares\"><span>editar</span></a><span class=\"mw-editsection-bracket\">]</span></span></div>\\n<table class=\"wikitable sortable\">\\n\\n<tbody><tr>\\n<th>Libro</th>\\n<th>Autor</th>\\n<th>Idioma original</th>\\n<th>Primera edición</th>\\n<th>Ventas aproximadas\\n</th></tr>\\n<tr>\\n<td><i><a href=\"/wiki/Ciudad_de_hueso\" title=\"Ciudad de hueso\">Ciudad de hueso</a></i> (<i>The Mortal Instruments: City of Bones</i>)</td>\\n<td><a href=\"/wiki/Cassandra_Clare\" title=\"Cassandra Clare\">Cassandra Clare</a></td>\\n<td><a href=\"/wiki/Idioma_ingl%C3%A9s\" title=\"Idioma inglés\">Inglés</a></td>\\n<td>2007</td>\\n<td>20 millones<sup id=\"cite_ref-64\" class=\"reference separada\"><a href=\"#cite_note-64\"><span class=\"corchete-llamada\">[</span>63<span class=\"corchete-llamada\">]</span></a></sup>&#8203;\\n</td></tr>\\n<tr>\\n<td><i><a href=\"/wiki/Donde_viven_los_monstruos\" title=\"Donde viven los monstruos\">Donde viven los monstruos</a></i> (<i>Where The Wild Things Are</i>)</td>\\n<td><a href=\"/wiki/Maurice_Sendak\" title=\"Maurice Sendak\">Maurice Sendak</a></td>\\n<td><a href=\"/wiki/Idioma_ingl%C3%A9s\" title=\"Idioma inglés\">inglés</a></td>\\n<td>1963</td>\\n<td>19 millones<sup id=\"cite_ref-65\" class=\"reference separada\"><a href=\"#cite_note-65\"><span class=\"corchete-llamada\">[</span>64<span class=\"corchete-llamada\">]</span></a></sup>&#8203;\\n</td></tr>\\n<tr>\\n<td><i><a href=\"/wiki/El_secreto_(libro)\" title=\"El secreto (libro)\">El secreto</a></i> (<i>The Secret</i>)</td>\\n<td><a href=\"/wiki/Rhonda_Byrne\" title=\"Rhonda Byrne\">Rhonda Byrne</a></td>\\n<td>Inglés</td>\\n<td>2006</td>\\n<td>19 millones<sup id=\"cite_ref-66\" class=\"reference separada\"><a href=\"#cite_note-66\"><span class=\"corchete-llamada\">[</span>65<span class=\"corchete-llamada\">]</span></a></sup>&#8203;\\n</td></tr>\\n<tr>\\n<td><i><a href=\"/w/index.php?title=Miedo_a_volar_(novela)&amp;action=edit&amp;redlink=1\" class=\"new\" title=\"Miedo a volar (novela) (aún no redactado)\">Miedo a volar</a></i> (<i>Fear of Flying</i>)</td>\\n<td><a href=\"/wiki/Erica_Jong\" title=\"Erica Jong\">Erica Jong</a></td>\\n<td>Inglés</td>\\n<td>1973</td>\\n<td>18 millones<sup id=\"cite_ref-67\" class=\"reference separada\"><a href=\"#cite_note-67\"><span class=\"corchete-llamada\">[</span>66<span class=\"corchete-llamada\">]</span></a></sup>&#8203;\\n</td></tr>\\n<tr>\\n<td><i><a href=\"/w/index.php?title=Buenas_noches,_Luna&amp;action=edit&amp;redlink=1\" class=\"new\" title=\"Buenas noches, Luna (aún no redactado)\">Buenas noches, Luna</a></i> (<i>Goodnight Moon</i>)</td>\\n<td><a href=\"/wiki/Margaret_Wise_Brown\" title=\"Margaret Wise Brown\">Margaret Wise Brown</a></td>\\n<td>Inglés</td>\\n<td>1947</td>\\n<td>16 millones<sup id=\"cite_ref-68\" class=\"reference separada\"><a href=\"#cite_note-68\"><span class=\"corchete-llamada\">[</span>67<span class=\"corchete-llamada\">]</span></a></sup>&#8203;\\n</td></tr>\\n<tr>\\n<td><i><a href=\"/wiki/Adivina_cu%C3%A1nto_te_quiero\" title=\"Adivina cuánto te quiero\">Adivina cuánto te quiero</a></i> (<i>Guess How Much I Love You</i>)</td>\\n<td><a href=\"/w/index.php?title=Sam_McBratney&amp;action=edit&amp;redlink=1\" class=\"new\" title=\"Sam McBratney (aún no redactado)\">Sam McBratney</a>, ilustrado por <a href=\"/w/index.php?title=Anita_Jeram&amp;action=edit&amp;redlink=1\" class=\"new\" title=\"Anita Jeram (aún no redactado)\">Anita Jeram</a></td>\\n<td>Inglés</td>\\n<td>1994</td>\\n<td>15 millones<sup id=\"cite_ref-rjmlicensing_69-0\" class=\"reference separada\"><a href=\"#cite_note-rjmlicensing-69\"><span class=\"corchete-llamada\">[</span>68<span class=\"corchete-llamada\">]</span></a></sup>&#8203;\\n</td></tr>\\n<tr>\\n<td><i><a href=\"/wiki/Los_siete_h%C3%A1bitos_de_las_personas_altamente_efectivas\" class=\"mw-redirect\" title=\"Los siete hábitos de las personas altamente efectivas\">Los siete hábitos de las personas altamente efectivas</a></i> (<i>The 7 Habits of Highly Effective People</i>)</td>\\n<td><a href=\"/wiki/Stephen_R._Covey\" class=\"mw-redirect\" title=\"Stephen R. Covey\">Stephen R. Covey</a></td>\\n<td>Inglés</td>\\n<td>1989</td>\\n<td>15 millones<sup id=\"cite_ref-70\" class=\"reference separada\"><a href=\"#cite_note-70\"><span class=\"corchete-llamada\">[</span>69<span class=\"corchete-llamada\">]</span></a></sup>&#8203;\\n</td></tr>\\n<tr>\\n<td><i><a href=\"/wiki/Sh%C5%8Dgun_(novela)\" class=\"mw-redirect\" title=\"Shōgun (novela)\">Shōgun</a></i></td>\\n<td><a href=\"/wiki/James_Clavell\" title=\"James Clavell\">James Clavell</a></td>\\n<td>Inglés</td>\\n<td>1975</td>\\n<td>15 millones<sup id=\"cite_ref-71\" class=\"reference separada\"><a href=\"#cite_note-71\"><span class=\"corchete-llamada\">[</span>70<span class=\"corchete-llamada\">]</span></a></sup>&#8203;\\n</td></tr>\\n<tr>\\n<td><i><a href=\"/w/index.php?title=El_peque%C3%B1o_perrito_Poky&amp;action=edit&amp;redlink=1\" class=\"new\" title=\"El pequeño perrito Poky (aún no redactado)\">El pequeño perrito Poky</a></i> (<i>The Poky Little Puppy</i>)</td>\\n<td><a href=\"/w/index.php?title=Janette_Sebring_Lowrey&amp;action=edit&amp;redlink=1\" class=\"new\" title=\"Janette Sebring Lowrey (aún no redactado)\">Janette Sebring Lowrey</a></td>\\n<td>Inglés</td>\\n<td>1942</td>\\n<td>15 millones<sup id=\"cite_ref-72\" class=\"reference separada\"><a href=\"#cite_note-72\"><span class=\"corchete-llamada\">[</span>71<span class=\"corchete-llamada\">]</span></a></sup>&#8203;\\n</td></tr>\\n<tr>\\n<td><i><a href=\"/wiki/Los_pilares_de_la_Tierra\" title=\"Los pilares de la Tierra\">Los pilares de la Tierra</a></i> (<i>The Pillars of the Earth</i>)</td>\\n<td><a href=\"/wiki/Ken_Follett\" title=\"Ken Follett\">Ken Follett</a></td>\\n<td>Inglés</td>\\n<td>1989</td>\\n<td>15 millones<sup id=\"cite_ref-73\" class=\"reference separada\"><a href=\"#cite_note-73\"><span class=\"corchete-llamada\">[</span>72<span class=\"corchete-llamada\">]</span></a></sup>&#8203;\\n</td></tr>\\n<tr>\\n<td><i><a href=\"/wiki/C%C3%B3mo_ganar_amigos_e_influir_sobre_las_personas\" title=\"Cómo ganar amigos e influir sobre las personas\">Cómo ganar amigos e influir sobre las personas</a></i> (<i>How to Win Friends and Influence People</i>)</td>\\n<td><a href=\"/wiki/Dale_Carnegie\" title=\"Dale Carnegie\">Dale Carnegie</a></td>\\n<td>Inglés</td>\\n<td>1936</td>\\n<td>15 millones<sup id=\"cite_ref-74\" class=\"reference separada\"><a href=\"#cite_note-74\"><span class=\"corchete-llamada\">[</span>73<span class=\"corchete-llamada\">]</span></a></sup>&#8203;\\n</td></tr>\\n<tr>\\n<td><i><a href=\"/wiki/El_perfume\" title=\"El perfume\">El perfume</a></i> o <i>El perfume: historia de un asesino</i> (<i>Das Parfum, die Geschichte eines Mörders</i>)</td>\\n<td><a href=\"/wiki/Patrick_S%C3%BCskind\" title=\"Patrick Süskind\">Patrick Süskind</a></td>\\n<td><a href=\"/wiki/Idioma_alem%C3%A1n\" title=\"Idioma alemán\">Alemán</a></td>\\n<td>1985</td>\\n<td>15 millones<sup id=\"cite_ref-75\" class=\"reference separada\"><a href=\"#cite_note-75\"><span class=\"corchete-llamada\">[</span>74<span class=\"corchete-llamada\">]</span></a></sup>&#8203;\\n</td></tr>\\n<tr>\\n<td><i><a href=\"/w/index.php?title=El_hombre_que_susurraba_al_o%C3%ADdo_de_los_caballos&amp;action=edit&amp;redlink=1\" class=\"new\" title=\"El hombre que susurraba al oído de los caballos (aún no redactado)\">El hombre que susurraba al oído de los caballos</a></i> (<i>The Horse Whisperer</i>)</td>\\n<td><a href=\"/wiki/Nicholas_Evans\" title=\"Nicholas Evans\">Nicholas Evans</a></td>\\n<td>Inglés</td>\\n<td>1995</td>\\n<td>15 millones<sup id=\"cite_ref-76\" class=\"reference separada\"><a href=\"#cite_note-76\"><span class=\"corchete-llamada\">[</span>75<span class=\"corchete-llamada\">]</span></a></sup>&#8203;\\n</td></tr>\\n<tr>\\n<td><i><a href=\"/wiki/La_sombra_del_viento\" title=\"La sombra del viento\">La sombra del viento</a></i></td>\\n<td><a href=\"/wiki/Carlos_Ruiz_Zaf%C3%B3n\" title=\"Carlos Ruiz Zafón\">Carlos Ruiz Zafón</a></td>\\n<td><a href=\"/wiki/Idioma_espa%C3%B1ol\" title=\"Idioma español\">Español</a></td>\\n<td>2001</td>\\n<td>15 millones<sup id=\"cite_ref-77\" class=\"reference separada\"><a href=\"#cite_note-77\"><span class=\"corchete-llamada\">[</span>76<span class=\"corchete-llamada\">]</span></a></sup>&#8203;\\n</td></tr>\\n<tr>\\n<td><i><a href=\"/wiki/La_caba%C3%B1a_(novela)\" title=\"La cabaña (novela)\">La cabaña</a></i> (<i>The Shack</i>)</td>\\n<td><a href=\"/w/index.php?title=William_P._Young&amp;action=edit&amp;redlink=1\" class=\"new\" title=\"William P. Young (aún no redactado)\">William P. Young</a></td>\\n<td>Inglés</td>\\n<td>2007</td>\\n<td>15 millones<sup id=\"cite_ref-78\" class=\"reference separada\"><a href=\"#cite_note-78\"><span class=\"corchete-llamada\">[</span>77<span class=\"corchete-llamada\">]</span></a></sup>&#8203;\\n</td></tr>\\n<tr>\\n<td><i><a href=\"/wiki/En_llamas\" title=\"En llamas\">En llamas</a></i> (<i>Catching Fire</i>)</td>\\n<td><a href=\"/wiki/Suzanne_Collins\" title=\"Suzanne Collins\">Suzanne Collins</a></td>\\n<td>Inglés</td>\\n<td>2009</td>\\n<td>Más de 14 millones<sup id=\"cite_ref-79\" class=\"reference separada\"><a href=\"#cite_note-79\"><span class=\"corchete-llamada\">[</span>78<span class=\"corchete-llamada\">]</span></a></sup>&#8203;\\n</td></tr>\\n<tr>\\n<td><i>Guía del autoestopista galáctico</i> o <i>Guía del viajero galáctico</i> (<i><a href=\"/wiki/Gu%C3%ADa_del_autoestopista_gal%C3%A1ctico_(libro)\" class=\"mw-redirect\" title=\"Guía del autoestopista galáctico (libro)\">The Hitchhiker\\'s Guide to the Galaxy</a></i>)</td>\\n<td><a href=\"/wiki/Douglas_Adams\" title=\"Douglas Adams\">Douglas Adams</a></td>\\n<td>Inglés</td>\\n<td>1979</td>\\n<td>14 millones<sup id=\"cite_ref-80\" class=\"reference separada\"><a href=\"#cite_note-80\"><span class=\"corchete-llamada\">[</span>79<span class=\"corchete-llamada\">]</span></a></sup>&#8203;\\n</td></tr>\\n<tr>\\n<td><i><a href=\"/wiki/Martes_con_mi_viejo_profesor\" title=\"Martes con mi viejo profesor\">Martes con mi viejo profesor</a></i> (<i>Tuesdays with Morrie</i>)</td>\\n<td><a href=\"/wiki/Mitch_Albom\" title=\"Mitch Albom\">Mitch Albom</a></td>\\n<td>Inglés</td>\\n<td>1997</td>\\n<td>14 millones<sup id=\"cite_ref-81\" class=\"reference separada\"><a href=\"#cite_note-81\"><span class=\"corchete-llamada\">[</span>80<span class=\"corchete-llamada\">]</span></a></sup>&#8203;\\n</td></tr>\\n<tr>\\n<td><i><a href=\"/w/index.php?title=La_parcela_de_Dios&amp;action=edit&amp;redlink=1\" class=\"new\" title=\"La parcela de Dios (aún no redactado)\">La parcela de Dios</a></i> (<i>God\\'s Little Acre</i>)</td>\\n<td><a href=\"/wiki/Erskine_Caldwell\" title=\"Erskine Caldwell\">Erskine Caldwell</a></td>\\n<td>Inglés</td>\\n<td>1933</td>\\n<td>14 millones<sup id=\"cite_ref-82\" class=\"reference separada\"><a href=\"#cite_note-82\"><span class=\"corchete-llamada\">[</span>81<span class=\"corchete-llamada\">]</span></a></sup>&#8203;\\n</td></tr>\\n<tr>\\n<td><i><a href=\"/wiki/Donde_el_coraz%C3%B3n_te_lleve_(novela)\" title=\"Donde el corazón te lleve (novela)\">Donde el corazón te lleve</a></i> (<i>Va\\' dove ti porta il cuore</i>)</td>\\n<td><a href=\"/wiki/Susanna_Tamaro\" title=\"Susanna Tamaro\">Susanna Tamaro</a></td>\\n<td><a href=\"/wiki/Idioma_italiano\" title=\"Idioma italiano\">Italiano</a></td>\\n<td>1994</td>\\n<td>14 millones<sup id=\"cite_ref-83\" class=\"reference separada\"><a href=\"#cite_note-83\"><span class=\"corchete-llamada\">[</span>82<span class=\"corchete-llamada\">]</span></a></sup>&#8203;\\n</td></tr>\\n<tr>\\n<td><a href=\"/wiki/Sinsajo\" title=\"Sinsajo\">Sinsajo</a><i> (</i>Mockingjay<i>)</i></td>\\n<td><a href=\"/wiki/Suzanne_Collins\" title=\"Suzanne Collins\">Suzanne Collins</a></td>\\n<td>Inglés</td>\\n<td>2010</td>\\n<td>Más de 13 millones<sup id=\"cite_ref-84\" class=\"reference separada\"><a href=\"#cite_note-84\"><span class=\"corchete-llamada\">[</span>83<span class=\"corchete-llamada\">]</span></a></sup>&#8203;\\n</td></tr>\\n<tr>\\n<td><i><a href=\"/wiki/Rebeldes_(novela)\" title=\"Rebeldes (novela)\">Rebeldes</a></i> (<i>The Outsiders</i>)</td>\\n<td><a href=\"/wiki/Susan_E._Hinton\" class=\"mw-redirect\" title=\"Susan E. Hinton\">Susan E. Hinton</a></td>\\n<td>Inglés</td>\\n<td>1967</td>\\n<td>13 millones<sup id=\"cite_ref-85\" class=\"reference separada\"><a href=\"#cite_note-85\"><span class=\"corchete-llamada\">[</span>84<span class=\"corchete-llamada\">]</span></a></sup>&#8203;\\n</td></tr>\\n<tr>\\n<td><i><a href=\"/wiki/Charlie_y_la_f%C3%A1brica_de_chocolate\" title=\"Charlie y la fábrica de chocolate\">Charlie y la fábrica de chocolate</a></i> (<i>Charlie and the Chocolate Factory</i>)</td>\\n<td><a href=\"/wiki/Roald_Dahl\" title=\"Roald Dahl\">Roald Dahl</a></td>\\n<td>Inglés</td>\\n<td>1964</td>\\n<td>13 millones<sup id=\"cite_ref-86\" class=\"reference separada\"><a href=\"#cite_note-86\"><span class=\"corchete-llamada\">[</span>85<span class=\"corchete-llamada\">]</span></a></sup>&#8203;\\n</td></tr>\\n<tr>\\n<td><i><a href=\"/w/index.php?title=Mi_lucha_(Manifiesto)&amp;action=edit&amp;redlink=1\" class=\"new\" title=\"Mi lucha (Manifiesto) (aún no redactado)\">Mi lucha</a></i> (<i>Mein Kampf</i>)</td>\\n<td><a href=\"/wiki/Adolf_Hitler\" title=\"Adolf Hitler\">Adolf Hitler</a></td>\\n<td><a href=\"/w/index.php?title=Idioma_Alem%C3%A1n&amp;action=edit&amp;redlink=1\" class=\"new\" title=\"Idioma Alemán (aún no redactado)\">Alemán</a></td>\\n<td>1928</td>\\n<td>12,5 millones (hasta 1945)<a rel=\"nofollow\" class=\"external autonumber\" href=\"https://encyclopedia.ushmm.org/content/es/article/mein-kampf\">[1]</a><a rel=\"nofollow\" class=\"external autonumber\" href=\"https://www.lavanguardia.com/historiayvida/historia-contemporanea/20190617/47309882691/el-mein-kampf-de-hitler-en-datos.html%3ffacet=amp\">[2]</a>\\n</td></tr>\\n<tr>\\n<td><i><a href=\"/wiki/Tokio_blues_(Norwegian_Wood)\" title=\"Tokio blues (Norwegian Wood)\">Tokio blues</a></i> (<i>ノルウェイの森</i>, <i>Noruwei no Mori</i>)</td>\\n<td><a href=\"/wiki/Haruki_Murakami\" title=\"Haruki Murakami\">Haruki Murakami</a></td>\\n<td><a href=\"/wiki/Idioma_japon%C3%A9s\" title=\"Idioma japonés\">Japonés</a></td>\\n<td>1987</td>\\n<td>Más de 12 millones<sup id=\"cite_ref-87\" class=\"reference separada\"><a href=\"#cite_note-87\"><span class=\"corchete-llamada\">[</span>86<span class=\"corchete-llamada\">]</span></a></sup>&#8203;\\n</td></tr>\\n<tr>\\n<td><i><a href=\"/wiki/Peyton_Place_(novela)\" title=\"Peyton Place (novela)\">Peyton Place</a></i></td>\\n<td><a href=\"/wiki/Grace_Metalious\" title=\"Grace Metalious\">Grace Metalious</a></td>\\n<td>Inglés</td>\\n<td>1956</td>\\n<td>12 millones<sup id=\"cite_ref-88\" class=\"reference separada\"><a href=\"#cite_note-88\"><span class=\"corchete-llamada\">[</span>87<span class=\"corchete-llamada\">]</span></a></sup>&#8203;\\n</td></tr>\\n<tr>\\n<td><i><a href=\"/wiki/Dune\" title=\"Dune\">Dune</a></i></td>\\n<td><a href=\"/wiki/Frank_Herbert\" title=\"Frank Herbert\">Frank Herbert</a></td>\\n<td>Inglés</td>\\n<td>1965</td>\\n<td>12 millones<sup id=\"cite_ref-89\" class=\"reference separada\"><a href=\"#cite_note-89\"><span class=\"corchete-llamada\">[</span>88<span class=\"corchete-llamada\">]</span></a></sup>&#8203;\\n</td></tr>\\n<tr>\\n<td><i><a href=\"/wiki/La_peste\" title=\"La peste\">La peste</a></i> (<i>La Peste</i>)</td>\\n<td><a href=\"/wiki/Albert_Camus\" title=\"Albert Camus\">Albert Camus</a></td>\\n<td><a href=\"/wiki/Idioma_franc%C3%A9s\" title=\"Idioma francés\">Francés</a></td>\\n<td>1947</td>\\n<td>12 millones<sup id=\"cite_ref-90\" class=\"reference separada\"><a href=\"#cite_note-90\"><span class=\"corchete-llamada\">[</span>89<span class=\"corchete-llamada\">]</span></a></sup>&#8203;\\n</td></tr>\\n<tr>\\n<td><i><a href=\"/wiki/Indigno_de_ser_humano\" title=\"Indigno de ser humano\">Indigno de ser humano</a></i> (<i>人間失格</i>, <i>Ningen shikkaku</i>)</td>\\n<td><a href=\"/wiki/Osamu_Dazai\" title=\"Osamu Dazai\">Osamu Dazai</a></td>\\n<td>Japonés</td>\\n<td>1948</td>\\n<td>12 millones<sup id=\"cite_ref-91\" class=\"reference separada\"><a href=\"#cite_note-91\"><span class=\"corchete-llamada\">[</span>90<span class=\"corchete-llamada\">]</span></a></sup>&#8203;\\n</td></tr>\\n<tr>\\n<td><i><a href=\"/wiki/El_mono_desnudo\" title=\"El mono desnudo\">El mono desnudo</a></i> (<i>The Naked Ape</i>)</td>\\n<td><a href=\"/wiki/Desmond_Morris\" title=\"Desmond Morris\">Desmond Morris</a></td>\\n<td>Inglés</td>\\n<td>1968</td>\\n<td>12 millones<sup id=\"cite_ref-92\" class=\"reference separada\"><a href=\"#cite_note-92\"><span class=\"corchete-llamada\">[</span>91<span class=\"corchete-llamada\">]</span></a></sup>&#8203;\\n</td></tr>\\n<tr>\\n<td><i><a href=\"/wiki/Los_puentes_de_Madison_(novela)\" title=\"Los puentes de Madison (novela)\">Los puentes de Madison</a></i> (<i>The Bridges of Madison County</i>)</td>\\n<td><a href=\"/wiki/Robert_James_Waller\" title=\"Robert James Waller\">Robert James Waller</a></td>\\n<td>Inglés</td>\\n<td>1992</td>\\n<td>12 millones<sup id=\"cite_ref-93\" class=\"reference separada\"><a href=\"#cite_note-93\"><span class=\"corchete-llamada\">[</span>92<span class=\"corchete-llamada\">]</span></a></sup>&#8203;\\n</td></tr>\\n<tr>\\n<td><i><a href=\"/wiki/Todo_se_desmorona\" title=\"Todo se desmorona\">Todo se desmorona</a></i> (<i>Things Fall Apart</i>)</td>\\n<td><a href=\"/wiki/Chinua_Achebe\" title=\"Chinua Achebe\">Chinua Achebe</a></td>\\n<td>Inglés</td>\\n<td>1958</td>\\n<td>11 millones<sup id=\"cite_ref-94\" class=\"reference separada\"><a href=\"#cite_note-94\"><span class=\"corchete-llamada\">[</span>93<span class=\"corchete-llamada\">]</span></a></sup>&#8203;\\n</td></tr>\\n<tr>\\n<td><i><a href=\"/wiki/El_profeta_(obra)\" title=\"El profeta (obra)\">El profeta</a></i> (<i>The Prophet</i>)</td>\\n<td><a href=\"/wiki/Khalil_Gibran\" class=\"mw-redirect\" title=\"Khalil Gibran\">Khalil Gibran</a></td>\\n<td>Inglés</td>\\n<td>1923</td>\\n<td>11 millones<sup id=\"cite_ref-95\" class=\"reference separada\"><a href=\"#cite_note-95\"><span class=\"corchete-llamada\">[</span>94<span class=\"corchete-llamada\">]</span></a></sup>&#8203;\\n</td></tr>\\n<tr>\\n<td><i><a href=\"/wiki/El_exorcista_(novela)\" title=\"El exorcista (novela)\">El exorcista</a></i> (<i>The Exorcist</i>)</td>\\n<td><a href=\"/wiki/William_Peter_Blatty\" title=\"William Peter Blatty\">William Peter Blatty</a></td>\\n<td>Inglés</td>\\n<td>1971</td>\\n<td>11 millones<sup id=\"cite_ref-96\" class=\"reference separada\"><a href=\"#cite_note-96\"><span class=\"corchete-llamada\">[</span>95<span class=\"corchete-llamada\">]</span></a></sup>&#8203;\\n</td></tr>\\n<tr>\\n<td><i><a href=\"/w/index.php?title=El_gr%C3%BAfalo&amp;action=edit&amp;redlink=1\" class=\"new\" title=\"El grúfalo (aún no redactado)\">El grúfalo</a></i> (<i>The Gruffalo</i>)</td>\\n<td><a href=\"/wiki/Julia_Donaldson\" title=\"Julia Donaldson\">Julia Donaldson</a>, ilustrado por <a href=\"/w/index.php?title=Axel_Scheffler&amp;action=edit&amp;redlink=1\" class=\"new\" title=\"Axel Scheffler (aún no redactado)\">Axel Scheffler</a></td>\\n<td>Inglés</td>\\n<td>1999</td>\\n<td>10,5 millones<sup id=\"cite_ref-97\" class=\"reference separada\"><a href=\"#cite_note-97\"><span class=\"corchete-llamada\">[</span>96<span class=\"corchete-llamada\">]</span></a></sup>&#8203;\\n</td></tr>\\n<tr>\\n<td><i><a href=\"/wiki/Trampa_22_(libro)\" title=\"Trampa 22 (libro)\">Trampa 22</a></i> (<i>Catch-22</i>)</td>\\n<td><a href=\"/wiki/Joseph_Heller\" title=\"Joseph Heller\">Joseph Heller</a></td>\\n<td>Inglés</td>\\n<td>1961</td>\\n<td>10 millones<sup id=\"cite_ref-98\" class=\"reference separada\"><a href=\"#cite_note-98\"><span class=\"corchete-llamada\">[</span>97<span class=\"corchete-llamada\">]</span></a></sup>&#8203;\\n</td></tr>\\n<tr>\\n<td><i><a href=\"/wiki/La_isla_de_las_tormentas\" title=\"La isla de las tormentas\">La isla de las tormentas</a></i> (<i>Storm Island</i> o <i>Eye of the Needle</i>)</td>\\n<td><a href=\"/wiki/Ken_Follett\" title=\"Ken Follett\">Ken Follett</a></td>\\n<td>Inglés</td>\\n<td>1978</td>\\n<td>10 millones<sup id=\"cite_ref-99\" class=\"reference separada\"><a href=\"#cite_note-99\"><span class=\"corchete-llamada\">[</span>98<span class=\"corchete-llamada\">]</span></a></sup>&#8203;\\n</td></tr>\\n<tr>\\n<td><i><a href=\"/wiki/Historia_del_tiempo_(libro)\" class=\"mw-redirect\" title=\"Historia del tiempo (libro)\">Historia del tiempo</a></i> o <i>Breve historia del tiempo</i> o <i>Historia del tiempo: del Big Bang a los agujeros negros</i> (<i>A Brief History of Time: From the Big Bang to Black Holes</i>)</td>\\n<td><a href=\"/wiki/Stephen_Hawking\" title=\"Stephen Hawking\">Stephen Hawking</a></td>\\n<td>Inglés</td>\\n<td>1988</td>\\n<td>10 millones<sup id=\"cite_ref-100\" class=\"reference separada\"><a href=\"#cite_note-100\"><span class=\"corchete-llamada\">[</span>99<span class=\"corchete-llamada\">]</span></a></sup>&#8203;\\n</td></tr>\\n<tr>\\n<td><i><a href=\"/wiki/The_Cat_in_the_Hat\" class=\"mw-redirect\" title=\"The Cat in the Hat\">The Cat in the Hat</a></i>, <i>El gato con sombrero</i>, <i>El gato en el sombrero</i> o <i>El gato garabato</i></td>\\n<td><a href=\"/wiki/Dr._Seuss\" title=\"Dr. Seuss\">Dr. Seuss</a></td>\\n<td>Inglés</td>\\n<td>1957</td>\\n<td>10 millones<sup id=\"cite_ref-101\" class=\"reference separada\"><a href=\"#cite_note-101\"><span class=\"corchete-llamada\">[</span>100<span class=\"corchete-llamada\">]</span></a></sup>&#8203;\\n</td></tr>\\n<tr>\\n<td><i><a href=\"/wiki/Desde_mi_cielo\" title=\"Desde mi cielo\">Desde mi cielo</a></i> (<i>The Lovely Bones</i>)</td>\\n<td><a href=\"/wiki/Alice_Sebold\" title=\"Alice Sebold\">Alice Sebold</a></td>\\n<td>Inglés</td>\\n<td>2002</td>\\n<td>10 millones<sup id=\"cite_ref-102\" class=\"reference separada\"><a href=\"#cite_note-102\"><span class=\"corchete-llamada\">[</span>101<span class=\"corchete-llamada\">]</span></a></sup>&#8203;\\n</td></tr>\\n<tr>\\n<td><i><a href=\"/wiki/Cisnes_salvajes\" title=\"Cisnes salvajes\">Cisnes salvajes</a></i> (<i>Wild Swans</i>)</td>\\n<td><a href=\"/wiki/Jung_Chang\" title=\"Jung Chang\">Jung Chang</a></td>\\n<td>Inglés</td>\\n<td>1992</td>\\n<td>10 millones<sup id=\"cite_ref-103\" class=\"reference separada\"><a href=\"#cite_note-103\"><span class=\"corchete-llamada\">[</span>102<span class=\"corchete-llamada\">]</span></a></sup>&#8203;\\n</td></tr>\\n<tr>\\n<td><i><a href=\"/wiki/Santa_Evita\" title=\"Santa Evita\">Santa Evita</a></i></td>\\n<td><a href=\"/wiki/Tom%C3%A1s_Eloy_Mart%C3%ADnez\" title=\"Tomás Eloy Martínez\">Tomás Eloy Martínez</a></td>\\n<td>Español</td>\\n<td>1995</td>\\n<td>10 millones<sup id=\"cite_ref-104\" class=\"reference separada\"><a href=\"#cite_note-104\"><span class=\"corchete-llamada\">[</span>103<span class=\"corchete-llamada\">]</span></a></sup>&#8203;\\n</td></tr>\\n<tr>\\n<td><i><a href=\"/wiki/La_noche_(libro)\" title=\"La noche (libro)\">La noche</a></i> (<i>Un di Velt Hot Geshvign</i>)</td>\\n<td><a href=\"/wiki/Elie_Wiesel\" title=\"Elie Wiesel\">Elie Wiesel</a></td>\\n<td><a href=\"/wiki/Yidis\" title=\"Yidis\">Yidis</a></td>\\n<td>1958</td>\\n<td>10 millones<sup id=\"cite_ref-105\" class=\"reference separada\"><a href=\"#cite_note-105\"><span class=\"corchete-llamada\">[</span>104<span class=\"corchete-llamada\">]</span></a></sup>&#8203;\\n</td></tr>\\n<tr>\\n<td><i><a href=\"/wiki/Cometas_en_el_cielo_(novela)\" title=\"Cometas en el cielo (novela)\">Cometas en el cielo</a></i> (<i>The Kite Runner</i>)</td>\\n<td><a href=\"/wiki/Khaled_Hosseini\" title=\"Khaled Hosseini\">Khaled Hosseini</a></td>\\n<td>Inglés</td>\\n<td>2003</td>\\n<td>10 millones<sup id=\"cite_ref-106\" class=\"reference separada\"><a href=\"#cite_note-106\"><span class=\"corchete-llamada\">[</span>105<span class=\"corchete-llamada\">]</span></a></sup>&#8203;\\n</td></tr>\\n<tr>\\n<td><i><a href=\"/w/index.php?title=Observaciones_de_Yu_Dan_sobre_las_Analectas_de_Confucio&amp;action=edit&amp;redlink=1\" class=\"new\" title=\"Observaciones de Yu Dan sobre las Analectas de Confucio (aún no redactado)\">Observaciones de Yu Dan sobre las <i>Analectas</i> de Confucio</a></i> (于丹《论语》心得 , )</td>\\n<td><a href=\"/w/index.php?title=Yu_Dan&amp;action=edit&amp;redlink=1\" class=\"new\" title=\"Yu Dan (aún no redactado)\">Yu Dan</a></td>\\n<td><a href=\"/wiki/Idioma_chino\" title=\"Idioma chino\">Chino</a></td>\\n<td>2006</td>\\n<td>10 millones<sup id=\"cite_ref-107\" class=\"reference separada\"><a href=\"#cite_note-107\"><span class=\"corchete-llamada\">[</span>106<span class=\"corchete-llamada\">]</span></a></sup>&#8203;\\n</td></tr>\\n<tr>\\n<td><i><a href=\"/w/index.php?title=La_mujer_total&amp;action=edit&amp;redlink=1\" class=\"new\" title=\"La mujer total (aún no redactado)\">La mujer total</a></i> (<i>The Total Woman</i>)</td>\\n<td><a href=\"/w/index.php?title=Marabel_Morgan&amp;action=edit&amp;redlink=1\" class=\"new\" title=\"Marabel Morgan (aún no redactado)\">Marabel Morgan</a></td>\\n<td>Inglés</td>\\n<td>1974</td>\\n<td>10 millones<sup id=\"cite_ref-108\" class=\"reference separada\"><a href=\"#cite_note-108\"><span class=\"corchete-llamada\">[</span>107<span class=\"corchete-llamada\">]</span></a></sup>&#8203;\\n</td></tr>\\n<tr>\\n<td><i><a href=\"/w/index.php?title=Historia_del_futuro,_la_sociedad_del_conocimiento&amp;action=edit&amp;redlink=1\" class=\"new\" title=\"Historia del futuro, la sociedad del conocimiento (aún no redactado)\">Historia del futuro, la sociedad del conocimiento</a></i> (<i>知価革命 </i>, )</td>\\n<td><a href=\"/w/index.php?title=Taichi_Sakaiya&amp;action=edit&amp;redlink=1\" class=\"new\" title=\"Taichi Sakaiya (aún no redactado)\">Taichi Sakaiya</a></td>\\n<td>Japonés</td>\\n<td>1985</td>\\n<td>10 millones<sup id=\"cite_ref-109\" class=\"reference separada\"><a href=\"#cite_note-109\"><span class=\"corchete-llamada\">[</span>108<span class=\"corchete-llamada\">]</span></a></sup>&#8203;\\n</td></tr>\\n<tr>\\n<td><i><a href=\"/w/index.php?title=Problemas_de_la_econom%C3%ADa_socialista_de_China&amp;action=edit&amp;redlink=1\" class=\"new\" title=\"Problemas de la economía socialista de China (aún no redactado)\">Problemas de la economía socialista de China</a></i> (中国社会主义经济问题研究 , )</td>\\n<td><a href=\"/w/index.php?title=Xue_Muqiao&amp;action=edit&amp;redlink=1\" class=\"new\" title=\"Xue Muqiao (aún no redactado)\">Xue Muqiao</a></td>\\n<td>Chino</td>\\n<td>1979</td>\\n<td>10 millones<sup id=\"cite_ref-110\" class=\"reference separada\"><a href=\"#cite_note-110\"><span class=\"corchete-llamada\">[</span>109<span class=\"corchete-llamada\">]</span></a></sup>&#8203;\\n</td></tr>\\n<tr>\\n<td><i><a href=\"/w/index.php?title=%C2%BFDe_qu%C3%A9_color_es_su_paraca%C3%ADdas%3F&amp;action=edit&amp;redlink=1\" class=\"new\" title=\"¿De qué color es su paracaídas? (aún no redactado)\">¿De qué color es su paracaídas?</a></i> (<i>What Color is Your Parachute?</i>)</td>\\n<td><a href=\"/w/index.php?title=Richard_Nelson_Bolles&amp;action=edit&amp;redlink=1\" class=\"new\" title=\"Richard Nelson Bolles (aún no redactado)\">Richard Nelson Bolles</a></td>\\n<td>Inglés</td>\\n<td>1970</td>\\n<td>10 millones<sup id=\"cite_ref-111\" class=\"reference separada\"><a href=\"#cite_note-111\"><span class=\"corchete-llamada\">[</span>110<span class=\"corchete-llamada\">]</span></a></sup>&#8203;\\n</td></tr></tbody></table>\\n<div class=\"mw-heading mw-heading2\"><h2 id=\"Véase_también\"><span id=\"V.C3.A9ase_tambi.C3.A9n\"></span>Véase también</h2><span class=\"mw-editsection\"><span class=\"mw-editsection-bracket\">[</span><a href=\"/w/index.php?title=Anexo:Libros_m%C3%A1s_vendidos&amp;action=edit&amp;section=6\" title=\"Editar sección: Véase también\"><span>editar</span></a><span class=\"mw-editsection-bracket\">]</span></span></div>\\n<ul><li><a href=\"/wiki/Anexo:Colecciones_de_libros_m%C3%A1s_vendidas\" title=\"Anexo:Colecciones de libros más vendidas\">Anexo:Colecciones de libros más vendidas</a></li>\\n<li><a href=\"/wiki/Anexo:Lista_Time_los_mejores_10_libros_de_ficci%C3%B3n_por_a%C3%B1o\" title=\"Anexo:Lista Time los mejores 10 libros de ficción por año\">Anexo:Lista Time los mejores 10 libros de ficción por año</a></li>\\n<li><a href=\"/wiki/Anexo:Lista_El_Mundo_de_las_100_mejores_novelas_en_espa%C3%B1ol\" title=\"Anexo:Lista El Mundo de las 100 mejores novelas en español\">Anexo:Lista El Mundo de las 100 mejores novelas en español</a></li></ul>\\n<div class=\"mw-heading mw-heading2\"><h2 id=\"Notas\">Notas</h2><span class=\"mw-editsection\"><span class=\"mw-editsection-bracket\">[</span><a href=\"/w/index.php?title=Anexo:Libros_m%C3%A1s_vendidos&amp;action=edit&amp;section=7\" title=\"Editar sección: Notas\"><span>editar</span></a><span class=\"mw-editsection-bracket\">]</span></span></div>\\n<div class=\"listaref\" style=\"-moz-column-count:2; -webkit-column-count:2; column-count:2; list-style-type: decimal;\"><ol class=\"references\">\\n<li id=\"cite_note-11\"><span class=\"mw-cite-backlink\"><a href=\"#cite_ref-11\">↑</a></span> <span class=\"reference-text\">Discutible: las copias podrían no haber sido vendidas, pues la referencia entrecomilla <i>“sold”</i>.</span>\\n</li>\\n</ol></div>\\n<div class=\"mw-heading mw-heading2\"><h2 id=\"Referencias\">Referencias</h2><span class=\"mw-editsection\"><span class=\"mw-editsection-bracket\">[</span><a href=\"/w/index.php?title=Anexo:Libros_m%C3%A1s_vendidos&amp;action=edit&amp;section=8\" title=\"Editar sección: Referencias\"><span>editar</span></a><span class=\"mw-editsection-bracket\">]</span></span></div>\\n<div class=\"listaref\" style=\"-moz-column-count:2; -webkit-column-count:2; column-count:2; list-style-type: decimal;\"><ol class=\"references\">\\n<li id=\"cite_note-1\"><span class=\"mw-cite-backlink\"><a href=\"#cite_ref-1\">↑</a></span> <span class=\"reference-text\"><span id=\"CITAREFKingsburyotoño_de_2005\" class=\"citation publicación\">Kingsbury, Paul (otoño de 2005). <a rel=\"nofollow\" class=\"external text\" href=\"http://news.vanderbilt.edu/vanderbiltmagazine/archives/images/inclass_f05.pdf\">«Lost in La Mancha»</a>. <i>Vanderbilt Magazine</i> <span style=\"color:var(--color-subtle, #555 );\">(en inglés)</span><span class=\"reference-accessdate\">. Consultado el 3 de abril de 2015</span>.</span><span title=\"ctx_ver=Z39.88-2004&amp;rfr_id=info%3Asid%2Fes.wikipedia.org%3AAnexo%3ALibros+m%C3%A1s+vendidos&amp;rft.atitle=Lost+in+La+Mancha&amp;rft.au=Kingsbury%2C+Paul&amp;rft.aufirst=Paul&amp;rft.aulast=Kingsbury&amp;rft.date=oto%C3%B1o+de+2005&amp;rft.genre=article&amp;rft.jtitle=Vanderbilt+Magazine&amp;rft_id=http%3A%2F%2Fnews.vanderbilt.edu%2Fvanderbiltmagazine%2Farchives%2Fimages%2Finclass_f05.pdf&amp;rft_val_fmt=info%3Aofi%2Ffmt%3Akev%3Amtx%3Ajournal\" class=\"Z3988\"><span style=\"display:none;\">&#160;</span></span></span>\\n</li>\\n<li id=\"cite_note-2\"><span class=\"mw-cite-backlink\"><a href=\"#cite_ref-2\">↑</a></span> <span class=\"reference-text\"><span class=\"citation web\"><a rel=\"nofollow\" class=\"external text\" href=\"http://www.americanewsne.com/index.php?option=com_content&amp;view=article&amp;id=419:a-proposito-del-dia-del-idioma\">«A propósito del Día del Idioma»</a>. America News<span class=\"reference-accessdate\">. Consultado el 17 de agosto de 2012</span>. «Miguel de Cervantes y Saavedra fue el más destacado dramaturgo, poeta y novelista español, y el autor de la novela <i>El ingenioso hidalgo don Quijote de la Mancha</i>, considerada como la primera novela moderna de la literatura universal y el libro más vendido y más traducido después de <i>La Biblia</i> en todo el mundo».</span><span title=\"ctx_ver=Z39.88-2004&amp;rfr_id=info%3Asid%2Fes.wikipedia.org%3AAnexo%3ALibros+m%C3%A1s+vendidos&amp;rft.btitle=A+prop%C3%B3sito+del+D%C3%ADa+del+Idioma&amp;rft.genre=book&amp;rft.pub=America+News&amp;rft_id=http%3A%2F%2Fwww.americanewsne.com%2Findex.php%3Foption%3Dcom_content%26view%3Darticle%26id%3D419%3Aa-proposito-del-dia-del-idioma&amp;rft_val_fmt=info%3Aofi%2Ffmt%3Akev%3Amtx%3Abook\" class=\"Z3988\"><span style=\"display:none;\">&#160;</span></span></span>\\n</li>\\n<li id=\"cite_note-3\"><span class=\"mw-cite-backlink\"><a href=\"#cite_ref-3\">↑</a></span> <span class=\"reference-text\"><span class=\"citation web\"><a rel=\"nofollow\" class=\"external text\" href=\"http://www.broadway.com/The-Best-of-Times-A-Tale-of-Two-Cities-to-Open-at-Broadways-Hirschfeld-Theatre-on-Sept-18/broadway_news/562600\">«The Best of Times! <i>A Tale of Two Cities</i> to Open at Broadway\\'s Hirschfeld Theatre on Sept. 18»</a>. 24 de marzo de 2008<span class=\"reference-accessdate\">. Consultado el 3 de enero de 2011</span>. «Desde su publicación el 30 de Agosto de 1859, \"Historia de Dos Ciudades ha vendido más de 200 millones de copias en varios idiomas.»</span><span title=\"ctx_ver=Z39.88-2004&amp;rfr_id=info%3Asid%2Fes.wikipedia.org%3AAnexo%3ALibros+m%C3%A1s+vendidos&amp;rft.btitle=The+Best+of+Times%21+%27%27A+Tale+of+Two+Cities%27%27+to+Open+at+Broadway%27s+Hirschfeld+Theatre+on+Sept.+18&amp;rft.date=24+de+marzo+de+2008&amp;rft.genre=book&amp;rft_id=http%3A%2F%2Fwww.broadway.com%2FThe-Best-of-Times-A-Tale-of-Two-Cities-to-Open-at-Broadways-Hirschfeld-Theatre-on-Sept-18%2Fbroadway_news%2F562600&amp;rft_val_fmt=info%3Aofi%2Ffmt%3Akev%3Amtx%3Abook\" class=\"Z3988\"><span style=\"display:none;\">&#160;</span></span></span>\\n</li>\\n<li id=\"cite_note-4\"><span class=\"mw-cite-backlink\"><a href=\"#cite_ref-4\">↑</a></span> <span class=\"reference-text\">se suele considerar un libro único, pues eso fue lo planeado y escrito por el autor. Sin embargo, hay quien habla de él como una <a href=\"/wiki/Trilog%C3%ADa\" title=\"Trilogía\">trilogía</a> porque fue publicado originalmente en tres volúmenes: <i><a href=\"/wiki/La_Comunidad_del_Anillo\" title=\"La Comunidad del Anillo\">La Comunidad del Anillo</a></i>, <i><a href=\"/wiki/Las_dos_torres\" title=\"Las dos torres\">Las dos torres</a></i> y <i><a href=\"/wiki/El_retorno_del_Rey\" title=\"El retorno del Rey\">El retorno del Rey</a></i>. La decisión fue tomada por la editorial, por la escasez de papel en la posguerra y para facilitar la venta del primer volumen con un precio menor. En reimpresiones posteriores el libro ha aparecido en un único volumen, y, al menos en un caso, dividido en siete. La cifra de 150 millones es una estimación de 2007 de copias vendidas de la historia completa, publicada en un volumen, tres u otra configuración.</span>\\n</li>\\n<li id=\"cite_note-5\"><span class=\"mw-cite-backlink\"><a href=\"#cite_ref-5\">↑</a></span> <span class=\"reference-text\"><span class=\"citation web\"><a rel=\"nofollow\" class=\"external text\" href=\"http://visual.ly/los-10-libros-mas-leidos-de-la-historia\">«Top 10 libros más leídos de la historia»</a>. 23 de abril de 2017. «Infografía de los libros más vendidos en los últimos 50 años.»</span><span title=\"ctx_ver=Z39.88-2004&amp;rfr_id=info%3Asid%2Fes.wikipedia.org%3AAnexo%3ALibros+m%C3%A1s+vendidos&amp;rft.btitle=Top+10+libros+m%C3%A1s+le%C3%ADdos+de+la+historia&amp;rft.date=23+de+abril+de+2017&amp;rft.genre=book&amp;rft_id=http%3A%2F%2Fvisual.ly%2Flos-10-libros-mas-leidos-de-la-historia&amp;rft_val_fmt=info%3Aofi%2Ffmt%3Akev%3Amtx%3Abook\" class=\"Z3988\"><span style=\"display:none;\">&#160;</span></span></span>\\n</li>\\n<li id=\"cite_note-6\"><span class=\"mw-cite-backlink\"><a href=\"#cite_ref-6\">↑</a></span> <span class=\"reference-text\"><span class=\"citation web\"> <a rel=\"nofollow\" class=\"external text\" href=\"https://www.muyhistoria.es/contemporanea/fotos/los-libros-mas-vendidos-de-la-historia/7\">https://www.muyhistoria.es/contemporanea/fotos/los-libros-mas-vendidos-de-la-historia/7</a>.</span><span title=\"ctx_ver=Z39.88-2004&amp;rfr_id=info%3Asid%2Fes.wikipedia.org%3AAnexo%3ALibros+m%C3%A1s+vendidos&amp;rft.genre=book&amp;rft_id=https%3A%2F%2Fwww.muyhistoria.es%2Fcontemporanea%2Ffotos%2Flos-libros-mas-vendidos-de-la-historia%2F7&amp;rft_val_fmt=info%3Aofi%2Ffmt%3Akev%3Amtx%3Abook\" class=\"Z3988\"><span style=\"display:none;\">&#160;</span></span> <span style=\"font-size:100%\" class=\"error citation-comment\">Falta el <code>&#124;título=</code> (<a href=\"/wiki/Ayuda:Errores_en_las_referencias#citation_missing_title\" title=\"Ayuda:Errores en las referencias\">ayuda</a>)</span></span>\\n</li>\\n<li id=\"cite_note-7\"><span class=\"mw-cite-backlink\"><a href=\"#cite_ref-7\">↑</a></span> <span class=\"reference-text\"><span id=\"CITAREFAdamson3_de_mayo_de_2012\" class=\"citation web\">Adamson, Thomas (3 de mayo de 2012). <a rel=\"nofollow\" class=\"external text\" href=\"http://thetimes-tribune.com/news/little-prince-discovery-offers-new-insight-into-classic-book-1.1310195\">«<span style=\"padding-left:0.2em;\">\\'</span>Little Prince\\' discovery offers new insight into classic book»</a> <span style=\"color:var(--color-subtle, #555 );\">(en inglés)</span>. <i><a href=\"/wiki/Associated_Press\" title=\"Associated Press\">Associated Press</a></i>; TimesTribune.com<span class=\"reference-accessdate\">. Consultado el 10 de abril de 2013</span>. «In 1943, the text turned from a scribbled manuscript by a relatively unknown author, into a literary phenomenon that has since sold 140 million copies, in about 260 languages.»</span><span title=\"ctx_ver=Z39.88-2004&amp;rfr_id=info%3Asid%2Fes.wikipedia.org%3AAnexo%3ALibros+m%C3%A1s+vendidos&amp;rft.au=Adamson%2C+Thomas&amp;rft.aufirst=Thomas&amp;rft.aulast=Adamson&amp;rft.btitle=%27Little+Prince%27+discovery+offers+new+insight+into+classic+book&amp;rft.date=3+de+mayo+de+2012&amp;rft.genre=book&amp;rft.pub=%27%27Associated+Press%27%27%3B+TimesTribune.com&amp;rft_id=http%3A%2F%2Fthetimes-tribune.com%2Fnews%2Flittle-prince-discovery-offers-new-insight-into-classic-book-1.1310195&amp;rft_val_fmt=info%3Aofi%2Ffmt%3Akev%3Amtx%3Abook\" class=\"Z3988\"><span style=\"display:none;\">&#160;</span></span></span>\\n</li>\\n<li id=\"cite_note-8\"><span class=\"mw-cite-backlink\"><a href=\"#cite_ref-8\">↑</a></span> <span class=\"reference-text\"><span class=\"citation web\"><a rel=\"nofollow\" class=\"external text\" href=\"http://news.bbc.co.uk/2/hi/uk_news/england/dorset/7302101.stm\">«Tolkien\\'s Hobbit fetches £60,000»</a>. <a href=\"/wiki/BBC\" title=\"BBC\">BBC</a>. 18 de marzo de 2008<span class=\"reference-accessdate\">. Consultado el 3 de enero de 2011</span>.</span><span title=\"ctx_ver=Z39.88-2004&amp;rfr_id=info%3Asid%2Fes.wikipedia.org%3AAnexo%3ALibros+m%C3%A1s+vendidos&amp;rft.btitle=Tolkien%27s+Hobbit+fetches+%C2%A360%2C000&amp;rft.date=18+de+marzo+de+2008&amp;rft.genre=book&amp;rft.pub=BBC&amp;rft_id=http%3A%2F%2Fnews.bbc.co.uk%2F2%2Fhi%2Fuk_news%2Fengland%2Fdorset%2F7302101.stm&amp;rft_val_fmt=info%3Aofi%2Ffmt%3Akev%3Amtx%3Abook\" class=\"Z3988\"><span style=\"display:none;\">&#160;</span></span></span>\\n</li>\\n<li id=\"cite_note-9\"><span class=\"mw-cite-backlink\"><a href=\"#cite_ref-9\">↑</a></span> <span class=\"reference-text\"><span class=\"citation web\"><a rel=\"nofollow\" class=\"external text\" href=\"http://www.china.org.cn/english/culture/151884.htm\">«Betting on The Red Mansions»</a>. China.org. 14 de diciembre de 2005<span class=\"reference-accessdate\">. Consultado el 3 de enero de 2011</span>. «Sun said that the book has sold over 100 millones copies worldwide so far».</span><span title=\"ctx_ver=Z39.88-2004&amp;rfr_id=info%3Asid%2Fes.wikipedia.org%3AAnexo%3ALibros+m%C3%A1s+vendidos&amp;rft.btitle=Betting+on+The+Red+Mansions&amp;rft.date=14+de+diciembre+de+2005&amp;rft.genre=book&amp;rft.pub=China.org&amp;rft_id=http%3A%2F%2Fwww.china.org.cn%2Fenglish%2Fculture%2F151884.htm&amp;rft_val_fmt=info%3Aofi%2Ffmt%3Akev%3Amtx%3Abook\" class=\"Z3988\"><span style=\"display:none;\">&#160;</span></span></span>\\n</li>\\n<li id=\"cite_note-chinascope-10\"><span class=\"mw-cite-backlink\"><a href=\"#cite_ref-chinascope_10-0\">↑</a></span> <span class=\"reference-text\"><span class=\"citation web\"><a rel=\"nofollow\" class=\"external text\" href=\"http://chinascope.org/main/content/view/413/131/\">«How Much Did Mao Zedong, Deng Xiaoping, and Jiang Zemin Get Paid for Their Publications?»</a>. <i>Chinascope Magazine</i>. Septiembre de 2005<span class=\"reference-accessdate\">. Consultado el 3 de enero de 2011</span>. «For Jiang Zemin, according to research, his book <i>On the Three Representations</i> “sold” more than 100 million copies. Each member of the 68 million Communist Party members has at least one copy. All the government employees, including teachers and doctors also have the book».</span><span title=\"ctx_ver=Z39.88-2004&amp;rfr_id=info%3Asid%2Fes.wikipedia.org%3AAnexo%3ALibros+m%C3%A1s+vendidos&amp;rft.atitle=How+Much+Did+Mao+Zedong%2C+Deng+Xiaoping%2C+and+Jiang+Zemin+Get+Paid+for+Their+Publications%3F&amp;rft.date=Septiembre+de+2005&amp;rft.genre=article&amp;rft.jtitle=Chinascope+Magazine&amp;rft_id=http%3A%2F%2Fchinascope.org%2Fmain%2Fcontent%2Fview%2F413%2F131%2F&amp;rft_val_fmt=info%3Aofi%2Ffmt%3Akev%3Amtx%3Ajournal\" class=\"Z3988\"><span style=\"display:none;\">&#160;</span></span></span>\\n</li>\\n<li id=\"cite_note-12\"><span class=\"mw-cite-backlink\"><a href=\"#cite_ref-12\">↑</a></span> <span class=\"reference-text\"><span id=\"CITAREFDaviesFons,_MaryHawkins,_DeborahHintz,_Martin14_de_septiembre_de_2007\" class=\"citation web\">Davies, Helen; Fons, Mary; Hawkins, Deborah; Hintz, Martin; Lundgren, Linnea; Priess, David; Robinson, Julia Clark; Seaburn, Paul; Stevens, Heidi; Theunissen, Steve (14 de septiembre de 2007). <a rel=\"nofollow\" class=\"external text\" href=\"http://entertainment.howstuffworks.com/21-best-selling-books-of-all-time.htm\">«21 Best-Selling Books of All Time»</a>. Editors of Publications International, Ltd<span class=\"reference-accessdate\">. Consultado el 3 de enero de 2011</span>.</span><span title=\"ctx_ver=Z39.88-2004&amp;rfr_id=info%3Asid%2Fes.wikipedia.org%3AAnexo%3ALibros+m%C3%A1s+vendidos&amp;rft.au=Davies%2C+Helen&amp;rft.au=Fons%2C+Mary&amp;rft.au=Hawkins%2C+Deborah&amp;rft.au=Hintz%2C+Martin&amp;rft.au=Lundgren%2C+Linnea&amp;rft.au=Priess%2C+David&amp;rft.au=Robinson%2C+Julia+Clark&amp;rft.au=Seaburn%2C+Paul&amp;rft.au=Stevens%2C+Heidi&amp;rft.au=Theunissen%2C+Steve&amp;rft.aufirst=Helen&amp;rft.aulast=Davies&amp;rft.btitle=21+Best-Selling+Books+of+All+Time&amp;rft.date=14+de+septiembre+de+2007&amp;rft.genre=book&amp;rft.pub=Editors+of+Publications+International%2C+Ltd.&amp;rft_id=http%3A%2F%2Fentertainment.howstuffworks.com%2F21-best-selling-books-of-all-time.htm&amp;rft_val_fmt=info%3Aofi%2Ffmt%3Akev%3Amtx%3Abook\" class=\"Z3988\"><span style=\"display:none;\">&#160;</span></span> <span style=\"font-size:100%\" class=\"error citation-comment\"><code>&#124;autor1=</code> y <code>&#124;last=</code> redundantes (<a href=\"/wiki/Ayuda:Errores_en_las_referencias#redundant_parameters\" title=\"Ayuda:Errores en las referencias\">ayuda</a>)</span></span>\\n</li>\\n<li id=\"cite_note-13\"><span class=\"mw-cite-backlink\"><a href=\"#cite_ref-13\">↑</a></span> <span class=\"reference-text\"><span class=\"citation web\"><a rel=\"nofollow\" class=\"external text\" href=\"http://news.bbc.co.uk/2/hi/uk_news/england/dorset/7302101.stm\">«Tolkien\\'s Hobbit fetches £60,000»</a>.</span><span title=\"ctx_ver=Z39.88-2004&amp;rfr_id=info%3Asid%2Fes.wikipedia.org%3AAnexo%3ALibros+m%C3%A1s+vendidos&amp;rft.btitle=Tolkien%27s+Hobbit+fetches+%C2%A360%2C000&amp;rft.genre=book&amp;rft_id=http%3A%2F%2Fnews.bbc.co.uk%2F2%2Fhi%2Fuk_news%2Fengland%2Fdorset%2F7302101.stm&amp;rft_val_fmt=info%3Aofi%2Ffmt%3Akev%3Amtx%3Abook\" class=\"Z3988\"><span style=\"display:none;\">&#160;</span></span></span>\\n</li>\\n<li id=\"cite_note-14\"><span class=\"mw-cite-backlink\"><a href=\"#cite_ref-14\">↑</a></span> <span class=\"reference-text\"><span class=\"citation web\"><a rel=\"nofollow\" class=\"external text\" href=\"http://www.telegraph.co.uk/culture/books/books-life/7545438/The-20-greatest-childrens-books-ever.html\">«The 20 greatest children\\'s books ever»</a>. <i>The Telegraph</i>. 3 de abril de 2010<span class=\"reference-accessdate\">. Consultado el 3 de enero de 2011</span>. «This classic story has sold more than 85 millones copies in 29 different idiomas since its publication in 1950».</span><span title=\"ctx_ver=Z39.88-2004&amp;rfr_id=info%3Asid%2Fes.wikipedia.org%3AAnexo%3ALibros+m%C3%A1s+vendidos&amp;rft.atitle=The+20+greatest+children%27s+books+ever&amp;rft.date=3+de+abril+de+2010&amp;rft.genre=article&amp;rft.jtitle=The+Telegraph&amp;rft_id=http%3A%2F%2Fwww.telegraph.co.uk%2Fculture%2Fbooks%2Fbooks-life%2F7545438%2FThe-20-greatest-childrens-books-ever.html&amp;rft_val_fmt=info%3Aofi%2Ffmt%3Akev%3Amtx%3Ajournal\" class=\"Z3988\"><span style=\"display:none;\">&#160;</span></span></span>\\n</li>\\n<li id=\"cite_note-15\"><span class=\"mw-cite-backlink\"><a href=\"#cite_ref-15\">↑</a></span> <span class=\"reference-text\"><span class=\"citation web\"><a rel=\"nofollow\" class=\"external text\" href=\"http://www.time.com/time/magazine/article/0,9171,842147,00.html\">«Cinema: Waiting for Leo»</a>. <i>Time</i>. 17 de septiembre de 1965<span class=\"reference-accessdate\">. Consultado el 3 de enero de 2011</span>. «Since then it has sold 83 millones copies in 44 idiomas».</span><span title=\"ctx_ver=Z39.88-2004&amp;rfr_id=info%3Asid%2Fes.wikipedia.org%3AAnexo%3ALibros+m%C3%A1s+vendidos&amp;rft.atitle=Cinema%3A+Waiting+for+Leo&amp;rft.date=17+de+septiembre+de+1965&amp;rft.genre=article&amp;rft.jtitle=Time&amp;rft_id=http%3A%2F%2Fwww.time.com%2Ftime%2Fmagazine%2Farticle%2F0%2C9171%2C842147%2C00.html&amp;rft_val_fmt=info%3Aofi%2Ffmt%3Akev%3Amtx%3Ajournal\" class=\"Z3988\"><span style=\"display:none;\">&#160;</span></span></span>\\n</li>\\n<li id=\"cite_note-16\"><span class=\"mw-cite-backlink\"><a href=\"#cite_ref-16\">↑</a></span> <span class=\"reference-text\"><span class=\"citation web\"><a rel=\"nofollow\" class=\"external text\" href=\"http://www.mercurynews.com/celebrities/ci_12530761\">«Brown\\'s next book due in fall»</a>. <i>San José Mercury News</i>. 7 de junio de 2009. «That earlier book has sold more than 80 millions copies worldwide, was adapted into a movie and made hits out of Brown\\'s previous novels, including <i>Angels &amp; Demons</i>, whose film version is now in theaters».</span><span title=\"ctx_ver=Z39.88-2004&amp;rfr_id=info%3Asid%2Fes.wikipedia.org%3AAnexo%3ALibros+m%C3%A1s+vendidos&amp;rft.atitle=Brown%27s+next+book+due+in+fall&amp;rft.date=7+de+junio+de+2009&amp;rft.genre=article&amp;rft.jtitle=San+Jos%C3%A9+Mercury+News&amp;rft_id=http%3A%2F%2Fwww.mercurynews.com%2Fcelebrities%2Fci_12530761&amp;rft_val_fmt=info%3Aofi%2Ffmt%3Akev%3Amtx%3Ajournal\" class=\"Z3988\"><span style=\"display:none;\">&#160;</span></span></span>\\n</li>\\n<li id=\"cite_note-ElMundoHarryPotter-17\"><span class=\"mw-cite-backlink\">↑ <a href=\"#cite_ref-ElMundoHarryPotter_17-0\"><sup><i><b>a</b></i></sup></a> <a href=\"#cite_ref-ElMundoHarryPotter_17-1\"><sup><i><b>b</b></i></sup></a> <a href=\"#cite_ref-ElMundoHarryPotter_17-2\"><sup><i><b>c</b></i></sup></a> <a href=\"#cite_ref-ElMundoHarryPotter_17-3\"><sup><i><b>d</b></i></sup></a> <a href=\"#cite_ref-ElMundoHarryPotter_17-4\"><sup><i><b>e</b></i></sup></a> <a href=\"#cite_ref-ElMundoHarryPotter_17-5\"><sup><i><b>f</b></i></sup></a></span> <span class=\"reference-text\"><span class=\"citation web\"><a rel=\"nofollow\" class=\"external text\" href=\"https://www.elmundo.es/cultura/literatura/2018/04/23/5ad71991ca474106268b45f6.html\">«Día del Libro 2018: Estos son los 30 libros (y las 10 sagas) más vendidos de la historia»</a>. <i><a href=\"/wiki/El_Mundo_(Espa%C3%B1a)\" title=\"El Mundo (España)\">El Mundo</a></i>. <a href=\"/wiki/Madrid\" title=\"Madrid\">Madrid</a>. 23 de abril de 2018. <small><a href=\"/wiki/ISSN\" class=\"mw-redirect\" title=\"ISSN\">ISSN</a>&#160;<a rel=\"nofollow\" class=\"external text\" href=\"//portal.issn.org/resource/issn/1697-0179\">1697-0179</a></small>.</span><span title=\"ctx_ver=Z39.88-2004&amp;rfr_id=info%3Asid%2Fes.wikipedia.org%3AAnexo%3ALibros+m%C3%A1s+vendidos&amp;rft.atitle=D%C3%ADa+del+Libro+2018%3A+Estos+son+los+30+libros+%28y+las+10+sagas%29+m%C3%A1s+vendidos+de+la+historia&amp;rft.date=23+de+abril+de+2018&amp;rft.genre=article&amp;rft.issn=1697-0179&amp;rft.jtitle=El+Mundo&amp;rft.place=Madrid&amp;rft_id=https%3A%2F%2Fwww.elmundo.es%2Fcultura%2Fliteratura%2F2018%2F04%2F23%2F5ad71991ca474106268b45f6.html&amp;rft_val_fmt=info%3Aofi%2Ffmt%3Akev%3Amtx%3Ajournal\" class=\"Z3988\"><span style=\"display:none;\">&#160;</span></span></span>\\n</li>\\n<li id=\"cite_note-18\"><span class=\"mw-cite-backlink\"><a href=\"#cite_ref-18\">↑</a></span> <span class=\"reference-text\"><span class=\"citation web\"><a rel=\"nofollow\" class=\"external text\" href=\"http://www.foyles.co.uk/display.asp?K=9780140237504&amp;aub=J%20D%20Salinger&amp;m=7&amp;dc=9\">«You searched: J. D. Salinger»</a>. Foyles. 4 de agosto de 1994<span class=\"reference-accessdate\">. Consultado el 31 de agosto de 2009</span>.</span><span title=\"ctx_ver=Z39.88-2004&amp;rfr_id=info%3Asid%2Fes.wikipedia.org%3AAnexo%3ALibros+m%C3%A1s+vendidos&amp;rft.btitle=You+searched%3A+J.+D.+Salinger&amp;rft.date=4+de+agosto+de+1994&amp;rft.genre=book&amp;rft.pub=Foyles&amp;rft_id=http%3A%2F%2Fwww.foyles.co.uk%2Fdisplay.asp%3FK%3D9780140237504%26aub%3DJ%2520D%2520Salinger%26m%3D7%26dc%3D9&amp;rft_val_fmt=info%3Aofi%2Ffmt%3Akev%3Amtx%3Abook\" class=\"Z3988\"><span style=\"display:none;\">&#160;</span></span></span>\\n</li>\\n<li id=\"cite_note-19\"><span class=\"mw-cite-backlink\"><a href=\"#cite_ref-19\">↑</a></span> <span class=\"reference-text\"><span class=\"citation web\"><a rel=\"nofollow\" class=\"external text\" href=\"http://web.archive.org/web/20090212063812/http://afp.google.com/article/ALeqM5i07sUo0IODPVAktHfpCoY4f6kzAQ\">«Film to be made of Coelho\\'s \\'The Alchemist<span style=\"padding-right:0.2em;\">\\'</span>»</a>. AFP. 19 de mayo de 2008. Archivado desde <a rel=\"nofollow\" class=\"external text\" href=\"http://afp.google.com/article/ALeqM5i07sUo0IODPVAktHfpCoY4f6kzAQ\">el original</a> el 12 de febrero de 2009<span class=\"reference-accessdate\">. Consultado el 4 de enero de 2011</span>. «Film mogul Harvey Weinstein on Sunday announced the screen adaptation of the novel, written 20 years ago and translated into 56 idiomas, with more than 65 millones copies sold».</span><span title=\"ctx_ver=Z39.88-2004&amp;rfr_id=info%3Asid%2Fes.wikipedia.org%3AAnexo%3ALibros+m%C3%A1s+vendidos&amp;rft.btitle=Film+to+be+made+of+Coelho%27s+%27The+Alchemist%27&amp;rft.date=19+de+mayo+de+2008&amp;rft.genre=book&amp;rft.pub=AFP&amp;rft_id=http%3A%2F%2Fafp.google.com%2Farticle%2FALeqM5i07sUo0IODPVAktHfpCoY4f6kzAQ&amp;rft_val_fmt=info%3Aofi%2Ffmt%3Akev%3Amtx%3Abook\" class=\"Z3988\"><span style=\"display:none;\">&#160;</span></span></span>\\n</li>\\n<li id=\"cite_note-20\"><span class=\"mw-cite-backlink\"><a href=\"#cite_ref-20\">↑</a></span> <span class=\"reference-text\"><span class=\"citation web\"><a rel=\"nofollow\" class=\"external text\" href=\"http://www.nhtlh.com/book_store/books_christian_living.html\">«Paperback books on christian living»</a>. Home Health Education Services Online Inc. 2008<span class=\"reference-accessdate\">. Consultado el 4 de enero de 2011</span>.</span><span title=\"ctx_ver=Z39.88-2004&amp;rfr_id=info%3Asid%2Fes.wikipedia.org%3AAnexo%3ALibros+m%C3%A1s+vendidos&amp;rft.btitle=Paperback+books+on+christian+living&amp;rft.date=2008&amp;rft.genre=book&amp;rft.pub=Home+Health+Education+Services+Online+Inc.&amp;rft_id=http%3A%2F%2Fwww.nhtlh.com%2Fbook_store%2Fbooks_christian_living.html&amp;rft_val_fmt=info%3Aofi%2Ffmt%3Akev%3Amtx%3Abook\" class=\"Z3988\"><span style=\"display:none;\">&#160;</span></span></span>\\n</li>\\n<li id=\"cite_note-21\"><span class=\"mw-cite-backlink\"><a href=\"#cite_ref-21\">↑</a></span> <span class=\"reference-text\"><span class=\"citation web\"><a rel=\"nofollow\" class=\"external text\" href=\"http://www.abc.net.au/foreign/stories/s549261.htm\">«Switzerland - <i>Heidi</i>»</a>. <i>Foreign Correspondent</i>. ABC Australia. 5 de agosto de 2002<span class=\"reference-accessdate\">. Consultado el 4 de enero de 2011</span>. «Johanna Spyri\\'s story has been translated into fifty idiomas and sold fifty millones copies, but the marketing juggernaut shows no signs of slowing down - fat from it. Heidi now has her own theme park».</span><span title=\"ctx_ver=Z39.88-2004&amp;rfr_id=info%3Asid%2Fes.wikipedia.org%3AAnexo%3ALibros+m%C3%A1s+vendidos&amp;rft.atitle=Switzerland+-+%27%27Heidi%27%27&amp;rft.date=5+de+agosto+de+2002&amp;rft.genre=article&amp;rft.jtitle=Foreign+Correspondent&amp;rft.pub=ABC+Australia&amp;rft_id=http%3A%2F%2Fwww.abc.net.au%2Fforeign%2Fstories%2Fs549261.htm&amp;rft_val_fmt=info%3Aofi%2Ffmt%3Akev%3Amtx%3Ajournal\" class=\"Z3988\"><span style=\"display:none;\">&#160;</span></span></span>\\n</li>\\n<li id=\"cite_note-RussellAsh-22\"><span class=\"mw-cite-backlink\">↑ <a href=\"#cite_ref-RussellAsh_22-0\"><sup><i><b>a</b></i></sup></a> <a href=\"#cite_ref-RussellAsh_22-1\"><sup><i><b>b</b></i></sup></a> <a href=\"#cite_ref-RussellAsh_22-2\"><sup><i><b>c</b></i></sup></a> <a href=\"#cite_ref-RussellAsh_22-3\"><sup><i><b>d</b></i></sup></a></span> <span class=\"reference-text\"><span id=\"CITAREFAsh2002\" class=\"citation libro\">Ash, Russell (2002). <i>The Top 10 of Everything</i>.</span><span title=\"ctx_ver=Z39.88-2004&amp;rfr_id=info%3Asid%2Fes.wikipedia.org%3AAnexo%3ALibros+m%C3%A1s+vendidos&amp;rft.au=Ash%2C+Russell&amp;rft.aufirst=Russell&amp;rft.aulast=Ash&amp;rft.btitle=The+Top+10+of+Everything&amp;rft.date=2002&amp;rft.genre=book&amp;rft_val_fmt=info%3Aofi%2Ffmt%3Akev%3Amtx%3Abook\" class=\"Z3988\"><span style=\"display:none;\">&#160;</span></span></span>\\n</li>\\n<li id=\"cite_note-23\"><span class=\"mw-cite-backlink\"><a href=\"#cite_ref-23\">↑</a></span> <span class=\"reference-text\"><span id=\"CITAREFMollins19_de_marzo_de_2008\" class=\"citation web\">Mollins, Julie (19 de marzo de 2008). <a rel=\"nofollow\" class=\"external text\" href=\"http://www.reuters.com/article/idUSN1754861220080319\">«New Anne of Green Gables book stirs debate»</a>. Reuters<span class=\"reference-accessdate\">. Consultado el 4 de enero de 2011</span>. «<i>Anne of Green Gables</i> has sold more than 50 millones copies and been translated into 20 idiomas, according to Penguin».</span><span title=\"ctx_ver=Z39.88-2004&amp;rfr_id=info%3Asid%2Fes.wikipedia.org%3AAnexo%3ALibros+m%C3%A1s+vendidos&amp;rft.au=Mollins%2C+Julie&amp;rft.aufirst=Julie&amp;rft.aulast=Mollins&amp;rft.btitle=New+Anne+of+Green+Gables+book+stirs+debate&amp;rft.date=19+de+marzo+de+2008&amp;rft.genre=book&amp;rft.pub=Reuters&amp;rft_id=http%3A%2F%2Fwww.reuters.com%2Farticle%2FidUSN1754861220080319&amp;rft_val_fmt=info%3Aofi%2Ffmt%3Akev%3Amtx%3Abook\" class=\"Z3988\"><span style=\"display:none;\">&#160;</span></span></span>\\n</li>\\n<li id=\"cite_note-24\"><span class=\"mw-cite-backlink\"><a href=\"#cite_ref-24\">↑</a></span> <span class=\"reference-text\"><span id=\"CITAREFRosoff29_de_febrero_de_2008\" class=\"citation web\">Rosoff, Meg (29 de febrero de 2008). <a rel=\"nofollow\" class=\"external text\" href=\"http://entertainment.timesonline.co.uk/tol/arts_and_entertainment/books/children/article3459873.ece\">«Meg Rosoff introduces Black Beauty by Anne Sewell»</a>. <i>The Times</i><span class=\"reference-accessdate\">. Consultado el 4 de enero de 2011</span>. «Fifty millones copies of Black Beauty have been sold in the years since Anna Sewell\\'s publisher paid her £20 for the story».</span><span title=\"ctx_ver=Z39.88-2004&amp;rfr_id=info%3Asid%2Fes.wikipedia.org%3AAnexo%3ALibros+m%C3%A1s+vendidos&amp;rft.atitle=Meg+Rosoff+introduces+Black+Beauty+by+Anne+Sewell&amp;rft.au=Rosoff%2C+Meg&amp;rft.aufirst=Meg&amp;rft.aulast=Rosoff&amp;rft.date=29+de+febrero+de+2008&amp;rft.genre=article&amp;rft.jtitle=The+Times&amp;rft_id=http%3A%2F%2Fentertainment.timesonline.co.uk%2Ftol%2Farts_and_entertainment%2Fbooks%2Fchildren%2Farticle3459873.ece&amp;rft_val_fmt=info%3Aofi%2Ffmt%3Akev%3Amtx%3Ajournal\" class=\"Z3988\"><span style=\"display:none;\">&#160;</span></span></span>\\n</li>\\n<li id=\"cite_note-25\"><span class=\"mw-cite-backlink\"><a href=\"#cite_ref-25\">↑</a></span> <span class=\"reference-text\"><span class=\"citation web\"><a rel=\"nofollow\" class=\"external text\" href=\"http://search.barnesandnoble.com/The-Name-of-the-Rose/Umberto-Eco/e/9780156001311\">«The Name of the Rose: including Postscript to the Name of the Rose»</a>. Barnes &amp; Noble<span class=\"reference-accessdate\">. Consultado el 4 de enero de 2011</span>.</span><span title=\"ctx_ver=Z39.88-2004&amp;rfr_id=info%3Asid%2Fes.wikipedia.org%3AAnexo%3ALibros+m%C3%A1s+vendidos&amp;rft.btitle=The+Name+of+the+Rose%3A+including+Postscript+to+the+Name+of+the+Rose&amp;rft.genre=book&amp;rft.pub=Barnes+%26+Noble&amp;rft_id=http%3A%2F%2Fsearch.barnesandnoble.com%2FThe-Name-of-the-Rose%2FUmberto-Eco%2Fe%2F9780156001311&amp;rft_val_fmt=info%3Aofi%2Ffmt%3Akev%3Amtx%3Abook\" class=\"Z3988\"><span style=\"display:none;\">&#160;</span></span></span>\\n</li>\\n<li id=\"cite_note-26\"><span class=\"mw-cite-backlink\"><a href=\"#cite_ref-26\">↑</a></span> <span class=\"reference-text\"><a rel=\"nofollow\" class=\"external text\" href=\"http://www.usatoday.com/news/health/2006-05-15-hite-report_x.htm\">USA today</a> (15 May 2006)</span>\\n</li>\\n<li id=\"cite_note-27\"><span class=\"mw-cite-backlink\"><a href=\"#cite_ref-27\">↑</a></span> <span class=\"reference-text\"><span class=\"citation web\"><a rel=\"nofollow\" class=\"external text\" href=\"http://web.archive.org/web/http://www.walden.com/walden/read/charlotte/eb_white.php\">«Walden Media»</a><span class=\"reference-accessdate\">. Consultado el 31 de agosto de 2009</span>.</span><span title=\"ctx_ver=Z39.88-2004&amp;rfr_id=info%3Asid%2Fes.wikipedia.org%3AAnexo%3ALibros+m%C3%A1s+vendidos&amp;rft.btitle=Walden+Media&amp;rft.genre=book&amp;rft_id=http%3A%2F%2Fweb.archive.org%2Fweb%2Fhttp%3A%2F%2Fwww.walden.com%2Fwalden%2Fread%2Fcharlotte%2Feb_white.php&amp;rft_val_fmt=info%3Aofi%2Ffmt%3Akev%3Amtx%3Abook\" class=\"Z3988\"><span style=\"display:none;\">&#160;</span></span></span>\\n</li>\\n<li id=\"cite_note-28\"><span class=\"mw-cite-backlink\"><a href=\"#cite_ref-28\">↑</a></span> <span class=\"reference-text\"><span class=\"citation web\"><a rel=\"nofollow\" class=\"external text\" href=\"http://www.prnewswire.co.uk/cgi/news/release?id=105175\">«Worker\\'s Press acknowledge Frederick Warne\\'s intellectual property rights»</a>. Prnewswire.co.uk. 10 de julio de 2003<span class=\"reference-accessdate\">. Consultado el 31 de agosto de 2009</span>.</span><span title=\"ctx_ver=Z39.88-2004&amp;rfr_id=info%3Asid%2Fes.wikipedia.org%3AAnexo%3ALibros+m%C3%A1s+vendidos&amp;rft.btitle=Worker%27s+Press+acknowledge+Frederick+Warne%27s+intellectual+property+rights&amp;rft.date=10+de+julio+de+2003&amp;rft.genre=book&amp;rft.pub=Prnewswire.co.uk&amp;rft_id=http%3A%2F%2Fwww.prnewswire.co.uk%2Fcgi%2Fnews%2Frelease%3Fid%3D105175&amp;rft_val_fmt=info%3Aofi%2Ffmt%3Akev%3Amtx%3Abook\" class=\"Z3988\"><span style=\"display:none;\">&#160;</span></span></span>\\n</li>\\n<li id=\"cite_note-29\"><span class=\"mw-cite-backlink\"><a href=\"#cite_ref-29\">↑</a></span> <span class=\"reference-text\"><span class=\"citation web\"><a rel=\"nofollow\" class=\"external text\" href=\"http://www.powells.com/biblio?isbn=1571744215\">«Powell\\'s Books»</a>. Powells.com. 12 de agosto de 2009<span class=\"reference-accessdate\">. Consultado el 31 de agosto de 2009</span>.</span><span title=\"ctx_ver=Z39.88-2004&amp;rfr_id=info%3Asid%2Fes.wikipedia.org%3AAnexo%3ALibros+m%C3%A1s+vendidos&amp;rft.btitle=Powell%27s+Books&amp;rft.date=12+de+agosto+de+2009&amp;rft.genre=book&amp;rft.pub=Powells.com&amp;rft_id=http%3A%2F%2Fwww.powells.com%2Fbiblio%3Fisbn%3D1571744215&amp;rft_val_fmt=info%3Aofi%2Ffmt%3Akev%3Amtx%3Abook\" class=\"Z3988\"><span style=\"display:none;\">&#160;</span></span></span>\\n</li>\\n<li id=\"cite_note-30\"><span class=\"mw-cite-backlink\"><a href=\"#cite_ref-30\">↑</a></span> <span class=\"reference-text\"><span id=\"CITAREFMichael_Fleming20_de_abril_de_2009\" class=\"citation web\">Michael Fleming (20 de abril de 2009). <a rel=\"nofollow\" class=\"external text\" href=\"http://www.variety.com/article/VR1118002603.html?categoryid=13&amp;cs=1\">«Columbia moves on \\'Symbol<span style=\"padding-right:0.2em;\">\\'</span>»</a>. <i>Variety Online</i><span class=\"reference-accessdate\">. Consultado el 1 de noviembre de 2009</span>.</span><span title=\"ctx_ver=Z39.88-2004&amp;rfr_id=info%3Asid%2Fes.wikipedia.org%3AAnexo%3ALibros+m%C3%A1s+vendidos&amp;rft.atitle=Columbia+moves+on+%27Symbol%27&amp;rft.au=Michael+Fleming&amp;rft.aulast=Michael+Fleming&amp;rft.date=20+de+abril+de+2009&amp;rft.genre=article&amp;rft.jtitle=Variety+Online&amp;rft_id=http%3A%2F%2Fwww.variety.com%2Farticle%2FVR1118002603.html%3Fcategoryid%3D13%26cs%3D1&amp;rft_val_fmt=info%3Aofi%2Ffmt%3Akev%3Amtx%3Ajournal\" class=\"Z3988\"><span style=\"display:none;\">&#160;</span></span></span>\\n</li>\\n<li id=\"cite_note-compuart.ru-31\"><span class=\"mw-cite-backlink\">↑ <a href=\"#cite_ref-compuart.ru_31-0\"><sup><i><b>a</b></i></sup></a> <a href=\"#cite_ref-compuart.ru_31-1\"><sup><i><b>b</b></i></sup></a></span> <span class=\"reference-text\"><span id=\"CITAREFЕвгений_Немировский3_de_enero_de_2000\" class=\"citation web\">Евгений Немировский (3 de enero de 2000). <a rel=\"nofollow\" class=\"external text\" href=\"http://www.compuart.ru/article.aspx?id=8496&amp;iid=346\">«Журнал \"КомпьюАрт\" &#124; Подводя итоги XX столетия: книгоиздание. Бестселлер – детище рекламы»</a>. Compuart.ru<span class=\"reference-accessdate\">. Consultado el 31 de agosto de 2009</span>.</span><span title=\"ctx_ver=Z39.88-2004&amp;rfr_id=info%3Asid%2Fes.wikipedia.org%3AAnexo%3ALibros+m%C3%A1s+vendidos&amp;rft.au=%D0%95%D0%B2%D0%B3%D0%B5%D0%BD%D0%B8%D0%B9+%D0%9D%D0%B5%D0%BC%D0%B8%D1%80%D0%BE%D0%B2%D1%81%D0%BA%D0%B8%D0%B9&amp;rft.aulast=%D0%95%D0%B2%D0%B3%D0%B5%D0%BD%D0%B8%D0%B9+%D0%9D%D0%B5%D0%BC%D0%B8%D1%80%D0%BE%D0%B2%D1%81%D0%BA%D0%B8%D0%B9&amp;rft.btitle=%D0%96%D1%83%D1%80%D0%BD%D0%B0%D0%BB+%22%D0%9A%D0%BE%D0%BC%D0%BF%D1%8C%D1%8E%D0%90%D1%80%D1%82%22+%26%23124%3B+%D0%9F%D0%BE%D0%B4%D0%B2%D0%BE%D0%B4%D1%8F+%D0%B8%D1%82%D0%BE%D0%B3%D0%B8+XX+%D1%81%D1%82%D0%BE%D0%BB%D0%B5%D1%82%D0%B8%D1%8F%3A+%D0%BA%D0%BD%D0%B8%D0%B3%D0%BE%D0%B8%D0%B7%D0%B4%D0%B0%D0%BD%D0%B8%D0%B5.+%D0%91%D0%B5%D1%81%D1%82%D1%81%D0%B5%D0%BB%D0%BB%D0%B5%D1%80+%E2%80%93+%D0%B4%D0%B5%D1%82%D0%B8%D1%89%D0%B5+%D1%80%D0%B5%D0%BA%D0%BB%D0%B0%D0%BC%D1%8B&amp;rft.date=3+de+enero+de+2000&amp;rft.genre=book&amp;rft.pub=Compuart.ru&amp;rft_id=http%3A%2F%2Fwww.compuart.ru%2Farticle.aspx%3Fid%3D8496%26iid%3D346&amp;rft_val_fmt=info%3Aofi%2Ffmt%3Akev%3Amtx%3Abook\" class=\"Z3988\"><span style=\"display:none;\">&#160;</span></span></span>\\n</li>\\n<li id=\"cite_note-32\"><span class=\"mw-cite-backlink\"><a href=\"#cite_ref-32\">↑</a></span> <span class=\"reference-text\"><a rel=\"nofollow\" class=\"external text\" href=\"http://www.repubblicaletteraria.it/Collodi_Pinocchio.htm\">Repubblica Italiana</a> sobre <i>Le Avventure di pinocchio</i>: traducido a más de 260 idiomas.\" (1 de julio de 2001)</span>\\n</li>\\n<li id=\"cite_note-33\"><span class=\"mw-cite-backlink\"><a href=\"#cite_ref-33\">↑</a></span> <span class=\"reference-text\"><a rel=\"nofollow\" class=\"external text\" href=\"http://www.nytimes.com/2008/05/04/magazine/04Hay-t.html\">The New York Times</a> sobre <i>You Can Heal Your Life</i>: \"“You Can Heal Your Life” immediately landed on the New York Times best-seller list. More than 35 millones copies are now in print around the world.\" (4 May 2008)</span>\\n</li>\\n<li id=\"cite_note-34\"><span class=\"mw-cite-backlink\"><a href=\"#cite_ref-34\">↑</a></span> <span class=\"reference-text\"><a rel=\"nofollow\" class=\"external text\" href=\"http://www.guardian.co.uk/books/2009/jun/15/jeffrey-archer-rewrites-kane-abel\">The Guardian</a> on <i>Kane and Abel</i>: \"Kane and Abel, first published in 1979, is Archer\\'s bestselling novel – Pan says it has sold around 34m copies worldwide.\" (15 Junio 2009)</span>\\n</li>\\n<li id=\"cite_note-35\"><span class=\"mw-cite-backlink\"><a href=\"#cite_ref-35\">↑</a></span> <span class=\"reference-text\"><a rel=\"nofollow\" class=\"external text\" href=\"http://www.foxnews.com/story/0,2933,262525,00.html\">Fox News</a> sobre <i>Het Achterhuis</i>: \"Thirty millones copies of her diary have been sold, and it has been translated into 65 idiomas. \" (29 March 2007)</span>\\n</li>\\n<li id=\"cite_note-36\"><span class=\"mw-cite-backlink\"><a href=\"#cite_ref-36\">↑</a></span> <span class=\"reference-text\"><a rel=\"nofollow\" class=\"external text\" href=\"http://www.orlandosentinel.com/entertainment/booksmag/orl-harperlee06jun11,0,2989830,full.story?coll=orl_entertainment_booksmag_util\">The Orlando Sentinel</a> on <i>To Kill a Mockingbird</i>: \"Thirty millones copies of To Kill a Mockingbird have been sold since that coming-of-age novel, about a Southern lawyer who believed that no man should be denied justice because of the color of his skin, was first published in 1960 to critical acclaim.\" (11 June 2006)</span>\\n</li>\\n<li id=\"cite_note-37\"><span class=\"mw-cite-backlink\"><a href=\"#cite_ref-37\">↑</a></span> <span class=\"reference-text\"><a rel=\"nofollow\" class=\"external text\" href=\"http://www.dailymail.co.uk/pages/live/articles/showbiz/bazbamigboye.html?in_page_id=1794&amp;in_article_id=556688\">The Daily Mail</a> on <i>Gone with the Wind</i>: \"The book has sold more than 30 millones copies in the decades since the publication of Margaret Mitchell\\'s gripping tale of the Old South gasping its last breath, as the U.S. was torn apart by Civil War and its bitter aftermath.\" (4 Abril 2008)</span>\\n</li>\\n<li id=\"cite_note-38\"><span class=\"mw-cite-backlink\"><a href=\"#cite_ref-38\">↑</a></span> <span class=\"reference-text\"><a rel=\"nofollow\" class=\"external text\" href=\"http://www.walrusmagazine.com/articles/2007.12-books-one-hundred-years-of-solitude-marquez/\">The Walrus</a> December 2007 issue</span>\\n</li>\\n<li id=\"cite_note-39\"><span class=\"mw-cite-backlink\"><a href=\"#cite_ref-39\">↑</a></span> <span class=\"reference-text\"><a rel=\"nofollow\" class=\"external text\" href=\"http://web.archive.org/web/http://granmai.co.cu/ingles/2007/marzo/mar6/10gabo.html\">granma.cu</a> 6 de Marzo, 2007</span>\\n</li>\\n<li id=\"cite_note-40\"><span class=\"mw-cite-backlink\"><a href=\"#cite_ref-40\">↑</a></span> <span class=\"reference-text\"><a rel=\"nofollow\" class=\"external text\" href=\"http://abcnews.go.com/Nightline/story?id=2914953&amp;page=1\">ABC News</a> on <i>The Purpose-Driven Life</i>: \"His book, \"The Purpose Driven Life,\" has been translated into 56 idiomas and has sold 30 millones copies.\" (7 Marzo 2007)</span>\\n</li>\\n<li id=\"cite_note-41\"><span class=\"mw-cite-backlink\"><a href=\"#cite_ref-41\">↑</a></span> <span class=\"reference-text\"><a rel=\"nofollow\" class=\"external text\" href=\"http://www.walesonline.co.uk/showbiz-and-lifestyle/2009/04/11/the-thorn-birds-author-on-why-she-ll-never-write-a-sequel-91466-23353969/\">Wales Online</a> on <i>The Thorn Birds</i>: \"Her original novel, published in 1977 following a battle between two publishing houses that both wanted the manuscript, has sold around 30 millones copies worldwide.\" (11 Abril 2009)]</span>\\n</li>\\n<li id=\"cite_note-42\"><span class=\"mw-cite-backlink\"><a href=\"#cite_ref-42\">↑</a></span> <span class=\"reference-text\"><a rel=\"nofollow\" class=\"external text\" href=\"http://www.greenvilleonline.com/article/20090401/CITYPEOPLE/904010305/1068/YOURUPSTATE01\">Greenville Online</a> on <i>Think and Grow Rich</i>: \"One of his books, \"Think and Grow Rich,\" which he penned in 1937, sold 30 millones copies and continues to serve readers today.\" (1 Abril 2009)</span>\\n</li>\\n<li id=\"cite_note-43\"><span class=\"mw-cite-backlink\"><a href=\"#cite_ref-43\">↑</a></span> <span class=\"reference-text\"><a rel=\"nofollow\" class=\"external text\" href=\"http://books.google.com/books?id=LyJqIfNPSgcC&amp;pg=PA421&amp;dq=%22perry+mason%22+%22millones+copies%22&amp;as_brr=3&amp;ei=Ve9CS-LFBYGGzgTx__WxBQ&amp;cd=8#v=onepage&amp;q=%22millones%20copies%22&amp;f=false\">The Continuum Encyclopedia of American Literature</a>, p. 559, on <i>The Revolt of Mamie Stover</i>: \"<i>The Revolt of Mamie Stover</i> (1951), which sold almost thirty millones copies worldwide, [...]\" (2005)</span>\\n</li>\\n<li id=\"cite_note-44\"><span class=\"mw-cite-backlink\"><a href=\"#cite_ref-44\">↑</a></span> <span class=\"reference-text\"><a rel=\"nofollow\" class=\"external text\" href=\"http://web.archive.org/web/http://www.winnipegfreepress.com/entertainment/the_tab/swede-success-or-tattooed-failure-90919119.html\">Winnipeg Free Press</a> on <i>The Girl with the Dragon Tattoo</i>: \"The first book sold 30 millones copies and is available in 44 idiomas.\" (15 Abril 2010)</span>\\n</li>\\n<li id=\"cite_note-45\"><span class=\"mw-cite-backlink\"><a href=\"#cite_ref-45\">↑</a></span> <span class=\"reference-text\"><a rel=\"nofollow\" class=\"external text\" href=\"http://www.telegraph.co.uk/culture/books/books-life/7545438/The-20-greatest-childrens-books-ever.html\">The Telegraph</a> on <i>The Very Hungry Caterpillar</i>: \"It has been translated into more than 50 idiomas and its sales have now surpassed the 30 millones mark.\" (3 Abril 2010)</span>\\n</li>\\n<li id=\"cite_note-46\"><span class=\"mw-cite-backlink\"><a href=\"#cite_ref-46\">↑</a></span> <span class=\"reference-text\">{{cita web|author=[[Jeff Kinney|url=<a rel=\"nofollow\" class=\"external free\" href=\"https://saposyprincesas.elmundo.es/ocio-en-casa/lectura-libros-ninos/diario-de-greg-el-mas-leido/%7Ctítulo=Diario\">https://saposyprincesas.elmundo.es/ocio-en-casa/lectura-libros-ninos/diario-de-greg-el-mas-leido/%7Ctítulo=Diario</a> de Greg, el más leído|fechaacceso=8 de junio de 2019|fecha=2098|idioma=español}}</span>\\n</li>\\n<li id=\"cite_note-47\"><span class=\"mw-cite-backlink\"><a href=\"#cite_ref-47\">↑</a></span> <span class=\"reference-text\"><span class=\"citation web\"><a rel=\"nofollow\" class=\"external text\" href=\"http://www.wwnorton.com/college/Inglés/nael/20century/topic_3/crystal.htm\">«W.W. Norton and Company»</a>. Wwnorton.com<span class=\"reference-accessdate\">. Consultado el 31 de agosto de 2009</span>.</span><span title=\"ctx_ver=Z39.88-2004&amp;rfr_id=info%3Asid%2Fes.wikipedia.org%3AAnexo%3ALibros+m%C3%A1s+vendidos&amp;rft.btitle=W.W.+Norton+and+Company&amp;rft.genre=book&amp;rft.pub=Wwnorton.com&amp;rft_id=http%3A%2F%2Fwww.wwnorton.com%2Fcollege%2FIngl%C3%A9s%2Fnael%2F20century%2Ftopic_3%2Fcrystal.htm&amp;rft_val_fmt=info%3Aofi%2Ffmt%3Akev%3Amtx%3Abook\" class=\"Z3988\"><span style=\"display:none;\">&#160;</span></span></span>\\n</li>\\n<li id=\"cite_note-48\"><span class=\"mw-cite-backlink\"><a href=\"#cite_ref-48\">↑</a></span> <span class=\"reference-text\"><span class=\"citation web\"><a rel=\"nofollow\" class=\"external text\" href=\"http://www.walkerbooks.com.au/Books/The-Infernal-Devices-3-Clockwork-Princess-9781406365283\">«The Infernal Devices 3: Clockwork Princess»</a><span class=\"reference-accessdate\">. Consultado el 12 de marzo de 2016</span>.</span><span title=\"ctx_ver=Z39.88-2004&amp;rfr_id=info%3Asid%2Fes.wikipedia.org%3AAnexo%3ALibros+m%C3%A1s+vendidos&amp;rft.btitle=The+Infernal+Devices+3%3A+Clockwork+Princess&amp;rft.genre=book&amp;rft_id=http%3A%2F%2Fwww.walkerbooks.com.au%2FBooks%2FThe-Infernal-Devices-3-Clockwork-Princess-9781406365283&amp;rft_val_fmt=info%3Aofi%2Ffmt%3Akev%3Amtx%3Abook\" class=\"Z3988\"><span style=\"display:none;\">&#160;</span></span></span>\\n</li>\\n<li id=\"cite_note-49\"><span class=\"mw-cite-backlink\"><a href=\"#cite_ref-49\">↑</a></span> <span class=\"reference-text\"><a rel=\"nofollow\" class=\"external text\" href=\"http://web.archive.org/web/http://life.globaltimes.cn/art/2009-11/486848.html\">The Global Times</a> on <i>Who Moved My Cheese</i>: \"Who Moved My Cheese has sold over 26 millones copies, staying on the New York Times bestseller list since its release in 1998.\" (23 Nov. 2009)</span>\\n</li>\\n<li id=\"cite_note-50\"><span class=\"mw-cite-backlink\"><a href=\"#cite_ref-50\">↑</a></span> <span class=\"reference-text\"><a rel=\"nofollow\" class=\"external text\" href=\"http://www.columbusdispatch.com/live/content/arts/stories/2008/05/04/2_WILLOWS_100.ART_ART_05-04-08_E4_RPA2K8F.html?sid=101\">The Columbus Dispatch</a> on <i>The Wind in the Willows</i>: \"More than 25 millones copies of the book have been sold in 70 countries since 1908, according to the Copyrights Group, which is presently promoting a new edition.\" (4 Mayo 2008)</span>\\n</li>\\n<li id=\"cite_note-51\"><span class=\"mw-cite-backlink\"><a href=\"#cite_ref-51\">↑</a></span> <span class=\"reference-text\"><a rel=\"nofollow\" class=\"external text\" href=\"http://web.archive.org/web/http://www.philly.com/inquirer/opinion/20090622_Orwell_s__1984__even_more_pertinent_today.html\">The Philadelphia Inquirer</a> on <i>Nineteen Eighty-Four</i>: \"Nineteen Eighty-Four has sold 25 millones copies, is still read in high school and college, and remains the best-known example of anti-utopian literature.\" (22 Junio 2009)</span>\\n</li>\\n<li id=\"cite_note-52\"><span class=\"mw-cite-backlink\"><a href=\"#cite_ref-52\">↑</a></span> <span class=\"reference-text\"><a rel=\"nofollow\" class=\"external free\" href=\"http://thecelebritycafe.com/feature/2012/07/hunger-games-trilogy-reaches-50-million-copies-print-milestone\">http://thecelebritycafe.com/feature/2012/07/hunger-games-trilogy-reaches-50-million-copies-print-milestone</a></span>\\n</li>\\n<li id=\"cite_note-53\"><span class=\"mw-cite-backlink\"><a href=\"#cite_ref-53\">↑</a></span> <span class=\"reference-text\"><a rel=\"nofollow\" class=\"external text\" href=\"http://www.theage.com.au/news/in-depth/strongselfhelpstrong-celestine-prophecy-author-coming-to-town/2008/03/21/1205602651103.html\">The Age</a> on <i>The Celestine Prophecy</i>: \"it has sold in the vicinity of 23 millones copies since its publication in 1993\" (22 Marzo 2008)</span>\\n</li>\\n<li id=\"cite_note-54\"><span class=\"mw-cite-backlink\"><a href=\"#cite_ref-54\">↑</a></span> <span class=\"reference-text\"><a rel=\"nofollow\" class=\"external text\" href=\"http://www.thestar.com/Unassigned/article/238311\">The Toronto Star</a> on Mario Puzo: \"According to the Official Mario Puzo Library website, the book sold 21 millones copies in hardback and paper by 1997.\" (21 de julio de 2007)</span>\\n</li>\\n<li id=\"cite_note-55\"><span class=\"mw-cite-backlink\"><a href=\"#cite_ref-55\">↑</a></span> <span class=\"reference-text\"><a rel=\"nofollow\" class=\"external text\" href=\"http://www.playbill.com/news/article/141436-Michael-Ball-to-Make-Producing-Debut-with-Love-Story-at-West-Ends-Duchess\">Playbill</a> on <i>Love Story</i>: \"Erich Segal\\'s best-selling novel, which has sold 21 millones copies worldwide in 33 idiomas[...]\" (23 de julio de 2010)</span>\\n</li>\\n<li id=\"cite_note-56\"><span class=\"mw-cite-backlink\"><a href=\"#cite_ref-56\">↑</a></span> <span class=\"reference-text\"><a rel=\"nofollow\" class=\"external text\" href=\"https://www.ft.com/cms/s/0/afc7e59c-ee43-11dc-a5c1-0000779fd2ac.html\">The Financial Times</a> on <i>Wolf Totem</i>: \"Since it first appeared in 2004, Jiang Rong’s Wolf Totem has sold as many as 20 millones copies.\" (15 Marzo 2008)</span>\\n</li>\\n<li id=\"cite_note-57\"><span class=\"mw-cite-backlink\"><a href=\"#cite_ref-57\">↑</a></span> <span class=\"reference-text\"><a rel=\"nofollow\" class=\"external text\" href=\"http://www.philly.com/inquirer/magazine/20080626_Philmadelphia.html\">The Philadelphia Inquirer</a> on <i>The Happy Hooker</i>: \"He said he found it fascinating that her book, which has sold 20 millones copies to date, is still being picked up today.\" (26 Junio 2008)</span>\\n</li>\\n<li id=\"cite_note-58\"><span class=\"mw-cite-backlink\"><a href=\"#cite_ref-58\">↑</a></span> <span class=\"reference-text\"><a rel=\"nofollow\" class=\"external text\" href=\"http://www.timesonline.co.uk/tol/news/world/us_and_americas/article730440.ece\">The Times</a> on <i>Jaws</i>: \"Jaws stayed for 40 weeks in the bestseller charts of The New York Times, eventually selling 20 millones copies [...]\" (13 Feb. 2006)</span>\\n</li>\\n<li id=\"cite_note-59\"><span class=\"mw-cite-backlink\"><a href=\"#cite_ref-59\">↑</a></span> <span class=\"reference-text\"><a rel=\"nofollow\" class=\"external text\" href=\"http://www.huntsvilleforester.com/article/120556\">The Huntsville Forester</a> on <i>Love You Forever</i>: \"The children’s classic Love You Forever has sold over 20 millones copies worldwide and is in its 65th printing.\" (29 Oct. 2008)</span>\\n</li>\\n<li id=\"cite_note-60\"><span class=\"mw-cite-backlink\"><a href=\"#cite_ref-60\">↑</a></span> <span class=\"reference-text\"><a rel=\"nofollow\" class=\"external text\" href=\"http://www.thebookseller.com/news/82377-wn-signs-five-figure-deal-with-gaarder.html\">Bookseller.com</a> on <i>Sophie\\'s World</i>: \"W&amp;N is already planning to reissue the 1995 classic Sophie’s World which has sold 20 millones copies and has been translated into 50 idiomas. \" (9 April 2009)</span>\\n</li>\\n<li id=\"cite_note-61\"><span class=\"mw-cite-backlink\"><a href=\"#cite_ref-61\">↑</a></span> <span class=\"reference-text\"><a rel=\"nofollow\" class=\"external text\" href=\"http://web.archive.org/web/20090507154852/http://www.cbc.ca/arts/books/story/2009/05/05/marilyn-french-obit.html\">CBC</a> on <i>The Women\\'s Room</i>: \"It sold 20 millones copies and was widely translated, despite poor reviews.\" (5 Mayo 2009)</span>\\n</li>\\n<li id=\"cite_note-62\"><span class=\"mw-cite-backlink\"><a href=\"#cite_ref-62\">↑</a></span> <span class=\"reference-text\"><a rel=\"nofollow\" class=\"external text\" href=\"http://www.theaustralian.com.au/news/breaking-news/influential-pregnancy-book-what-to-expect-when-youre-expecting-to-become-movie/story-fn3dxity-1225944076975\">The Australian</a> on <i>What to Expect When You\\'re Expecting</i>: \"What to Expect When You\\'re Expecting, in its fourth edition, was first published in 1984 and has sold more than 20 millones copies.\" (27 Oct. 2010)</span>\\n</li>\\n<li id=\"cite_note-63\"><span class=\"mw-cite-backlink\"><a href=\"#cite_ref-63\">↑</a></span> <span class=\"reference-text\"><span id=\"CITAREFJeff_Kinney2010\" class=\"citation web\"><a href=\"/wiki/Jeff_Kinney\" title=\"Jeff Kinney\">Jeff Kinney</a> (2010). «El libro de las 21 millones».</span><span title=\"ctx_ver=Z39.88-2004&amp;rfr_id=info%3Asid%2Fes.wikipedia.org%3AAnexo%3ALibros+m%C3%A1s+vendidos&amp;rft.au=Jeff+Kinney&amp;rft.aulast=Jeff+Kinney&amp;rft.btitle=El+libro+de+las+21+millones&amp;rft.date=2010&amp;rft.genre=book&amp;rft_val_fmt=info%3Aofi%2Ffmt%3Akev%3Amtx%3Abook\" class=\"Z3988\"><span style=\"display:none;\">&#160;</span></span> <span style=\"display:none;font-size:100%\" class=\"error citation-comment\">Falta la <code>&#124;url=</code> (<a href=\"/wiki/Ayuda:Errores_en_las_referencias#cite_web_url\" title=\"Ayuda:Errores en las referencias\">ayuda</a>); </span><span style=\"display:none;font-size:100%\" class=\"error citation-comment\"><code>&#124;fechaacceso=</code> requiere <code>&#124;url=</code> (<a href=\"/wiki/Ayuda:Errores_en_las_referencias#accessdate_missing_url\" title=\"Ayuda:Errores en las referencias\">ayuda</a>)</span></span>\\n</li>\\n<li id=\"cite_note-64\"><span class=\"mw-cite-backlink\"><a href=\"#cite_ref-64\">↑</a></span> <span class=\"reference-text\"><span class=\"citation web\"><a rel=\"nofollow\" class=\"external text\" href=\"http://books.simonandschuster.com/City-of-Heavenly-Fire/Cassandra-Clare/The-Mortal-Instruments/9781442416895\">«Simon &amp; Schuster»</a>. <a rel=\"nofollow\" class=\"external free\" href=\"http://www.simonandschuster.com/\">http://www.simonandschuster.com/</a><span class=\"reference-accessdate\">. Consultado el -03-05-2014</span>.</span><span title=\"ctx_ver=Z39.88-2004&amp;rfr_id=info%3Asid%2Fes.wikipedia.org%3AAnexo%3ALibros+m%C3%A1s+vendidos&amp;rft.btitle=Simon+%26+Schuster&amp;rft.genre=book&amp;rft.pub=http%3A%2F%2Fwww.simonandschuster.com%2F&amp;rft_id=http%3A%2F%2Fbooks.simonandschuster.com%2FCity-of-Heavenly-Fire%2FCassandra-Clare%2FThe-Mortal-Instruments%2F9781442416895&amp;rft_val_fmt=info%3Aofi%2Ffmt%3Akev%3Amtx%3Abook\" class=\"Z3988\"><span style=\"display:none;\">&#160;</span></span></span>\\n</li>\\n<li id=\"cite_note-65\"><span class=\"mw-cite-backlink\"><a href=\"#cite_ref-65\">↑</a></span> <span class=\"reference-text\"><a rel=\"nofollow\" class=\"external text\" href=\"http://www.independent.ie/entertainment/day-and-night/features/into-the-wilds-of-the-imagination-1964097.html\">The Irish Independent</a> on <i>Where the Wild Things are</i>: \"Although consisting of just 10 lines of text in total, the book has endured (with some 19 millones copies sold) as a -- if not the -- definitive story about the power of a child\\'s imagination.\" (4 Diciembre 2009)</span>\\n</li>\\n<li id=\"cite_note-66\"><span class=\"mw-cite-backlink\"><a href=\"#cite_ref-66\">↑</a></span> <span class=\"reference-text\"><a rel=\"nofollow\" class=\"external text\" href=\"http://www.hindustantimes.com/Coming-soon-Sequel-of-The-Secret/Article1-573262.aspx\">The Hindustan Times</a> on <i>The Secret</i>: \"The book became an international best-seller, with a reported 19 millones copies in print and translations in 46 idiomas, and continued to hold spots on best-seller lists through 2009.\" (16 de julio de 2010)</span>\\n</li>\\n<li id=\"cite_note-67\"><span class=\"mw-cite-backlink\"><a href=\"#cite_ref-67\">↑</a></span> <span class=\"reference-text\"><a rel=\"nofollow\" class=\"external text\" href=\"http://www.newyorker.com/talk/2008/04/14/080414ta_talk_mead\">The New Yorker</a> on Erica Jong: \"Erica Jong, the novelist, essayist, and poet, has long lamented that “Fear of Flying,” which has sold more than eighteen millones copies worldwide since it was published, in 1973, has overshadowed the remainder of her sizable oeuvre.\" (14 Abril 2008, online 7 Abril 2008)</span>\\n</li>\\n<li id=\"cite_note-68\"><span class=\"mw-cite-backlink\"><a href=\"#cite_ref-68\">↑</a></span> <span class=\"reference-text\"><a rel=\"nofollow\" class=\"external text\" href=\"http://www.playthings.com/article/CA6431998.html\">Playthings</a> (1 Abril 2007)</span>\\n</li>\\n<li id=\"cite_note-rjmlicensing-69\"><span class=\"mw-cite-backlink\"><a href=\"#cite_ref-rjmlicensing_69-0\">↑</a></span> <span class=\"reference-text\"><span class=\"broken-link\"><a rel=\"nofollow\" class=\"external free\" href=\"http://www.rjmlicensing.com/clients.html\">http://www.rjmlicensing.com/clients.html</a></span> <span class=\"plainlinks\" style=\"background-color: var(--background-color-warning-subtle,lightyellow); color: var(--color-base, #202122); font-size:85%\">(<a href=\"/wiki/Ayuda:C%C3%B3mo_recuperar_un_enlace_roto\" title=\"Ayuda:Cómo recuperar un enlace roto\">enlace roto</a> disponible en <a href=\"/wiki/Internet_Archive\" title=\"Internet Archive\">Internet Archive</a>; véase el <a rel=\"nofollow\" class=\"external text\" href=\"//web.archive.org/web/*/http://www.rjmlicensing.com/clients.html\">historial</a>, la <a rel=\"nofollow\" class=\"external text\" href=\"//web.archive.org/web/1/http://www.rjmlicensing.com/clients.html\">primera versión</a> y la <a rel=\"nofollow\" class=\"external text\" href=\"//web.archive.org/web/2/http://www.rjmlicensing.com/clients.html\">última</a>).</span></span>\\n</li>\\n<li id=\"cite_note-70\"><span class=\"mw-cite-backlink\"><a href=\"#cite_ref-70\">↑</a></span> <span class=\"reference-text\"><a rel=\"nofollow\" class=\"external text\" href=\"http://web.archive.org/web/http://www.forbes.com/home_asia/2003/05/15/cx_da_0515selfhelp.html\">Forbes</a> on Covey: \"The original title has sold more than 15 millones copies worldwide\" (15 Mayo 2003</span>\\n</li>\\n<li id=\"cite_note-71\"><span class=\"mw-cite-backlink\"><a href=\"#cite_ref-71\">↑</a></span> <span class=\"reference-text\"><a href=\"/wiki/Time\" title=\"Time\">Time</a> 26 Nov. 1990.</span>\\n</li>\\n<li id=\"cite_note-72\"><span class=\"mw-cite-backlink\"><a href=\"#cite_ref-72\">↑</a></span> <span class=\"reference-text\"><span class=\"citation web\"><a rel=\"nofollow\" class=\"external text\" href=\"http://jp.bookmooch.com/detail/0307748057\">«Golden Books&#160;: Poky Little Puppy (Little Golden Book)»</a>. Jp.bookmooch.com. 1 de junio de 1992<span class=\"reference-accessdate\">. Consultado el 31 de agosto de 2009</span>.</span><span title=\"ctx_ver=Z39.88-2004&amp;rfr_id=info%3Asid%2Fes.wikipedia.org%3AAnexo%3ALibros+m%C3%A1s+vendidos&amp;rft.btitle=Golden+Books+%3A+Poky+Little+Puppy+%28Little+Golden+Book%29&amp;rft.date=1+de+junio+de+1992&amp;rft.genre=book&amp;rft.pub=Jp.bookmooch.com&amp;rft_id=http%3A%2F%2Fjp.bookmooch.com%2Fdetail%2F0307748057&amp;rft_val_fmt=info%3Aofi%2Ffmt%3Akev%3Amtx%3Abook\" class=\"Z3988\"><span style=\"display:none;\">&#160;</span></span></span>\\n</li>\\n<li id=\"cite_note-73\"><span class=\"mw-cite-backlink\"><a href=\"#cite_ref-73\">↑</a></span> <span class=\"reference-text\"><a rel=\"nofollow\" class=\"external text\" href=\"http://www.cbsnews.com/stories/2007/10/07/sunday/main3339866.shtml?source=search_story\">CBS</a> on Ken Follett: \"But since it was published in 1989, \"The Pillars of the Earth\" has become an international sensation, selling 15 millones copies worldwide.\" (7 Oct. 2007)</span>\\n</li>\\n<li id=\"cite_note-74\"><span class=\"mw-cite-backlink\"><a href=\"#cite_ref-74\">↑</a></span> <span class=\"reference-text\"><a rel=\"nofollow\" class=\"external text\" href=\"http://www.financialpost.com/money/story.html?id=423190\">The Financial Post</a> on Dale Carnegie: \"Dale Carnegie\\'s How to Win Friends and Influence People, the gold standard of the genre, has sold more than 15 millones copies since it was first published in 1937.\" (5 Abril 2008)</span>\\n</li>\\n<li id=\"cite_note-75\"><span class=\"mw-cite-backlink\"><a href=\"#cite_ref-75\">↑</a></span> <span class=\"reference-text\"><a rel=\"nofollow\" class=\"external text\" href=\"http://ledger.southofboston.com/articles/2007/01/05/life/life01.txt\">The Patriot Ledger</a> on <i>Perfume</i>: \"Yet the scene, like the movie, is so daring, so challenging, you cannot help but respect Tykwer’s unerring desire to remain true to the source novel, a book that has sold 15 millones copies and has been credited with inspiring Kurt Cobain to write the Nirvana classic ‘‘Scentless Apprentice.’’\" (5 enero 2007)</span>\\n</li>\\n<li id=\"cite_note-76\"><span class=\"mw-cite-backlink\"><a href=\"#cite_ref-76\">↑</a></span> <span class=\"reference-text\"><a rel=\"nofollow\" class=\"external text\" href=\"http://www.forres-gazette.co.uk/news/fullstory.php/aid/3475/Poisoning_drama_for_local_landowner.html\">The Forres Gazette</a> on <i>The Horse Whisperer</i>: \"Mr Evans is the author of \"The Horse Whisperer\", which sold 15 millones copies worldwide and was made into a Hollywood film in 1998 directed by and starring Robert Redford.\" (10 Sept. 2008)</span>\\n</li>\\n<li id=\"cite_note-77\"><span class=\"mw-cite-backlink\"><a href=\"#cite_ref-77\">↑</a></span> <span class=\"reference-text\"><a rel=\"nofollow\" class=\"external text\" href=\"http://web.archive.org/web/http://www.irishtimes.com/newspaper/weekend/2009/0613/1224248732329.html?via=mr\">Irish Times</a> on <i>The Shadow of the Wind</i>: \"[...]his novel The Shadow of the Wind has sold more than 15 millones copies worldwide, writes Arminta Wallace\" (13 Junio 2009)</span>\\n</li>\\n<li id=\"cite_note-78\"><span class=\"mw-cite-backlink\"><a href=\"#cite_ref-78\">↑</a></span> <span class=\"reference-text\"><a rel=\"nofollow\" class=\"external text\" href=\"http://toledoblade.com/article/20100417/NEWS10/4170381/-1/NEWS\">The Toledo Blade</a> on <i>The Shack</i>: \"The Shack, originally self-published, has sold 12 millones to 15 millones copies since Mr. Young and two friends started a compa-ny, borrowed money, and printed 10,000 copies in May, 2007.\" (17 Abril 2010)</span>\\n</li>\\n<li id=\"cite_note-79\"><span class=\"mw-cite-backlink\"><a href=\"#cite_ref-79\">↑</a></span> <span class=\"reference-text\"><a rel=\"nofollow\" class=\"external free\" href=\"http://thecelebritycafe.com/feature/2012/07/hunger-games-trilogy-reaches-50-million-copies-print-milestone\">http://thecelebritycafe.com/feature/2012/07/hunger-games-trilogy-reaches-50-million-copies-print-milestone</a></span>\\n</li>\\n<li id=\"cite_note-80\"><span class=\"mw-cite-backlink\"><a href=\"#cite_ref-80\">↑</a></span> <span class=\"reference-text\"><a rel=\"nofollow\" class=\"external free\" href=\"http://contemporarylit.about.com/od/memoir/fr/dontPanic.htm\">http://contemporarylit.about.com/od/memoir/fr/dontPanic.htm</a></span>\\n</li>\\n<li id=\"cite_note-81\"><span class=\"mw-cite-backlink\"><a href=\"#cite_ref-81\">↑</a></span> <span class=\"reference-text\"><a rel=\"nofollow\" class=\"external text\" href=\"http://www.usatoday.com/life/books/news/2008-04-07-pausch_N.htm\">USA Today</a> on <i>Tuesdays with Morrie</i>: \"The book has sold more than 14 millones copies worldwide since 1997 and became an Oprah Winfrey-produced TV movie. \" (8 Abril 2008)</span>\\n</li>\\n<li id=\"cite_note-82\"><span class=\"mw-cite-backlink\"><a href=\"#cite_ref-82\">↑</a></span> <span class=\"reference-text\"><span class=\"citation web\"><a rel=\"nofollow\" class=\"external text\" href=\"http://id.mind.net/~fletch/biography.html\">«Erskine Caldwell Biography»</a>. Id.mind.net. 11 de abril de 1987<span class=\"reference-accessdate\">. Consultado el 31 de agosto de 2009</span>.</span><span title=\"ctx_ver=Z39.88-2004&amp;rfr_id=info%3Asid%2Fes.wikipedia.org%3AAnexo%3ALibros+m%C3%A1s+vendidos&amp;rft.btitle=Erskine+Caldwell+Biography&amp;rft.date=11+de+abril+de+1987&amp;rft.genre=book&amp;rft.pub=Id.mind.net&amp;rft_id=http%3A%2F%2Fid.mind.net%2F~fletch%2Fbiography.html&amp;rft_val_fmt=info%3Aofi%2Ffmt%3Akev%3Amtx%3Abook\" class=\"Z3988\"><span style=\"display:none;\">&#160;</span></span></span>\\n</li>\\n<li id=\"cite_note-83\"><span class=\"mw-cite-backlink\"><a href=\"#cite_ref-83\">↑</a></span> <span class=\"reference-text\"><a rel=\"nofollow\" class=\"external text\" href=\"http://www.iht.com/articles/2008/08/03/business/publish04.php\">The International Herald Tribune</a> on <i>Follow Your Heart</i>: \"But Susanna Tamaro\\'s \"Follow Your Heart,\" the biggest selling Italian postwar novel, with more than 14 millones copies sold, according to its publisher, Baldini Castoldi, as it was known then, sold barely 25,000 copies in the United States.\" (3 de Agosto 2008)</span>\\n</li>\\n<li id=\"cite_note-84\"><span class=\"mw-cite-backlink\"><a href=\"#cite_ref-84\">↑</a></span> <span class=\"reference-text\"><a rel=\"nofollow\" class=\"external free\" href=\"http://thecelebritycafe.com/feature/2012/07/hunger-games-trilogy-reaches-50-million-copies-print-milestone\">http://thecelebritycafe.com/feature/2012/07/hunger-games-trilogy-reaches-50-million-copies-print-milestone</a></span>\\n</li>\\n<li id=\"cite_note-85\"><span class=\"mw-cite-backlink\"><a href=\"#cite_ref-85\">↑</a></span> <span class=\"reference-text\"><a rel=\"nofollow\" class=\"external text\" href=\"http://www.foxnews.com/wires/2007Sep29/0,4670,BooksSEHinton,00.html\">Fox News</a> sobre <i>The Outsiders</i>: \"According to Viking, a division of Penguin Group USA, \"The Outsiders\" has sold more than 13 millones copies and still sells more than 500,000 a year.\" (29 September 2007)</span>\\n</li>\\n<li id=\"cite_note-86\"><span class=\"mw-cite-backlink\"><a href=\"#cite_ref-86\">↑</a></span> <span class=\"reference-text\"><a rel=\"nofollow\" class=\"external text\" href=\"http://www.calendarlive.com/movies/turan/cl-et-charlie15jul15,0,150671.story\">Los Angeles Times</a> 15 de julio de 2005</span>\\n</li>\\n<li id=\"cite_note-87\"><span class=\"mw-cite-backlink\"><a href=\"#cite_ref-87\">↑</a></span> <span class=\"reference-text\"><a rel=\"nofollow\" class=\"external text\" href=\"http://web.archive.org/web/http://www.google.com/hostednews/ap/article/ALeqM5iaNUeQjpbAcjtQCYKo8eXLGn9IyQD9HVP6J00\">Associated Press</a> on <i>Norwegian Wood</i>: \"More than 10 millones copies of the book have been sold in Japan alone, with 2.6 millones more sold in another 33 idiomas.\" (2 Sept. 2010)</span>\\n</li>\\n<li id=\"cite_note-88\"><span class=\"mw-cite-backlink\"><a href=\"#cite_ref-88\">↑</a></span> <span class=\"reference-text\"><a rel=\"nofollow\" class=\"external text\" href=\"http://www.thestar.com/Unassigned/article/238311\">The Toronto Star</a> on Grace Metalious: \"It sold 100,000 copies in its first month and went on to sell another 12 millones copies, was made into a film and eventually into a prime-time television series that made the young Mia Farrow a star.\" (21 de julio de 2007)</span>\\n</li>\\n<li id=\"cite_note-89\"><span class=\"mw-cite-backlink\"><a href=\"#cite_ref-89\">↑</a></span> <span class=\"reference-text\"><a rel=\"nofollow\" class=\"external text\" href=\"http://www.britannica.com/eb/article-9104367/Frank-Herbert\">Britannica</a> on <i>Dune</i>: \"the epic Dune (1965; filmed by David Lynch in 1984), which was translated into 14 idiomas and sold some 12 millones copies, more than any other science-fiction book in history;\" (24 November 2007)</span>\\n</li>\\n<li id=\"cite_note-90\"><span class=\"mw-cite-backlink\"><a href=\"#cite_ref-90\">↑</a></span> <span class=\"reference-text\"><a rel=\"nofollow\" class=\"external text\" href=\"http://news.xinhuanet.com/Inglés/2008-04/09/content_7944793.htm\">China View</a> on <i>La Peste</i>: \"Translated into 28 idiomas, the book has sold more than 12 millones copies around the world.\" (9 April 2008)</span>\\n</li>\\n<li id=\"cite_note-91\"><span class=\"mw-cite-backlink\"><a href=\"#cite_ref-91\">↑</a></span> <span class=\"reference-text\"><a rel=\"nofollow\" class=\"external text\" href=\"http://web.archive.org/20090827013842/www.yomiuri.co.jp/entertainment/cinema/topics/20090821et08.htm\">Yomiuri Shimbun</a> (21 April 2009)</span>\\n</li>\\n<li id=\"cite_note-92\"><span class=\"mw-cite-backlink\"><a href=\"#cite_ref-92\">↑</a></span> <span class=\"reference-text\"><a rel=\"nofollow\" class=\"external text\" href=\"http://web.archive.org/web/http://www.sundayherald.com/life/people/display.var.1945224.0.monkey_man.php?act=login\">The Sunday Herald</a> on <i>The Naked Ape</i>: \"Morris is still flabbergasted that the book caused such a furore, although the publicity helped it sell 12 millones copies.\" (11 March 2008)</span>\\n</li>\\n<li id=\"cite_note-93\"><span class=\"mw-cite-backlink\"><a href=\"#cite_ref-93\">↑</a></span> <span class=\"reference-text\"><span class=\"citation web\"><a rel=\"nofollow\" class=\"external text\" href=\"http://web.archive.org/web/20080712002204/http://www.madisoncounty.com/novel.html\">«The Novel»</a>. Madisoncounty.com. 30 de abril de 1998. Archivado desde <a rel=\"nofollow\" class=\"external text\" href=\"http://www.madisoncounty.com/novel.html\">el original</a> el 12 de julio de 2008<span class=\"reference-accessdate\">. Consultado el 31 de agosto de 2009</span>.</span><span title=\"ctx_ver=Z39.88-2004&amp;rfr_id=info%3Asid%2Fes.wikipedia.org%3AAnexo%3ALibros+m%C3%A1s+vendidos&amp;rft.btitle=The+Novel&amp;rft.date=30+de+abril+de+1998&amp;rft.genre=book&amp;rft.pub=Madisoncounty.com&amp;rft_id=http%3A%2F%2Fwww.madisoncounty.com%2Fnovel.html&amp;rft_val_fmt=info%3Aofi%2Ffmt%3Akev%3Amtx%3Abook\" class=\"Z3988\"><span style=\"display:none;\">&#160;</span></span></span>\\n</li>\\n<li id=\"cite_note-94\"><span class=\"mw-cite-backlink\"><a href=\"#cite_ref-94\">↑</a></span> <span class=\"reference-text\"><a rel=\"nofollow\" class=\"external text\" href=\"http://www.thestandard.com.hk/news_detail.asp?we_cat=16&amp;art_id=63036&amp;sid=18059567&amp;con_type=3&amp;d_str=&amp;fc=10\">The Standard</a> on Chinua Achebe: \"That Things Fall Apart, published in 1958, would sell about 11 millones copies in about 45 idiomas?\" (14 March 2008)</span>\\n</li>\\n<li id=\"cite_note-95\"><span class=\"mw-cite-backlink\"><a href=\"#cite_ref-95\">↑</a></span> <span class=\"reference-text\"><a rel=\"nofollow\" class=\"external free\" href=\"http://www.selfgrowth.com/experts/kahlil_gibran.html\">http://www.selfgrowth.com/experts/kahlil_gibran.html</a></span>\\n</li>\\n<li id=\"cite_note-96\"><span class=\"mw-cite-backlink\"><a href=\"#cite_ref-96\">↑</a></span> <span class=\"reference-text\"><a rel=\"nofollow\" class=\"external text\" href=\"http://online.wsj.com/article/SB118972984449527200.html?mod=googlenews_wsj\">The Wall Street Journal</a> on <i>The Exorcist</i>: \"Back in the 1970s, those smaller, rack-sized paperbacks were the blockbusters of the business, led by such best sellers as William Peter Blatty\\'s \"The Exorcist\" (11 millones copies sold); Peter Benchley\\'s \"Jaws\" (more than nine millones copies), and Sidney Sheldon\\'s \"The Other Side of Midnight\" (six millones copies plus).\" (14 September 2007)</span>\\n</li>\\n<li id=\"cite_note-97\"><span class=\"mw-cite-backlink\"><a href=\"#cite_ref-97\">↑</a></span> <span class=\"reference-text\"><a rel=\"nofollow\" class=\"external text\" href=\"http://www.telegraph.co.uk/culture/books/books-life/7545438/The-20-greatest-childrens-books-ever.html\">The Telegraph</a> on <i>The Gruffalo</i>: \"<i>The Gruffalo</i> has sold more than 10.5 millones copies, been adapted for stage in both the West End and Broadway, and in 2009 was made into a 30-minute animated film\" (3April 2010)</span>\\n</li>\\n<li id=\"cite_note-98\"><span class=\"mw-cite-backlink\"><a href=\"#cite_ref-98\">↑</a></span> <span class=\"reference-text\"><span class=\"citation noticia\"><a rel=\"nofollow\" class=\"external text\" href=\"http://www.washingtonpost.com/wp-srv/pmextra/dec99/13/heller.htm\">«<span style=\"padding-left:0.2em;\">\\'</span>Catch-22\\' Author Joseph Heller Dies»</a>. Washingtonpost.com. 13 de diciembre de 1999<span class=\"reference-accessdate\">. Consultado el 31 de agosto de 2009</span>.</span><span title=\"ctx_ver=Z39.88-2004&amp;rfr_id=info%3Asid%2Fes.wikipedia.org%3AAnexo%3ALibros+m%C3%A1s+vendidos&amp;rft.btitle=%27Catch-22%27+Author+Joseph+Heller+Dies&amp;rft.date=13+de+diciembre+de+1999&amp;rft.genre=book&amp;rft.pub=Washingtonpost.com&amp;rft_id=http%3A%2F%2Fwww.washingtonpost.com%2Fwp-srv%2Fpmextra%2Fdec99%2F13%2Fheller.htm&amp;rft_val_fmt=info%3Aofi%2Ffmt%3Akev%3Amtx%3Abook\" class=\"Z3988\"><span style=\"display:none;\">&#160;</span></span></span>\\n</li>\\n<li id=\"cite_note-99\"><span class=\"mw-cite-backlink\"><a href=\"#cite_ref-99\">↑</a></span> <span class=\"reference-text\"><a rel=\"nofollow\" class=\"external text\" href=\"http://books.google.com/books?id=xkGlUNW09eEC&amp;pg=PA44&amp;dq=%22eye+of+the+needle%22+%2210+millones+copies%22&amp;ei=lI70R7TpJYWwzgSGgvnIAQ&amp;sig=_3n61rMQugtQjVN8U--Wd2Cvw7g\">Carlos Ramet in <i>Ken Follett: The Transformation of a Writer</i></a> page 44 on Ken Follett: \"The first two editions alone sold over 10 millones copies worldwide\" (1999)</span>\\n</li>\\n<li id=\"cite_note-100\"><span class=\"mw-cite-backlink\"><a href=\"#cite_ref-100\">↑</a></span> <span class=\"reference-text\"><a rel=\"nofollow\" class=\"external text\" href=\"http://www.telegraph.co.uk/news/main.jhtml?xml=/news/2007/04/26/whawking126.xml\">The Telegraph</a> on Stephen Hawking: \"Prof Hawking is the author of A Brief History of Time — which has sold 10 millones copies — and is currently writing two books.\" (27 April 2007)</span>\\n</li>\\n<li id=\"cite_note-101\"><span class=\"mw-cite-backlink\"><a href=\"#cite_ref-101\">↑</a></span> <span class=\"reference-text\"><a rel=\"nofollow\" class=\"external text\" href=\"http://www.jsonline.com/story/index.aspx?id=590928\">The Milwaukee Journal Sentinel</a> on <i>The Cat in the Hat</i>: \"There are more than 10 millones copies in print today in more than a dozen idiomas, including the Latin, \"Cattus Petasatus.\"\" (14 April 2007)</span>\\n</li>\\n<li id=\"cite_note-102\"><span class=\"mw-cite-backlink\"><a href=\"#cite_ref-102\">↑</a></span> <span class=\"reference-text\"><a rel=\"nofollow\" class=\"external text\" href=\"http://tvnz.co.nz/view/page/411319/1098660\">TVNZ</a> on <i>The Lovely Bones</i>: \"Published in 2002, Lovely Bones is the second novel by Alice Sebold, and has sold over 10 millones copies worldwide, remaining on the New York Times hardback bestseller list for over a year.\" (5 May 2007)</span>\\n</li>\\n<li id=\"cite_note-103\"><span class=\"mw-cite-backlink\"><a href=\"#cite_ref-103\">↑</a></span> <span class=\"reference-text\"><a rel=\"nofollow\" class=\"external text\" href=\"http://www.telegraph.co.uk/arts/main.jhtml?xml=/arts/2007/07/21/nosplit/bochina121.xml\">The Telegraph</a> on <i>Wild Swans</i>: \"Selling more than 10 millones copies and topping the \"most borrowed historical biography\" chart in British libraries year after year, it proved a publishing phenomenon\" (21 de julio de 2007)</span>\\n</li>\\n<li id=\"cite_note-104\"><span class=\"mw-cite-backlink\"><a href=\"#cite_ref-104\">↑</a></span> <span class=\"reference-text\"><a rel=\"nofollow\" class=\"external text\" href=\"http://www.britannica.com/eb/article-9389979/Martinez-Tomas-Eloy\">Britannica</a> on <i>Santa Evita</i>: \"Martínez was best known as the author of two classics of Argentine and Latin American literature: La novela de Perón (1985, The Perón Novel, 1988) and Santa Evita (1995, Eng. trans., 1995); the latter was translated into 30 idiomas and sold more than 10 millones copies.\" (22 November 2007)</span>\\n</li>\\n<li id=\"cite_note-105\"><span class=\"mw-cite-backlink\"><a href=\"#cite_ref-105\">↑</a></span> <span class=\"reference-text\"><a rel=\"nofollow\" class=\"external text\" href=\"http://www.nytimes.com/2008/01/20/books/review/Donadio-t.html?_r=1&amp;ref=books&amp;pagewanted=all\">The New York Times</a> on <i>Night</i>: \"Indeed, since it appeared in 1960, “Night” has sold an estimated 10 millones copies — three millones of them since Winfrey chose the book in January 2006 (and traveled with Wiesel to Auschwitz).\" (20 January 2008)</span>\\n</li>\\n<li id=\"cite_note-106\"><span class=\"mw-cite-backlink\"><a href=\"#cite_ref-106\">↑</a></span> <span class=\"reference-text\"><a rel=\"nofollow\" class=\"external text\" href=\"http://entertainment.timesonline.co.uk/tol/arts_and_entertainment/books/article3721678.ece\">The Times</a> on <i>The Kite Runner</i>: \"His first novel, The Kite Runner, sold 10 millones copies.\" (11 April 2008)</span>\\n</li>\\n<li id=\"cite_note-107\"><span class=\"mw-cite-backlink\"><a href=\"#cite_ref-107\">↑</a></span> <span class=\"reference-text\"><a rel=\"nofollow\" class=\"external text\" href=\"http://www.thebookseller.com/news/56659-macmillans-100k-chinese-deal.html\">Bookseller.com</a> on Yun Da: \"\" (14 April 2008)</span>\\n</li>\\n<li id=\"cite_note-108\"><span class=\"mw-cite-backlink\"><a href=\"#cite_ref-108\">↑</a></span> <span class=\"reference-text\"><a rel=\"nofollow\" class=\"external text\" href=\"http://abcnews.go.com/US/story?id=4651272&amp;page=1\">ABC News</a> on <i>The Total Woman</i>: \"One of the first books to address the issue was Marabel Morgan\\'s \"The Total Woman,\" which sold more than 10 millones copies to women of all religious persuasions, making it the best-selling nonfiction book of 1974.\" (15 April 2008)</span>\\n</li>\\n<li id=\"cite_note-109\"><span class=\"mw-cite-backlink\"><a href=\"#cite_ref-109\">↑</a></span> <span class=\"reference-text\"><span class=\"citation web\"><a rel=\"nofollow\" class=\"external text\" href=\"http://web.archive.org/web/http://www.waseda.jp/wnfs/magazine/special/070108/index.html\">«Waseda University»</a>. Waseda.jp<span class=\"reference-accessdate\">. Consultado el 31 de agosto de 2009</span>.</span><span title=\"ctx_ver=Z39.88-2004&amp;rfr_id=info%3Asid%2Fes.wikipedia.org%3AAnexo%3ALibros+m%C3%A1s+vendidos&amp;rft.btitle=Waseda+University&amp;rft.genre=book&amp;rft.pub=Waseda.jp&amp;rft_id=http%3A%2F%2Fweb.archive.org%2Fweb%2Fhttp%3A%2F%2Fwww.waseda.jp%2Fwnfs%2Fmagazine%2Fspecial%2F070108%2Findex.html&amp;rft_val_fmt=info%3Aofi%2Ffmt%3Akev%3Amtx%3Abook\" class=\"Z3988\"><span style=\"display:none;\">&#160;</span></span></span>\\n</li>\\n<li id=\"cite_note-110\"><span class=\"mw-cite-backlink\"><a href=\"#cite_ref-110\">↑</a></span> <span class=\"reference-text\"><a rel=\"nofollow\" class=\"external text\" href=\"http://finance.people.com.cn/GB/42774/3586529.html\">people.com.cn</a> (2 August 2005)</span>\\n</li>\\n<li id=\"cite_note-111\"><span class=\"mw-cite-backlink\"><a href=\"#cite_ref-111\">↑</a></span> <span class=\"reference-text\"><a rel=\"nofollow\" class=\"external text\" href=\"http://www.usnews.com/articles/business/careers/2008/10/01/richard-bolles-stays-on-the-job.html\">U.S. News and World Report</a> on <i>What Color is Your Parachute</i>: \"Today, Parachute is one of the all-time bestselling careers books, with more than 10 millones copies of 37 editions snapped up since 1970. \" (1 October 2008)</span>\\n</li>\\n</ol></div>\\n<div class=\"mw-heading mw-heading2\"><h2 id=\"Enlaces_externos\">Enlaces externos</h2><span class=\"mw-editsection\"><span class=\"mw-editsection-bracket\">[</span><a href=\"/w/index.php?title=Anexo:Libros_m%C3%A1s_vendidos&amp;action=edit&amp;section=9\" title=\"Editar sección: Enlaces externos\"><span>editar</span></a><span class=\"mw-editsection-bracket\">]</span></span></div>\\n<ul><li><a rel=\"nofollow\" class=\"external text\" href=\"https://www.abc.es/cultura/cultural/abci-100-mejores-libros-literatura-universal-201806030125_noticia.html\">Los 100 mejores libros de la literatura universal según diario ABC de España</a></li></ul>\\n<style data-mw-deduplicate=\"TemplateStyles:r161257576\">.mw-parser-output .mw-authority-control{margin-top:1.5em}.mw-parser-output .mw-authority-control .navbox table{margin:0}.mw-parser-output .mw-authority-control .navbox hr:last-child{display:none}.mw-parser-output .mw-authority-control .navbox+.mw-mf-linked-projects{display:none}.mw-parser-output .mw-authority-control .mw-mf-linked-projects{display:flex;padding:0.5em;border:1px solid var(--border-color-base,#a2a9b1);background-color:var(--background-color-neutral,#eaecf0);color:var(--color-base,#202122)}.mw-parser-output .mw-authority-control .mw-mf-linked-projects ul li{margin-bottom:0}.mw-parser-output .mw-authority-control .navbox{border:1px solid var(--border-color-base,#a2a9b1);background-color:var(--background-color-neutral-subtle,#f8f9fa)}.mw-parser-output .mw-authority-control .navbox-list{border-color:#f8f9fa}.mw-parser-output .mw-authority-control .navbox th{background-color:#eeeeff}html.skin-theme-clientpref-night .mw-parser-output .mw-authority-control .mw-mf-linked-projects{border:1px solid var(--border-color-base,#72777d);background-color:var(--background-color-neutral,#27292d);color:var(--color-base,#eaecf0)}html.skin-theme-clientpref-night .mw-parser-output .mw-authority-control .navbox{border:1px solid var(--border-color-base,#72777d)!important;background-color:var(--background-color-neutral-subtle,#202122)!important}html.skin-theme-clientpref-night .mw-parser-output .mw-authority-control .navbox-list{border-color:#202122!important}html.skin-theme-clientpref-night .mw-parser-output .mw-authority-control .navbox th{background-color:#27292d!important}@media(prefers-color-scheme:dark){html.skin-theme-clientpref-os .mw-parser-output .mw-authority-control .mw-mf-linked-projects{border:1px solid var(--border-color-base,#72777d)!important;background-color:var(--background-color-neutral,#27292d)!important;color:var(--color-base,#eaecf0)!important}html.skin-theme-clientpref-os .mw-parser-output .mw-authority-control .navbox{border:1px solid var(--border-color-base,#72777d)!important;background-color:var(--background-color-neutral-subtle,#202122)!important}html.skin-theme-clientpref-os .mw-parser-output .mw-authority-control .navbox-list{border-color:#202122!important}html.skin-theme-clientpref-os .mw-parser-output .mw-authority-control .navbox th{background-color:#27292d!important}}</style><div class=\"mw-authority-control\"><div role=\"navigation\" class=\"navbox\" aria-label=\"Navbox\" style=\"width: inherit;padding:3px\"><table class=\"hlist navbox-inner\" style=\"border-spacing:0;background:transparent;color:inherit\"><tbody><tr><th scope=\"row\" class=\"navbox-group\" style=\"width: 12%; text-align:center;\"><a href=\"/wiki/Control_de_autoridades\" title=\"Control de autoridades\">Control de autoridades</a></th><td class=\"navbox-list navbox-odd\" style=\"text-align:left;border-left-width:2px;border-left-style:solid;width:100%;padding:0px\"><div style=\"padding:0em 0.25em\">\\n<ul><li><b>Proyectos Wikimedia</b></li>\\n<li><span style=\"white-space:nowrap;\"><span typeof=\"mw:File\"><a href=\"/wiki/Wikidata\" title=\"Wikidata\"><img alt=\"Wd\" src=\"//upload.wikimedia.org/wikipedia/commons/thumb/f/ff/Wikidata-logo.svg/20px-Wikidata-logo.svg.png\" decoding=\"async\" width=\"20\" height=\"11\" class=\"mw-file-element\" srcset=\"//upload.wikimedia.org/wikipedia/commons/thumb/f/ff/Wikidata-logo.svg/30px-Wikidata-logo.svg.png 1.5x, //upload.wikimedia.org/wikipedia/commons/thumb/f/ff/Wikidata-logo.svg/40px-Wikidata-logo.svg.png 2x\" data-file-width=\"1050\" data-file-height=\"590\" /></a></span> Datos:</span> <span class=\"uid\"><a href=\"https://www.wikidata.org/wiki/Q1076527\" class=\"extiw\" title=\"wikidata:Q1076527\">Q1076527</a></span></li></ul>\\n</div></td></tr></tbody></table></div><div class=\"mw-mf-linked-projects hlist\">\\n<ul><li><span style=\"white-space:nowrap;\"><span typeof=\"mw:File\"><a href=\"/wiki/Wikidata\" title=\"Wikidata\"><img alt=\"Wd\" src=\"//upload.wikimedia.org/wikipedia/commons/thumb/f/ff/Wikidata-logo.svg/20px-Wikidata-logo.svg.png\" decoding=\"async\" width=\"20\" height=\"11\" class=\"mw-file-element\" srcset=\"//upload.wikimedia.org/wikipedia/commons/thumb/f/ff/Wikidata-logo.svg/30px-Wikidata-logo.svg.png 1.5x, //upload.wikimedia.org/wikipedia/commons/thumb/f/ff/Wikidata-logo.svg/40px-Wikidata-logo.svg.png 2x\" data-file-width=\"1050\" data-file-height=\"590\" /></a></span> Datos:</span> <span class=\"uid\"><a href=\"https://www.wikidata.org/wiki/Q1076527\" class=\"extiw\" title=\"wikidata:Q1076527\">Q1076527</a></span></li></ul>\\n</div></div>\\n<!-- \\nNewPP limit report\\nParsed by mw‐web.eqiad.main‐754756bf9d‐65ggm\\nCached time: 20250218215519\\nCache expiry: 2592000\\nReduced expiry: false\\nComplications: [show‐toc]\\nCPU time usage: 0.294 seconds\\nReal time usage: 0.361 seconds\\nPreprocessor visited node count: 3377/1000000\\nPost‐expand include size: 64909/2097152 bytes\\nTemplate argument size: 176/2097152 bytes\\nHighest expansion depth: 7/100\\nExpensive parser function count: 0/500\\nUnstrip recursion depth: 0/20\\nUnstrip post‐expand size: 104336/5000000 bytes\\nLua time usage: 0.100/10.000 seconds\\nLua memory usage: 2237507/52428800 bytes\\nNumber of Wikibase entities loaded: 1/400\\n-->\\n<!--\\nTransclusion expansion time report (%,ms,calls,template)\\n100.00%  238.159      1 -total\\n 55.86%  133.028      2 Plantilla:Listaref\\n 32.41%   77.181      1 Plantilla:Control_de_autoridades\\n 21.59%   51.414     34 Plantilla:Cita_web\\n 14.00%   33.333      1 Plantilla:Cita_publicación\\n  1.92%    4.562      1 Plantilla:Cita_requerida\\n  1.18%    2.818      1 Plantilla:Cita_libro\\n  1.12%    2.669      1 Plantilla:Enlace_roto\\n  1.08%    2.564      1 Plantilla:Cita_noticia\\n-->\\n\\n<!-- Saved in parser cache with key eswiki:pcache:3553464:|#|:idhash:canonical and timestamp 20250218215519 and revision id 165507398. Rendering was triggered because: page-view\\n -->\\n</div><!--esi <esi:include src=\"/esitest-fa8a495983347898/content\" /> --><noscript><img src=\"https://login.wikimedia.org/wiki/Special:CentralAutoLogin/start?useformat=desktop&amp;type=1x1&amp;usesul3=0\" alt=\"\" width=\"1\" height=\"1\" style=\"border: none; position: absolute;\"></noscript>\\n<div class=\"printfooter\" data-nosnippet=\"\">Obtenido de «<a dir=\"ltr\" href=\"https://es.wikipedia.org/w/index.php?title=Anexo:Libros_más_vendidos&amp;oldid=165507398\">https://es.wikipedia.org/w/index.php?title=Anexo:Libros_más_vendidos&amp;oldid=165507398</a>»</div></div>\\n\\t\\t\\t\\t\\t<div id=\"catlinks\" class=\"catlinks\" data-mw=\"interface\"><div id=\"mw-normal-catlinks\" class=\"mw-normal-catlinks\"><a href=\"/wiki/Especial:Categor%C3%ADas\" title=\"Especial:Categorías\">Categoría</a>: <ul><li><a href=\"/wiki/Categor%C3%ADa:Anexos:Listas_de_ventas_en_la_industria_editorial\" title=\"Categoría:Anexos:Listas de ventas en la industria editorial\">Anexos:Listas de ventas en la industria editorial</a></li></ul></div><div id=\"mw-hidden-catlinks\" class=\"mw-hidden-catlinks mw-hidden-cats-hidden\">Categorías ocultas: <ul><li><a href=\"/wiki/Categor%C3%ADa:Wikipedia:P%C3%A1ginas_con_plantillas_con_argumentos_duplicados\" title=\"Categoría:Wikipedia:Páginas con plantillas con argumentos duplicados\">Wikipedia:Páginas con plantillas con argumentos duplicados</a></li><li><a href=\"/wiki/Categor%C3%ADa:Wikipedia:P%C3%A1ginas_con_referencias_sin_t%C3%ADtulo\" title=\"Categoría:Wikipedia:Páginas con referencias sin título\">Wikipedia:Páginas con referencias sin título</a></li><li><a href=\"/wiki/Categor%C3%ADa:Wikipedia:P%C3%A1ginas_con_referencias_sin_t%C3%ADtulo_y_con_URL\" title=\"Categoría:Wikipedia:Páginas con referencias sin título y con URL\">Wikipedia:Páginas con referencias sin título y con URL</a></li><li><a href=\"/wiki/Categor%C3%ADa:Wikipedia:P%C3%A1ginas_con_referencias_con_par%C3%A1metros_redundantes\" title=\"Categoría:Wikipedia:Páginas con referencias con parámetros redundantes\">Wikipedia:Páginas con referencias con parámetros redundantes</a></li><li><a href=\"/wiki/Categor%C3%ADa:Wikipedia:P%C3%A1ginas_con_referencias_web_sin_URL\" title=\"Categoría:Wikipedia:Páginas con referencias web sin URL\">Wikipedia:Páginas con referencias web sin URL</a></li><li><a href=\"/wiki/Categor%C3%ADa:Wikipedia:P%C3%A1ginas_con_referencias_sin_URL_y_con_fecha_de_acceso\" title=\"Categoría:Wikipedia:Páginas con referencias sin URL y con fecha de acceso\">Wikipedia:Páginas con referencias sin URL y con fecha de acceso</a></li><li><a href=\"/wiki/Categor%C3%ADa:Wikipedia:Art%C3%ADculos_con_enlaces_externos_rotos\" title=\"Categoría:Wikipedia:Artículos con enlaces externos rotos\">Wikipedia:Artículos con enlaces externos rotos</a></li><li><a href=\"/wiki/Categor%C3%ADa:Wikipedia:Art%C3%ADculos_con_pasajes_que_requieren_referencias\" title=\"Categoría:Wikipedia:Artículos con pasajes que requieren referencias\">Wikipedia:Artículos con pasajes que requieren referencias</a></li></ul></div></div>\\n\\t\\t\\t\\t</div>\\n\\t\\t\\t</main>\\n\\t\\t\\t\\n\\t\\t</div>\\n\\t\\t<div class=\"mw-footer-container\">\\n\\t\\t\\t\\n<footer id=\"footer\" class=\"mw-footer\" >\\n\\t<ul id=\"footer-info\">\\n\\t<li id=\"footer-info-lastmod\"> Esta página se editó por última vez el 18 feb 2025 a las 21:54.</li>\\n\\t<li id=\"footer-info-copyright\">El texto está disponible bajo la <a href=\"/wiki/Wikipedia:Texto_de_la_Licencia_Creative_Commons_Atribuci%C3%B3n-CompartirIgual_4.0_Internacional\" title=\"Wikipedia:Texto de la Licencia Creative Commons Atribución-CompartirIgual 4.0 Internacional\">Licencia Creative Commons Atribución-CompartirIgual 4.0</a>; pueden aplicarse cláusulas adicionales. Al usar este sitio aceptas nuestros <a class=\"external text\" href=\"https://foundation.wikimedia.org/wiki/Policy:Terms_of_Use/es\">términos de uso</a> y nuestra <a class=\"external text\" href=\"https://foundation.wikimedia.org/wiki/Policy:Privacy_policy/es\">política de privacidad</a>.<br />Wikipedia&#174; es una marca registrada de la <a rel=\"nofollow\" class=\"external text\" href=\"https://wikimediafoundation.org/es/\">Fundación Wikimedia</a>, una organización sin ánimo de lucro.</li>\\n</ul>\\n\\n\\t<ul id=\"footer-places\">\\n\\t<li id=\"footer-places-privacy\"><a href=\"https://foundation.wikimedia.org/wiki/Special:MyLanguage/Policy:Privacy_policy/es\">Política de privacidad</a></li>\\n\\t<li id=\"footer-places-about\"><a href=\"/wiki/Wikipedia:Acerca_de\">Acerca de Wikipedia</a></li>\\n\\t<li id=\"footer-places-disclaimers\"><a href=\"/wiki/Wikipedia:Limitaci%C3%B3n_general_de_responsabilidad\">Limitación de responsabilidad</a></li>\\n\\t<li id=\"footer-places-wm-codeofconduct\"><a href=\"https://foundation.wikimedia.org/wiki/Special:MyLanguage/Policy:Universal_Code_of_Conduct\">Código de conducta</a></li>\\n\\t<li id=\"footer-places-developers\"><a href=\"https://developer.wikimedia.org\">Desarrolladores</a></li>\\n\\t<li id=\"footer-places-statslink\"><a href=\"https://stats.wikimedia.org/#/es.wikipedia.org\">Estadísticas</a></li>\\n\\t<li id=\"footer-places-cookiestatement\"><a href=\"https://foundation.wikimedia.org/wiki/Special:MyLanguage/Policy:Cookie_statement/es\">Declaración de cookies</a></li>\\n\\t<li id=\"footer-places-mobileview\"><a href=\"//es.m.wikipedia.org/w/index.php?title=Anexo:Libros_m%C3%A1s_vendidos&amp;mobileaction=toggle_view_mobile\" class=\"noprint stopMobileRedirectToggle\">Versión para móviles</a></li>\\n</ul>\\n\\n\\t<ul id=\"footer-icons\" class=\"noprint\">\\n\\t<li id=\"footer-copyrightico\"><a href=\"https://wikimediafoundation.org/\" class=\"cdx-button cdx-button--fake-button cdx-button--size-large cdx-button--fake-button--enabled\"><img src=\"/static/images/footer/wikimedia-button.svg\" width=\"84\" height=\"29\" alt=\"Wikimedia Foundation\" lang=\"en\" loading=\"lazy\"></a></li>\\n\\t<li id=\"footer-poweredbyico\"><a href=\"https://www.mediawiki.org/\" class=\"cdx-button cdx-button--fake-button cdx-button--size-large cdx-button--fake-button--enabled\"><picture><source media=\"(min-width: 500px)\" srcset=\"/w/resources/assets/poweredby_mediawiki.svg\" width=\"88\" height=\"31\"><img src=\"/w/resources/assets/mediawiki_compact.svg\" alt=\"Powered by MediaWiki\" width=\"25\" height=\"25\" loading=\"lazy\"></picture></a></li>\\n</ul>\\n\\n</footer>\\n\\n\\t\\t</div>\\n\\t</div> \\n</div> \\n<div class=\"vector-header-container vector-sticky-header-container\">\\n\\t<div id=\"vector-sticky-header\" class=\"vector-sticky-header\">\\n\\t\\t<div class=\"vector-sticky-header-start\">\\n\\t\\t\\t<div class=\"vector-sticky-header-icon-start vector-button-flush-left vector-button-flush-right\" aria-hidden=\"true\">\\n\\t\\t\\t\\t<button class=\"cdx-button cdx-button--weight-quiet cdx-button--icon-only vector-sticky-header-search-toggle\" tabindex=\"-1\" data-event-name=\"ui.vector-sticky-search-form.icon\"><span class=\"vector-icon mw-ui-icon-search mw-ui-icon-wikimedia-search\"></span>\\n\\n<span>Buscar</span>\\n\\t\\t\\t</button>\\n\\t\\t</div>\\n\\t\\t\\t\\n\\t\\t<div role=\"search\" class=\"vector-search-box-vue  vector-search-box-show-thumbnail vector-search-box\">\\n\\t\\t\\t<div class=\"vector-typeahead-search-container\">\\n\\t\\t\\t\\t<div class=\"cdx-typeahead-search cdx-typeahead-search--show-thumbnail\">\\n\\t\\t\\t\\t\\t<form action=\"/w/index.php\" id=\"vector-sticky-search-form\" class=\"cdx-search-input cdx-search-input--has-end-button\">\\n\\t\\t\\t\\t\\t\\t<div  class=\"cdx-search-input__input-wrapper\"  data-search-loc=\"header-moved\">\\n\\t\\t\\t\\t\\t\\t\\t<div class=\"cdx-text-input cdx-text-input--has-start-icon\">\\n\\t\\t\\t\\t\\t\\t\\t\\t<input\\n\\t\\t\\t\\t\\t\\t\\t\\t\\tclass=\"cdx-text-input__input\"\\n\\t\\t\\t\\t\\t\\t\\t\\t\\t\\n\\t\\t\\t\\t\\t\\t\\t\\t\\ttype=\"search\" name=\"search\" placeholder=\"Buscar en Wikipedia\">\\n\\t\\t\\t\\t\\t\\t\\t\\t<span class=\"cdx-text-input__icon cdx-text-input__start-icon\"></span>\\n\\t\\t\\t\\t\\t\\t\\t</div>\\n\\t\\t\\t\\t\\t\\t\\t<input type=\"hidden\" name=\"title\" value=\"Especial:Buscar\">\\n\\t\\t\\t\\t\\t\\t</div>\\n\\t\\t\\t\\t\\t\\t<button class=\"cdx-button cdx-search-input__end-button\">Buscar</button>\\n\\t\\t\\t\\t\\t</form>\\n\\t\\t\\t\\t</div>\\n\\t\\t\\t</div>\\n\\t\\t</div>\\n\\t\\t<div class=\"vector-sticky-header-context-bar\">\\n\\t\\t\\t\\t<nav aria-label=\"Contenidos\" class=\"vector-toc-landmark\">\\n\\t\\t\\t\\t\\t\\t\\n\\t\\t\\t\\t\\t<div id=\"vector-sticky-header-toc\" class=\"vector-dropdown mw-portlet mw-portlet-sticky-header-toc vector-sticky-header-toc vector-button-flush-left\"  >\\n\\t\\t\\t\\t\\t\\t<input type=\"checkbox\" id=\"vector-sticky-header-toc-checkbox\" role=\"button\" aria-haspopup=\"true\" data-event-name=\"ui.dropdown-vector-sticky-header-toc\" class=\"vector-dropdown-checkbox \"  aria-label=\"Cambiar a la tabla de contenidos\"  >\\n\\t\\t\\t\\t\\t\\t<label id=\"vector-sticky-header-toc-label\" for=\"vector-sticky-header-toc-checkbox\" class=\"vector-dropdown-label cdx-button cdx-button--fake-button cdx-button--fake-button--enabled cdx-button--weight-quiet cdx-button--icon-only \" aria-hidden=\"true\"  ><span class=\"vector-icon mw-ui-icon-listBullet mw-ui-icon-wikimedia-listBullet\"></span>\\n\\n<span class=\"vector-dropdown-label-text\">Cambiar a la tabla de contenidos</span>\\n\\t\\t\\t\\t\\t\\t</label>\\n\\t\\t\\t\\t\\t\\t<div class=\"vector-dropdown-content\">\\n\\t\\t\\t\\t\\t\\n\\t\\t\\t\\t\\t\\t<div id=\"vector-sticky-header-toc-unpinned-container\" class=\"vector-unpinned-container\">\\n\\t\\t\\t\\t\\t\\t</div>\\n\\t\\t\\t\\t\\t\\n\\t\\t\\t\\t\\t\\t</div>\\n\\t\\t\\t\\t\\t</div>\\n\\t\\t\\t</nav>\\n\\t\\t\\t\\t<div class=\"vector-sticky-header-context-bar-primary\" aria-hidden=\"true\" ><span class=\"mw-page-title-namespace\">Anexo</span><span class=\"mw-page-title-separator\">:</span><span class=\"mw-page-title-main\">Libros más vendidos</span></div>\\n\\t\\t\\t</div>\\n\\t\\t</div>\\n\\t\\t<div class=\"vector-sticky-header-end\" aria-hidden=\"true\">\\n\\t\\t\\t<div class=\"vector-sticky-header-icons\">\\n\\t\\t\\t\\t<a href=\"#\" class=\"cdx-button cdx-button--fake-button cdx-button--fake-button--enabled cdx-button--weight-quiet cdx-button--icon-only\" id=\"ca-talk-sticky-header\" tabindex=\"-1\" data-event-name=\"talk-sticky-header\"><span class=\"vector-icon mw-ui-icon-speechBubbles mw-ui-icon-wikimedia-speechBubbles\"></span>\\n\\n<span></span>\\n\\t\\t\\t</a>\\n\\t\\t\\t<a href=\"#\" class=\"cdx-button cdx-button--fake-button cdx-button--fake-button--enabled cdx-button--weight-quiet cdx-button--icon-only\" id=\"ca-subject-sticky-header\" tabindex=\"-1\" data-event-name=\"subject-sticky-header\"><span class=\"vector-icon mw-ui-icon-article mw-ui-icon-wikimedia-article\"></span>\\n\\n<span></span>\\n\\t\\t\\t</a>\\n\\t\\t\\t<a href=\"#\" class=\"cdx-button cdx-button--fake-button cdx-button--fake-button--enabled cdx-button--weight-quiet cdx-button--icon-only\" id=\"ca-history-sticky-header\" tabindex=\"-1\" data-event-name=\"history-sticky-header\"><span class=\"vector-icon mw-ui-icon-wikimedia-history mw-ui-icon-wikimedia-wikimedia-history\"></span>\\n\\n<span></span>\\n\\t\\t\\t</a>\\n\\t\\t\\t<a href=\"#\" class=\"cdx-button cdx-button--fake-button cdx-button--fake-button--enabled cdx-button--weight-quiet cdx-button--icon-only mw-watchlink\" id=\"ca-watchstar-sticky-header\" tabindex=\"-1\" data-event-name=\"watch-sticky-header\"><span class=\"vector-icon mw-ui-icon-wikimedia-star mw-ui-icon-wikimedia-wikimedia-star\"></span>\\n\\n<span></span>\\n\\t\\t\\t</a>\\n\\t\\t\\t<a href=\"#\" class=\"cdx-button cdx-button--fake-button cdx-button--fake-button--enabled cdx-button--weight-quiet cdx-button--icon-only\" id=\"ca-edit-sticky-header\" tabindex=\"-1\" data-event-name=\"wikitext-edit-sticky-header\"><span class=\"vector-icon mw-ui-icon-wikimedia-wikiText mw-ui-icon-wikimedia-wikimedia-wikiText\"></span>\\n\\n<span></span>\\n\\t\\t\\t</a>\\n\\t\\t\\t<a href=\"#\" class=\"cdx-button cdx-button--fake-button cdx-button--fake-button--enabled cdx-button--weight-quiet cdx-button--icon-only\" id=\"ca-ve-edit-sticky-header\" tabindex=\"-1\" data-event-name=\"ve-edit-sticky-header\"><span class=\"vector-icon mw-ui-icon-wikimedia-edit mw-ui-icon-wikimedia-wikimedia-edit\"></span>\\n\\n<span></span>\\n\\t\\t\\t</a>\\n\\t\\t\\t<a href=\"#\" class=\"cdx-button cdx-button--fake-button cdx-button--fake-button--enabled cdx-button--weight-quiet cdx-button--icon-only\" id=\"ca-viewsource-sticky-header\" tabindex=\"-1\" data-event-name=\"ve-edit-protected-sticky-header\"><span class=\"vector-icon mw-ui-icon-wikimedia-editLock mw-ui-icon-wikimedia-wikimedia-editLock\"></span>\\n\\n<span></span>\\n\\t\\t\\t</a>\\n\\t\\t</div>\\n\\t\\t\\t<div class=\"vector-sticky-header-buttons\">\\n\\t\\t\\t\\t<button class=\"cdx-button cdx-button--weight-quiet mw-interlanguage-selector\" id=\"p-lang-btn-sticky-header\" tabindex=\"-1\" data-event-name=\"ui.dropdown-p-lang-btn-sticky-header\"><span class=\"vector-icon mw-ui-icon-wikimedia-language mw-ui-icon-wikimedia-wikimedia-language\"></span>\\n\\n<span>22 idiomas</span>\\n\\t\\t\\t</button>\\n\\t\\t\\t<a href=\"#\" class=\"cdx-button cdx-button--fake-button cdx-button--fake-button--enabled cdx-button--weight-quiet cdx-button--action-progressive\" id=\"ca-addsection-sticky-header\" tabindex=\"-1\" data-event-name=\"addsection-sticky-header\"><span class=\"vector-icon mw-ui-icon-speechBubbleAdd-progressive mw-ui-icon-wikimedia-speechBubbleAdd-progressive\"></span>\\n\\n<span>Añadir tema</span>\\n\\t\\t\\t</a>\\n\\t\\t</div>\\n\\t\\t\\t<div class=\"vector-sticky-header-icon-end\">\\n\\t\\t\\t\\t<div class=\"vector-user-links\">\\n\\t\\t\\t\\t</div>\\n\\t\\t\\t</div>\\n\\t\\t</div>\\n\\t</div>\\n</div>\\n<div class=\"vector-settings\" id=\"p-dock-bottom\">\\n\\t<ul></ul>\\n</div><script>(RLQ=window.RLQ||[]).push(function(){mw.config.set({\"wgHostname\":\"mw-web.eqiad.main-749b88f4f8-64ggj\",\"wgBackendResponseTime\":106,\"wgPageParseReport\":{\"limitreport\":{\"cputime\":\"0.294\",\"walltime\":\"0.361\",\"ppvisitednodes\":{\"value\":3377,\"limit\":1000000},\"postexpandincludesize\":{\"value\":64909,\"limit\":2097152},\"templateargumentsize\":{\"value\":176,\"limit\":2097152},\"expansiondepth\":{\"value\":7,\"limit\":100},\"expensivefunctioncount\":{\"value\":0,\"limit\":500},\"unstrip-depth\":{\"value\":0,\"limit\":20},\"unstrip-size\":{\"value\":104336,\"limit\":5000000},\"entityaccesscount\":{\"value\":1,\"limit\":400},\"timingprofile\":[\"100.00%  238.159      1 -total\",\" 55.86%  133.028      2 Plantilla:Listaref\",\" 32.41%   77.181      1 Plantilla:Control_de_autoridades\",\" 21.59%   51.414     34 Plantilla:Cita_web\",\" 14.00%   33.333      1 Plantilla:Cita_publicación\",\"  1.92%    4.562      1 Plantilla:Cita_requerida\",\"  1.18%    2.818      1 Plantilla:Cita_libro\",\"  1.12%    2.669      1 Plantilla:Enlace_roto\",\"  1.08%    2.564      1 Plantilla:Cita_noticia\"]},\"scribunto\":{\"limitreport-timeusage\":{\"value\":\"0.100\",\"limit\":\"10.000\"},\"limitreport-memusage\":{\"value\":2237507,\"limit\":52428800}},\"cachereport\":{\"origin\":\"mw-web.eqiad.main-754756bf9d-65ggm\",\"timestamp\":\"20250218215519\",\"ttl\":2592000,\"transientcontent\":false}}});});</script>\\n</body>\\n</html>'"
      ]
     },
     "execution_count": 7,
     "metadata": {},
     "output_type": "execute_result"
    }
   ],
   "source": [
    "response.text"
   ]
  },
  {
   "cell_type": "code",
   "execution_count": 9,
   "id": "ef0702ea",
   "metadata": {
    "scrolled": true
   },
   "outputs": [
    {
     "name": "stdout",
     "output_type": "stream",
     "text": [
      "Código de estado: 200\n",
      "Cabeceras:\n",
      "date: Thu, 20 Feb 2025 17:24:15 GMT\n",
      "vary: Accept-Encoding,Cookie,Authorization\n",
      "server: ATS/9.2.6\n",
      "x-content-type-options: nosniff\n",
      "content-language: es\n",
      "accept-ch: \n",
      "last-modified: Tue, 18 Feb 2025 21:54:41 GMT\n",
      "content-type: text/html; charset=UTF-8\n",
      "content-encoding: gzip\n",
      "age: 59536\n",
      "x-cache: cp6014 hit, cp6015 hit/6\n",
      "x-cache-status: hit-front\n",
      "server-timing: cache;desc=\"hit-front\", host;desc=\"cp6015\"\n",
      "strict-transport-security: max-age=106384710; includeSubDomains; preload\n",
      "report-to: { \"group\": \"wm_nel\", \"max_age\": 604800, \"endpoints\": [{ \"url\": \"https://intake-logging.wikimedia.org/v1/events?stream=w3c.reportingapi.network_error&schema_uri=/w3c/reportingapi/network_error/1.0.0\" }] }\n",
      "nel: { \"report_to\": \"wm_nel\", \"max_age\": 604800, \"failure_fraction\": 0.05, \"success_fraction\": 0.0}\n",
      "set-cookie: WMF-Last-Access=21-Feb-2025;Path=/;HttpOnly;secure;Expires=Tue, 25 Mar 2025 00:00:00 GMT, WMF-Last-Access-Global=21-Feb-2025;Path=/;Domain=.wikipedia.org;HttpOnly;secure;Expires=Tue, 25 Mar 2025 00:00:00 GMT, GeoIP=ES:MD:Las_Rozas_de_Madrid:40.50:-3.87:v4; Path=/; secure; Domain=.wikipedia.org, NetworkProbeLimit=0.001;Path=/;Secure;SameSite=Lax;Max-Age=3600\n",
      "x-client-ip: 81.33.224.47\n",
      "cache-control: private, s-maxage=0, max-age=0, must-revalidate, no-transform\n",
      "accept-ranges: bytes\n",
      "content-length: 45808\n",
      "\n",
      "HTML (primeros 500 caracteres):\n",
      "<!DOCTYPE html>\n",
      "<html class=\"client-nojs vector-feature-language-in-header-enabled vector-feature-language-in-main-page-header-disabled vector-feature-page-tools-pinned-disabled vector-feature-toc-pinned-clientpref-1 vector-feature-main-menu-pinned-disabled vector-feature-limited-width-clientpref-1 vector-feature-limited-width-content-enabled vector-feature-custom-font-size-clientpref-1 vector-feature-appearance-pinned-clientpref-1 vector-feature-night-mode-enabled skin-theme-clientpref-day vect\n"
     ]
    }
   ],
   "source": [
    "# Mostrar el código de estado\n",
    "print(f\"Código de estado: {response.status_code}\")\n",
    "\n",
    "# Mostrar las cabeceras de la respuesta\n",
    "print(\"Cabeceras:\")\n",
    "for key, value in response.headers.items():\n",
    "    print(f\"{key}: {value}\")\n",
    "\n",
    "# Mostrar los primeros 500 caracteres del HTML\n",
    "print(\"\\nHTML (primeros 500 caracteres):\")\n",
    "print(response.text[:500])\n"
   ]
  },
  {
   "cell_type": "markdown",
   "id": "cd50e5d2",
   "metadata": {},
   "source": [
    "### Extraemos los datos de la página\n",
    "\n",
    "En concreto nos interesa la tabla con los libros más leídos.\n",
    "\n",
    "Para desenmarañara la respuesta de request vamos a usar la librería beautifulsoup, ya importada anteriormente"
   ]
  },
  {
   "cell_type": "code",
   "execution_count": 104,
   "id": "42fd9007",
   "metadata": {},
   "outputs": [
    {
     "data": {
      "text/plain": [
       "2"
      ]
     },
     "execution_count": 104,
     "metadata": {},
     "output_type": "execute_result"
    }
   ],
   "source": [
    "# Parsear el HTML con BeautifulSoup\n",
    "soup = BeautifulSoup(response.text, \"html.parser\")\n",
    "\n",
    "# Encontrar la primera tabla en la página\n",
    "tabla = soup.find(\"table\", {\"class\": \"wikitable\"})\n",
    "# tabla = soup.find(\"table\")\n",
    "len(tabla)\n"
   ]
  },
  {
   "cell_type": "code",
   "execution_count": 35,
   "id": "1014c6d3",
   "metadata": {
    "collapsed": true
   },
   "outputs": [
    {
     "data": {
      "text/plain": [
       "[<tr>\n",
       " <th>Libro</th>\n",
       " <th>Autor</th>\n",
       " <th>Idioma original</th>\n",
       " <th>Primera edición</th>\n",
       " <th>Ventas aproximadas\n",
       " </th></tr>,\n",
       " <tr>\n",
       " <td><i><a href=\"/wiki/Don_Quijote_de_la_Mancha\" title=\"Don Quijote de la Mancha\">Don Quijote</a></i></td>\n",
       " <td><a href=\"/wiki/Miguel_de_Cervantes\" title=\"Miguel de Cervantes\">Miguel de Cervantes</a></td>\n",
       " <td><a href=\"/wiki/Idioma_espa%C3%B1ol\" title=\"Idioma español\">Español</a></td>\n",
       " <td>1605</td>\n",
       " <td>Más de 500 millones\n",
       " </td></tr>,\n",
       " <tr>\n",
       " <td><i><a href=\"/wiki/Historia_de_dos_ciudades_(novela)\" title=\"Historia de dos ciudades (novela)\">Historia de dos ciudades</a></i> (<i>A Tale of Two Cities</i>)</td>\n",
       " <td><a href=\"/wiki/Charles_Dickens\" title=\"Charles Dickens\">Charles Dickens</a></td>\n",
       " <td><a href=\"/wiki/Idioma_ingl%C3%A9s\" title=\"Idioma inglés\">Inglés</a></td>\n",
       " <td>1859</td>\n",
       " <td>Más de 200 millones<sup class=\"reference separada\" id=\"cite_ref-3\"><a href=\"#cite_note-3\"><span class=\"corchete-llamada\">[</span>3<span class=\"corchete-llamada\">]</span></a></sup>​\n",
       " </td></tr>,\n",
       " <tr>\n",
       " <td><i><a href=\"/wiki/El_Se%C3%B1or_de_los_Anillos\" title=\"El Señor de los Anillos\">El Señor de los Anillos</a></i> (<i>The Lord of the Rings</i>)</td>\n",
       " <td><a href=\"/wiki/J._R._R._Tolkien\" title=\"J. R. R. Tolkien\">J. R. R. Tolkien</a></td>\n",
       " <td>Inglés</td>\n",
       " <td>1954</td>\n",
       " <td>150 millones<sup class=\"reference separada\" id=\"cite_ref-4\"><a href=\"#cite_note-4\"><span class=\"corchete-llamada\">[</span>4<span class=\"corchete-llamada\">]</span></a></sup>​<sup class=\"reference separada\" id=\"cite_ref-5\"><a href=\"#cite_note-5\"><span class=\"corchete-llamada\">[</span>5<span class=\"corchete-llamada\">]</span></a></sup>​\n",
       " </td></tr>,\n",
       " <tr>\n",
       " <td><i><a href=\"/wiki/Harry_Potter_y_la_piedra_filosofal\" title=\"Harry Potter y la piedra filosofal\">Harry Potter y la piedra filosofal</a> (Harry Potter and the Philosopher's Stone)</i></td>\n",
       " <td><a class=\"mw-redirect\" href=\"/wiki/J.K._Rowling\" title=\"J.K. Rowling\">J.K. Rowling</a></td>\n",
       " <td><a class=\"mw-redirect\" href=\"/wiki/Idioma_Ingl%C3%A9s\" title=\"Idioma Inglés\">Inglés</a></td>\n",
       " <td>1997</td>\n",
       " <td>140 millones<sup class=\"reference separada\" id=\"cite_ref-6\"><a href=\"#cite_note-6\"><span class=\"corchete-llamada\">[</span>6<span class=\"corchete-llamada\">]</span></a></sup>​\n",
       " </td></tr>,\n",
       " <tr>\n",
       " <td><i><a href=\"/wiki/El_principito\" title=\"El principito\">El principito</a></i> (<i>Le Petit Prince</i>)</td>\n",
       " <td><a href=\"/wiki/Antoine_de_Saint-Exup%C3%A9ry\" title=\"Antoine de Saint-Exupéry\">Antoine de Saint-Exupéry</a></td>\n",
       " <td><a href=\"/wiki/Idioma_franc%C3%A9s\" title=\"Idioma francés\">Francés</a></td>\n",
       " <td>1943</td>\n",
       " <td>140 millones<sup class=\"reference separada\" id=\"cite_ref-7\"><a href=\"#cite_note-7\"><span class=\"corchete-llamada\">[</span>7<span class=\"corchete-llamada\">]</span></a></sup>​\n",
       " </td></tr>,\n",
       " <tr>\n",
       " <td><i><a href=\"/wiki/El_hobbit\" title=\"El hobbit\">El hobbit</a></i> (<i>The Hobbit</i>)</td>\n",
       " <td><a href=\"/wiki/J._R._R._Tolkien\" title=\"J. R. R. Tolkien\">J. R. R. Tolkien</a></td>\n",
       " <td>Inglés</td>\n",
       " <td>1937</td>\n",
       " <td>Más de 100 millones<sup class=\"reference separada\" id=\"cite_ref-8\"><a href=\"#cite_note-8\"><span class=\"corchete-llamada\">[</span>8<span class=\"corchete-llamada\">]</span></a></sup>​\n",
       " </td></tr>,\n",
       " <tr>\n",
       " <td><i><a href=\"/wiki/Sue%C3%B1o_en_el_pabell%C3%B3n_rojo\" title=\"Sueño en el pabellón rojo\">Sueño en el pabellón rojo</a></i> (红楼梦, <i>Hóng lóu mèng</i>)</td>\n",
       " <td><a href=\"/wiki/Cao_Xueqin\" title=\"Cao Xueqin\">Cao Xueqin</a></td>\n",
       " <td><a href=\"/wiki/Idioma_chino\" title=\"Idioma chino\">Chino</a></td>\n",
       " <td>1759–1791</td>\n",
       " <td>Más de 100 millones<sup class=\"reference separada\" id=\"cite_ref-9\"><a href=\"#cite_note-9\"><span class=\"corchete-llamada\">[</span>9<span class=\"corchete-llamada\">]</span></a></sup>​\n",
       " </td></tr>,\n",
       " <tr>\n",
       " <td><i><a href=\"/wiki/Triple_representatividad\" title=\"Triple representatividad\">Triple representatividad</a></i> (论三个代表, <i>Sānge dàibiǎo</i>)</td>\n",
       " <td><a href=\"/wiki/Jiang_Zemin\" title=\"Jiang Zemin\">Jiang Zemin</a></td>\n",
       " <td>Chino</td>\n",
       " <td>2001</td>\n",
       " <td>100 millones<sup class=\"reference separada\" id=\"cite_ref-chinascope_10-0\"><a href=\"#cite_note-chinascope-10\"><span class=\"corchete-llamada\">[</span>10<span class=\"corchete-llamada\">]</span></a></sup>​<sup class=\"reference separada\" id=\"cite_ref-11\"><a href=\"#cite_note-11\"><span class=\"corchete-llamada\">[</span>Nota 1<span class=\"corchete-llamada\">]</span></a></sup>​\n",
       " </td></tr>,\n",
       " <tr>\n",
       " <td><i><a href=\"/wiki/Diez_negritos\" title=\"Diez negritos\">Diez negritos</a></i></td>\n",
       " <td><a href=\"/wiki/Agatha_Christie\" title=\"Agatha Christie\">Agatha Christie</a></td>\n",
       " <td>Inglés</td>\n",
       " <td>1939</td>\n",
       " <td>100 millones<sup class=\"reference separada\" id=\"cite_ref-12\"><a href=\"#cite_note-12\"><span class=\"corchete-llamada\">[</span>11<span class=\"corchete-llamada\">]</span></a></sup>​\n",
       " </td></tr>,\n",
       " <tr>\n",
       " <td><i><a href=\"/wiki/Las_aventuras_de_Alicia_en_el_pa%C3%ADs_de_las_maravillas\" title=\"Las aventuras de Alicia en el país de las maravillas\">Las aventuras de Alicia en el país de las maravillas</a></i></td>\n",
       " <td><a href=\"/wiki/Lewis_Carroll\" title=\"Lewis Carroll\">Lewis Carroll</a></td>\n",
       " <td>Inglés</td>\n",
       " <td>1865</td>\n",
       " <td>Más de 100 millones<sup class=\"reference separada\" id=\"cite_ref-13\"><a href=\"#cite_note-13\"><span class=\"corchete-llamada\">[</span>12<span class=\"corchete-llamada\">]</span></a></sup>​\n",
       " </td></tr>]"
      ]
     },
     "execution_count": 35,
     "metadata": {},
     "output_type": "execute_result"
    }
   ],
   "source": [
    "# Extraer las filas de la tabla\n",
    "filas = tabla.find_all(\"tr\")\n",
    "filas"
   ]
  },
  {
   "cell_type": "code",
   "execution_count": 37,
   "id": "79e43adb",
   "metadata": {},
   "outputs": [
    {
     "data": {
      "text/html": [
       "<div>\n",
       "<style scoped>\n",
       "    .dataframe tbody tr th:only-of-type {\n",
       "        vertical-align: middle;\n",
       "    }\n",
       "\n",
       "    .dataframe tbody tr th {\n",
       "        vertical-align: top;\n",
       "    }\n",
       "\n",
       "    .dataframe thead th {\n",
       "        text-align: right;\n",
       "    }\n",
       "</style>\n",
       "<table border=\"1\" class=\"dataframe\">\n",
       "  <thead>\n",
       "    <tr style=\"text-align: right;\">\n",
       "      <th></th>\n",
       "      <th>0</th>\n",
       "      <th>1</th>\n",
       "      <th>2</th>\n",
       "      <th>3</th>\n",
       "      <th>4</th>\n",
       "    </tr>\n",
       "  </thead>\n",
       "  <tbody>\n",
       "    <tr>\n",
       "      <th>0</th>\n",
       "      <td>Don Quijote</td>\n",
       "      <td>Miguel de Cervantes</td>\n",
       "      <td>Español</td>\n",
       "      <td>1605</td>\n",
       "      <td>Más de 500 millones</td>\n",
       "    </tr>\n",
       "    <tr>\n",
       "      <th>1</th>\n",
       "      <td>Historia de dos ciudades (A Tale of Two Cities)</td>\n",
       "      <td>Charles Dickens</td>\n",
       "      <td>Inglés</td>\n",
       "      <td>1859</td>\n",
       "      <td>Más de 200 millones[3]​</td>\n",
       "    </tr>\n",
       "    <tr>\n",
       "      <th>2</th>\n",
       "      <td>El Señor de los Anillos (The Lord of the Rings)</td>\n",
       "      <td>J. R. R. Tolkien</td>\n",
       "      <td>Inglés</td>\n",
       "      <td>1954</td>\n",
       "      <td>150 millones[4]​[5]​</td>\n",
       "    </tr>\n",
       "    <tr>\n",
       "      <th>3</th>\n",
       "      <td>Harry Potter y la piedra filosofal (Harry Pott...</td>\n",
       "      <td>J.K. Rowling</td>\n",
       "      <td>Inglés</td>\n",
       "      <td>1997</td>\n",
       "      <td>140 millones[6]​</td>\n",
       "    </tr>\n",
       "    <tr>\n",
       "      <th>4</th>\n",
       "      <td>El principito (Le Petit Prince)</td>\n",
       "      <td>Antoine de Saint-Exupéry</td>\n",
       "      <td>Francés</td>\n",
       "      <td>1943</td>\n",
       "      <td>140 millones[7]​</td>\n",
       "    </tr>\n",
       "  </tbody>\n",
       "</table>\n",
       "</div>"
      ],
      "text/plain": [
       "                                                   0  \\\n",
       "0                                        Don Quijote   \n",
       "1    Historia de dos ciudades (A Tale of Two Cities)   \n",
       "2    El Señor de los Anillos (The Lord of the Rings)   \n",
       "3  Harry Potter y la piedra filosofal (Harry Pott...   \n",
       "4                    El principito (Le Petit Prince)   \n",
       "\n",
       "                          1        2     3                        4  \n",
       "0       Miguel de Cervantes  Español  1605      Más de 500 millones  \n",
       "1           Charles Dickens   Inglés  1859  Más de 200 millones[3]​  \n",
       "2          J. R. R. Tolkien   Inglés  1954     150 millones[4]​[5]​  \n",
       "3              J.K. Rowling   Inglés  1997         140 millones[6]​  \n",
       "4  Antoine de Saint-Exupéry  Francés  1943         140 millones[7]​  "
      ]
     },
     "execution_count": 37,
     "metadata": {},
     "output_type": "execute_result"
    }
   ],
   "source": [
    "# Lista para guardar los datos\n",
    "data = []\n",
    "\n",
    "# Iterar sobre las filas (omitir la primera si son encabezados)\n",
    "for fila in filas[1:]:  \n",
    "    columnas = fila.find_all(\"td\")  \n",
    "    if columnas:  \n",
    "        # Extraer los valores de las columnas y limpiar texto\n",
    "        datos_fila = [columna.text.strip() for columna in columnas]\n",
    "        data.append(datos_fila)\n",
    "\n",
    "# Convertir a DataFrame\n",
    "# columnas = [\"Libro\", \"Autor\", \"Ventas estimadas\", \"Idioma original\", \"Año de publicación\"]\n",
    "df = pd.DataFrame(data)\n",
    "\n",
    "# Mostrar la tabla\n",
    "df.head()\n"
   ]
  },
  {
   "cell_type": "markdown",
   "id": "734ac7eb",
   "metadata": {},
   "source": [
    "### Extraer los encabezados originales"
   ]
  },
  {
   "cell_type": "code",
   "execution_count": 50,
   "id": "b06a0102",
   "metadata": {},
   "outputs": [
    {
     "data": {
      "text/plain": [
       "['Libro', 'Autor', 'Idioma original', 'Primera edición', 'Ventas aproximadas']"
      ]
     },
     "execution_count": 50,
     "metadata": {},
     "output_type": "execute_result"
    }
   ],
   "source": [
    "encabezados = [th.text.strip() for th in tabla.find_all(\"th\")]\n",
    "encabezados"
   ]
  },
  {
   "cell_type": "code",
   "execution_count": 51,
   "id": "cedafa40",
   "metadata": {},
   "outputs": [
    {
     "data": {
      "text/html": [
       "<div>\n",
       "<style scoped>\n",
       "    .dataframe tbody tr th:only-of-type {\n",
       "        vertical-align: middle;\n",
       "    }\n",
       "\n",
       "    .dataframe tbody tr th {\n",
       "        vertical-align: top;\n",
       "    }\n",
       "\n",
       "    .dataframe thead th {\n",
       "        text-align: right;\n",
       "    }\n",
       "</style>\n",
       "<table border=\"1\" class=\"dataframe\">\n",
       "  <thead>\n",
       "    <tr style=\"text-align: right;\">\n",
       "      <th></th>\n",
       "      <th>Libro</th>\n",
       "      <th>Autor</th>\n",
       "      <th>Idioma original</th>\n",
       "      <th>Primera edición</th>\n",
       "      <th>Ventas aproximadas</th>\n",
       "    </tr>\n",
       "  </thead>\n",
       "  <tbody>\n",
       "    <tr>\n",
       "      <th>0</th>\n",
       "      <td>Don Quijote</td>\n",
       "      <td>Miguel de Cervantes</td>\n",
       "      <td>Español</td>\n",
       "      <td>1605</td>\n",
       "      <td>Más de 500 millones</td>\n",
       "    </tr>\n",
       "    <tr>\n",
       "      <th>1</th>\n",
       "      <td>Historia de dos ciudades (A Tale of Two Cities)</td>\n",
       "      <td>Charles Dickens</td>\n",
       "      <td>Inglés</td>\n",
       "      <td>1859</td>\n",
       "      <td>Más de 200 millones[3]​</td>\n",
       "    </tr>\n",
       "    <tr>\n",
       "      <th>2</th>\n",
       "      <td>El Señor de los Anillos (The Lord of the Rings)</td>\n",
       "      <td>J. R. R. Tolkien</td>\n",
       "      <td>Inglés</td>\n",
       "      <td>1954</td>\n",
       "      <td>150 millones[4]​[5]​</td>\n",
       "    </tr>\n",
       "    <tr>\n",
       "      <th>3</th>\n",
       "      <td>Harry Potter y la piedra filosofal (Harry Pott...</td>\n",
       "      <td>J.K. Rowling</td>\n",
       "      <td>Inglés</td>\n",
       "      <td>1997</td>\n",
       "      <td>140 millones[6]​</td>\n",
       "    </tr>\n",
       "    <tr>\n",
       "      <th>4</th>\n",
       "      <td>El principito (Le Petit Prince)</td>\n",
       "      <td>Antoine de Saint-Exupéry</td>\n",
       "      <td>Francés</td>\n",
       "      <td>1943</td>\n",
       "      <td>140 millones[7]​</td>\n",
       "    </tr>\n",
       "    <tr>\n",
       "      <th>5</th>\n",
       "      <td>El hobbit (The Hobbit)</td>\n",
       "      <td>J. R. R. Tolkien</td>\n",
       "      <td>Inglés</td>\n",
       "      <td>1937</td>\n",
       "      <td>Más de 100 millones[8]​</td>\n",
       "    </tr>\n",
       "    <tr>\n",
       "      <th>6</th>\n",
       "      <td>Sueño en el pabellón rojo (红楼梦, Hóng lóu mèng)</td>\n",
       "      <td>Cao Xueqin</td>\n",
       "      <td>Chino</td>\n",
       "      <td>1759–1791</td>\n",
       "      <td>Más de 100 millones[9]​</td>\n",
       "    </tr>\n",
       "    <tr>\n",
       "      <th>7</th>\n",
       "      <td>Triple representatividad (论三个代表, Sānge dàibiǎo)</td>\n",
       "      <td>Jiang Zemin</td>\n",
       "      <td>Chino</td>\n",
       "      <td>2001</td>\n",
       "      <td>100 millones[10]​[Nota 1]​</td>\n",
       "    </tr>\n",
       "    <tr>\n",
       "      <th>8</th>\n",
       "      <td>Diez negritos</td>\n",
       "      <td>Agatha Christie</td>\n",
       "      <td>Inglés</td>\n",
       "      <td>1939</td>\n",
       "      <td>100 millones[11]​</td>\n",
       "    </tr>\n",
       "    <tr>\n",
       "      <th>9</th>\n",
       "      <td>Las aventuras de Alicia en el país de las mara...</td>\n",
       "      <td>Lewis Carroll</td>\n",
       "      <td>Inglés</td>\n",
       "      <td>1865</td>\n",
       "      <td>Más de 100 millones[12]​</td>\n",
       "    </tr>\n",
       "  </tbody>\n",
       "</table>\n",
       "</div>"
      ],
      "text/plain": [
       "                                               Libro  \\\n",
       "0                                        Don Quijote   \n",
       "1    Historia de dos ciudades (A Tale of Two Cities)   \n",
       "2    El Señor de los Anillos (The Lord of the Rings)   \n",
       "3  Harry Potter y la piedra filosofal (Harry Pott...   \n",
       "4                    El principito (Le Petit Prince)   \n",
       "5                             El hobbit (The Hobbit)   \n",
       "6     Sueño en el pabellón rojo (红楼梦, Hóng lóu mèng)   \n",
       "7    Triple representatividad (论三个代表, Sānge dàibiǎo)   \n",
       "8                                      Diez negritos   \n",
       "9  Las aventuras de Alicia en el país de las mara...   \n",
       "\n",
       "                      Autor Idioma original Primera edición  \\\n",
       "0       Miguel de Cervantes         Español            1605   \n",
       "1           Charles Dickens          Inglés            1859   \n",
       "2          J. R. R. Tolkien          Inglés            1954   \n",
       "3              J.K. Rowling          Inglés            1997   \n",
       "4  Antoine de Saint-Exupéry         Francés            1943   \n",
       "5          J. R. R. Tolkien          Inglés            1937   \n",
       "6                Cao Xueqin           Chino       1759–1791   \n",
       "7               Jiang Zemin           Chino            2001   \n",
       "8           Agatha Christie          Inglés            1939   \n",
       "9             Lewis Carroll          Inglés            1865   \n",
       "\n",
       "           Ventas aproximadas  \n",
       "0         Más de 500 millones  \n",
       "1     Más de 200 millones[3]​  \n",
       "2        150 millones[4]​[5]​  \n",
       "3            140 millones[6]​  \n",
       "4            140 millones[7]​  \n",
       "5     Más de 100 millones[8]​  \n",
       "6     Más de 100 millones[9]​  \n",
       "7  100 millones[10]​[Nota 1]​  \n",
       "8           100 millones[11]​  \n",
       "9    Más de 100 millones[12]​  "
      ]
     },
     "execution_count": 51,
     "metadata": {},
     "output_type": "execute_result"
    }
   ],
   "source": [
    "df.columns = encabezados\n",
    "df"
   ]
  },
  {
   "cell_type": "markdown",
   "id": "8a014902",
   "metadata": {},
   "source": [
    "###  Diferencia entre `<tr>` ,`<th>` y `<td>`\n",
    "\n",
    "Estos símbolos hacen referencia a table row, table header y table data\n",
    "\n",
    "| Etiqueta | ¿Qué representa? | Ejemplo en una tabla |\n",
    "|----------|----------------|----------------------|\n",
    "| `<tr>`   | **Una fila completa** de la tabla | `<tr> ... </tr>` |\n",
    "| `<th>`   | **Celda de encabezado** (títulos) | `<th>Libro</th>` |\n",
    "| `<td>`   | **Una celda dentro de la fila** | `<td>Don Quijote</td>` |\n",
    "\n"
   ]
  },
  {
   "cell_type": "markdown",
   "id": "ad42bf5d",
   "metadata": {},
   "source": [
    "### Extraemos el resto de las tablas\n",
    "\n",
    "Como vemos en la web desde el explorador hay más de una tabla, vamos a extraerlas todas.\n",
    "\n",
    "Si buscamos usando `find_all` en vez de `find`, nos encuentra todas las tablas, no solo la primera. Vemos que hay 6 en total."
   ]
  },
  {
   "cell_type": "code",
   "execution_count": 114,
   "id": "8261bae0",
   "metadata": {},
   "outputs": [
    {
     "data": {
      "text/plain": [
       "6"
      ]
     },
     "execution_count": 114,
     "metadata": {},
     "output_type": "execute_result"
    }
   ],
   "source": [
    "tabla_all = soup.find_all(\"table\")\n",
    "len(tabla_all)"
   ]
  },
  {
   "cell_type": "code",
   "execution_count": 128,
   "id": "576fded1",
   "metadata": {},
   "outputs": [],
   "source": [
    "# Encontrar todas las tablas\n",
    "tablas = soup.find_all(\"table\", {\"class\": \"wikitable\"})\n",
    "\n",
    "# Lista para almacenar los DataFrames\n",
    "dataframes = {}\n",
    "\n",
    "# Iterar sobre cada tabla y convertirla en un DataFrame\n",
    "for i, tabla in enumerate(tablas):\n",
    "    # Obtener encabezados\n",
    "    headers = [th.text.strip() for th in tabla.find_all(\"th\")]\n",
    "    \n",
    "    # Obtener filas de la tabla\n",
    "    filas = []\n",
    "    for fila in tabla.find_all(\"tr\")[1:]:  # Omitimos la primera fila si son encabezados\n",
    "        columnas = fila.find_all(\"td\")\n",
    "        datos_fila = [columna.text.strip() for columna in columnas]\n",
    "        if datos_fila:  # Evitar filas vacías\n",
    "            filas.append(datos_fila)\n",
    "    \n",
    "    # Crear DataFrame\n",
    "    df = pd.DataFrame(filas, columns=headers if headers else None)\n",
    "    \n",
    "    # Guardar en el diccionario\n",
    "    dataframes[f\"tabla_{i+1}\"] = df\n",
    "\n"
   ]
  },
  {
   "cell_type": "code",
   "execution_count": 134,
   "id": "5f8748f8",
   "metadata": {
    "scrolled": true
   },
   "outputs": [
    {
     "data": {
      "text/html": [
       "<div>\n",
       "<style scoped>\n",
       "    .dataframe tbody tr th:only-of-type {\n",
       "        vertical-align: middle;\n",
       "    }\n",
       "\n",
       "    .dataframe tbody tr th {\n",
       "        vertical-align: top;\n",
       "    }\n",
       "\n",
       "    .dataframe thead th {\n",
       "        text-align: right;\n",
       "    }\n",
       "</style>\n",
       "<table border=\"1\" class=\"dataframe\">\n",
       "  <thead>\n",
       "    <tr style=\"text-align: right;\">\n",
       "      <th></th>\n",
       "      <th>Libro</th>\n",
       "      <th>Autor</th>\n",
       "      <th>Idioma original</th>\n",
       "      <th>Primera edición</th>\n",
       "      <th>Ventas aproximadas</th>\n",
       "    </tr>\n",
       "  </thead>\n",
       "  <tbody>\n",
       "    <tr>\n",
       "      <th>0</th>\n",
       "      <td>Don Quijote</td>\n",
       "      <td>Miguel de Cervantes</td>\n",
       "      <td>Español</td>\n",
       "      <td>1605</td>\n",
       "      <td>Más de 500 millones</td>\n",
       "    </tr>\n",
       "    <tr>\n",
       "      <th>1</th>\n",
       "      <td>Historia de dos ciudades (A Tale of Two Cities)</td>\n",
       "      <td>Charles Dickens</td>\n",
       "      <td>Inglés</td>\n",
       "      <td>1859</td>\n",
       "      <td>Más de 200 millones[3]​</td>\n",
       "    </tr>\n",
       "    <tr>\n",
       "      <th>2</th>\n",
       "      <td>El Señor de los Anillos (The Lord of the Rings)</td>\n",
       "      <td>J. R. R. Tolkien</td>\n",
       "      <td>Inglés</td>\n",
       "      <td>1954</td>\n",
       "      <td>150 millones[4]​[5]​</td>\n",
       "    </tr>\n",
       "    <tr>\n",
       "      <th>3</th>\n",
       "      <td>Harry Potter y la piedra filosofal (Harry Pott...</td>\n",
       "      <td>J.K. Rowling</td>\n",
       "      <td>Inglés</td>\n",
       "      <td>1997</td>\n",
       "      <td>140 millones[6]​</td>\n",
       "    </tr>\n",
       "    <tr>\n",
       "      <th>4</th>\n",
       "      <td>El principito (Le Petit Prince)</td>\n",
       "      <td>Antoine de Saint-Exupéry</td>\n",
       "      <td>Francés</td>\n",
       "      <td>1943</td>\n",
       "      <td>140 millones[7]​</td>\n",
       "    </tr>\n",
       "  </tbody>\n",
       "</table>\n",
       "</div>"
      ],
      "text/plain": [
       "                                               Libro  \\\n",
       "0                                        Don Quijote   \n",
       "1    Historia de dos ciudades (A Tale of Two Cities)   \n",
       "2    El Señor de los Anillos (The Lord of the Rings)   \n",
       "3  Harry Potter y la piedra filosofal (Harry Pott...   \n",
       "4                    El principito (Le Petit Prince)   \n",
       "\n",
       "                      Autor Idioma original Primera edición  \\\n",
       "0       Miguel de Cervantes         Español            1605   \n",
       "1           Charles Dickens          Inglés            1859   \n",
       "2          J. R. R. Tolkien          Inglés            1954   \n",
       "3              J.K. Rowling          Inglés            1997   \n",
       "4  Antoine de Saint-Exupéry         Francés            1943   \n",
       "\n",
       "        Ventas aproximadas  \n",
       "0      Más de 500 millones  \n",
       "1  Más de 200 millones[3]​  \n",
       "2     150 millones[4]​[5]​  \n",
       "3         140 millones[6]​  \n",
       "4         140 millones[7]​  "
      ]
     },
     "execution_count": 134,
     "metadata": {},
     "output_type": "execute_result"
    }
   ],
   "source": [
    "dataframes['tabla_1'].head()"
   ]
  },
  {
   "cell_type": "code",
   "execution_count": 135,
   "id": "48371e8c",
   "metadata": {},
   "outputs": [
    {
     "data": {
      "text/html": [
       "<div>\n",
       "<style scoped>\n",
       "    .dataframe tbody tr th:only-of-type {\n",
       "        vertical-align: middle;\n",
       "    }\n",
       "\n",
       "    .dataframe tbody tr th {\n",
       "        vertical-align: top;\n",
       "    }\n",
       "\n",
       "    .dataframe thead th {\n",
       "        text-align: right;\n",
       "    }\n",
       "</style>\n",
       "<table border=\"1\" class=\"dataframe\">\n",
       "  <thead>\n",
       "    <tr style=\"text-align: right;\">\n",
       "      <th></th>\n",
       "      <th>Libro</th>\n",
       "      <th>Autor</th>\n",
       "      <th>Idioma original</th>\n",
       "      <th>Primera edición</th>\n",
       "      <th>Ventas aproximadas</th>\n",
       "    </tr>\n",
       "  </thead>\n",
       "  <tbody>\n",
       "    <tr>\n",
       "      <th>0</th>\n",
       "      <td>El león, la bruja y el armario o El león, la b...</td>\n",
       "      <td>C. S. Lewis</td>\n",
       "      <td>Inglés</td>\n",
       "      <td>1950</td>\n",
       "      <td>85 millones[13]​</td>\n",
       "    </tr>\n",
       "    <tr>\n",
       "      <th>1</th>\n",
       "      <td>Ella (She)</td>\n",
       "      <td>Henry Rider Haggard</td>\n",
       "      <td>Inglés</td>\n",
       "      <td>1887</td>\n",
       "      <td>83 millones[14]​</td>\n",
       "    </tr>\n",
       "    <tr>\n",
       "      <th>2</th>\n",
       "      <td>El código Da Vinci (The Da Vinci Code)</td>\n",
       "      <td>Dan Brown</td>\n",
       "      <td>Inglés</td>\n",
       "      <td>2003</td>\n",
       "      <td>80 millones[15]​</td>\n",
       "    </tr>\n",
       "    <tr>\n",
       "      <th>3</th>\n",
       "      <td>Harry Potter y la cámara secreta (Harry Potter...</td>\n",
       "      <td>J.K. Rowling</td>\n",
       "      <td>Inglés</td>\n",
       "      <td>1998</td>\n",
       "      <td>77 millones[16]​</td>\n",
       "    </tr>\n",
       "    <tr>\n",
       "      <th>4</th>\n",
       "      <td>Harry Potter y el prisionero de Azkaban (Harry...</td>\n",
       "      <td>J.K. Rowling</td>\n",
       "      <td>Inglés</td>\n",
       "      <td>1999</td>\n",
       "      <td>65 millones[16]​</td>\n",
       "    </tr>\n",
       "  </tbody>\n",
       "</table>\n",
       "</div>"
      ],
      "text/plain": [
       "                                               Libro                Autor  \\\n",
       "0  El león, la bruja y el armario o El león, la b...          C. S. Lewis   \n",
       "1                                         Ella (She)  Henry Rider Haggard   \n",
       "2             El código Da Vinci (The Da Vinci Code)            Dan Brown   \n",
       "3  Harry Potter y la cámara secreta (Harry Potter...         J.K. Rowling   \n",
       "4  Harry Potter y el prisionero de Azkaban (Harry...         J.K. Rowling   \n",
       "\n",
       "  Idioma original Primera edición Ventas aproximadas  \n",
       "0          Inglés            1950   85 millones[13]​  \n",
       "1          Inglés            1887   83 millones[14]​  \n",
       "2          Inglés            2003   80 millones[15]​  \n",
       "3          Inglés            1998   77 millones[16]​  \n",
       "4          Inglés            1999   65 millones[16]​  "
      ]
     },
     "execution_count": 135,
     "metadata": {},
     "output_type": "execute_result"
    }
   ],
   "source": [
    "dataframes['tabla_2'].head()"
   ]
  },
  {
   "cell_type": "code",
   "execution_count": 143,
   "id": "015e4bb7",
   "metadata": {
    "collapsed": true
   },
   "outputs": [
    {
     "ename": "AttributeError",
     "evalue": "ResultSet object has no attribute 'find_previous_siblings'. You're probably treating a list of elements like a single element. Did you call find_all() when you meant to call find()?",
     "output_type": "error",
     "traceback": [
      "\u001b[1;31m---------------------------------------------------------------------------\u001b[0m",
      "\u001b[1;31mAttributeError\u001b[0m                            Traceback (most recent call last)",
      "Input \u001b[1;32mIn [143]\u001b[0m, in \u001b[0;36m<cell line: 5>\u001b[1;34m()\u001b[0m\n\u001b[0;32m      3\u001b[0m \u001b[38;5;66;03m# Extraer todos los párrafos antes de la primera sección\u001b[39;00m\n\u001b[0;32m      4\u001b[0m texto_inicio \u001b[38;5;241m=\u001b[39m []\n\u001b[1;32m----> 5\u001b[0m \u001b[38;5;28;01mfor\u001b[39;00m p \u001b[38;5;129;01min\u001b[39;00m \u001b[43mprimer_titulo\u001b[49m\u001b[38;5;241;43m.\u001b[39;49m\u001b[43mfind_previous_siblings\u001b[49m():\n\u001b[0;32m      6\u001b[0m     \u001b[38;5;28;01mif\u001b[39;00m p\u001b[38;5;241m.\u001b[39mname \u001b[38;5;241m==\u001b[39m \u001b[38;5;124m\"\u001b[39m\u001b[38;5;124mp\u001b[39m\u001b[38;5;124m\"\u001b[39m:  \u001b[38;5;66;03m# Solo tomamos párrafos de texto\u001b[39;00m\n\u001b[0;32m      7\u001b[0m         texto_inicio\u001b[38;5;241m.\u001b[39mappend(p\u001b[38;5;241m.\u001b[39mget_text())\n",
      "File \u001b[1;32m~\\anaconda3\\lib\\site-packages\\bs4\\element.py:2289\u001b[0m, in \u001b[0;36mResultSet.__getattr__\u001b[1;34m(self, key)\u001b[0m\n\u001b[0;32m   2287\u001b[0m \u001b[38;5;28;01mdef\u001b[39;00m \u001b[38;5;21m__getattr__\u001b[39m(\u001b[38;5;28mself\u001b[39m, key):\n\u001b[0;32m   2288\u001b[0m     \u001b[38;5;124;03m\"\"\"Raise a helpful exception to explain a common code fix.\"\"\"\u001b[39;00m\n\u001b[1;32m-> 2289\u001b[0m     \u001b[38;5;28;01mraise\u001b[39;00m \u001b[38;5;167;01mAttributeError\u001b[39;00m(\n\u001b[0;32m   2290\u001b[0m         \u001b[38;5;124m\"\u001b[39m\u001b[38;5;124mResultSet object has no attribute \u001b[39m\u001b[38;5;124m'\u001b[39m\u001b[38;5;132;01m%s\u001b[39;00m\u001b[38;5;124m'\u001b[39m\u001b[38;5;124m. You\u001b[39m\u001b[38;5;124m'\u001b[39m\u001b[38;5;124mre probably treating a list of elements like a single element. Did you call find_all() when you meant to call find()?\u001b[39m\u001b[38;5;124m\"\u001b[39m \u001b[38;5;241m%\u001b[39m key\n\u001b[0;32m   2291\u001b[0m     )\n",
      "\u001b[1;31mAttributeError\u001b[0m: ResultSet object has no attribute 'find_previous_siblings'. You're probably treating a list of elements like a single element. Did you call find_all() when you meant to call find()?"
     ]
    }
   ],
   "source": [
    "primer_titulo = soup.find_all(\"p\")\n",
    "\n",
    "# Extraer todos los párrafos antes de la primera sección\n",
    "texto_inicio = []\n",
    "for p in primer_titulo.find_previous_siblings():\n",
    "    if p.name == \"p\":  # Solo tomamos párrafos de texto\n",
    "        texto_inicio.append(p.get_text())\n",
    "\n",
    "# Invertir el orden para mantener el flujo correcto\n",
    "texto_inicio = \"\\n\".join(texto_inicio[::-1])\n",
    "\n",
    "# Mostrar el texto extraído\n",
    "print(texto_inicio)"
   ]
  },
  {
   "cell_type": "markdown",
   "id": "5d79e05e",
   "metadata": {},
   "source": [
    "### Otros objetos que podemos extraer de una página HTML"
   ]
  },
  {
   "cell_type": "markdown",
   "id": "05bc5554",
   "metadata": {},
   "source": [
    "| **Etiqueta**  | **Descripción** | **Ejemplo** |\n",
    "|--------------|---------------|------------|\n",
    "| `<html>`  | Contenedor principal de una página web | `<html>...</html>` |\n",
    "| `<head>`  | Contiene metadatos y enlaces a estilos o scripts | `<head>...</head>` |\n",
    "| `<title>` | Define el título de la página (aparece en la pestaña del navegador) | `<title>Mi Página</title>` |\n",
    "| `<body>`  | Contiene el contenido visible de la página | `<body>...</body>` |\n",
    "| `<h1>` - `<h6>` | Encabezados de diferentes niveles (h1 es el más grande) | `<h1>Título principal</h1>` |\n",
    "| `<p>`     | Párrafo de texto | `<p>Hola, este es un párrafo.</p>` |\n",
    "| `<br>`    | Salto de línea | `Hola<br>mundo` → (Hola en una línea, mundo en la siguiente) |\n",
    "| `<hr>`    | Línea horizontal divisoria | `<hr>` |\n",
    "| `<a>`     | Enlace a otra página o sitio web | `<a href=\"https://example.com\">Visitar</a>` |\n",
    "| `<img>`   | Imagen dentro de la página | `<img src=\"imagen.jpg\" alt=\"Descripción\">` |\n",
    "| `<ul>`    | Lista desordenada (con viñetas) | `<ul><li>Elemento</li></ul>` |\n",
    "| `<ol>`    | Lista ordenada (numerada) | `<ol><li>Primero</li><li>Segundo</li></ol>` |\n",
    "| `<li>`    | Elemento de una lista (`<ul>` o `<ol>`) | `<li>Elemento de lista</li>` |\n",
    "| `<table>` | Crea una tabla | `<table>...</table>` |\n",
    "| `<tr>`    | Fila de una tabla | `<tr>...</tr>` |\n",
    "| `<th>`    | Celda de encabezado de tabla | `<th>Título</th>` |\n",
    "| `<td>`    | Celda normal de una tabla | `<td>Dato</td>` |\n",
    "| `<form>`  | Formulario de entrada de datos | `<form>...</form>` |\n",
    "| `<input>` | Campo de entrada en un formulario | `<input type=\"text\">` |\n",
    "| `<button>` | Botón interactivo | `<button>Enviar</button>` |\n",
    "| `<div>`   | Contenedor genérico en bloque | `<div>Contenido</div>` |\n",
    "| `<span>`  | Contenedor genérico en línea | `<span>Texto</span>` |\n",
    "| `<strong>` | Texto en negrita | `<strong>Importante</strong>` |\n",
    "| `<em>`    | Texto en cursiva (énfasis) | `<em>Destacado</em>` |\n"
   ]
  },
  {
   "cell_type": "markdown",
   "id": "b4e63f88",
   "metadata": {},
   "source": [
    "#### Títulos y encabezados"
   ]
  },
  {
   "cell_type": "code",
   "execution_count": 151,
   "id": "5a228671",
   "metadata": {
    "scrolled": true
   },
   "outputs": [
    {
     "data": {
      "text/plain": [
       "[<h1 class=\"firstHeading mw-first-heading\" id=\"firstHeading\"><span class=\"mw-page-title-namespace\">Anexo</span><span class=\"mw-page-title-separator\">:</span><span class=\"mw-page-title-main\">Libros más vendidos</span></h1>]"
      ]
     },
     "execution_count": 151,
     "metadata": {},
     "output_type": "execute_result"
    }
   ],
   "source": [
    "primer_titulo = soup.find_all(\"h1\")\n",
    "primer_titulo"
   ]
  },
  {
   "cell_type": "code",
   "execution_count": 152,
   "id": "1e9d2d48",
   "metadata": {},
   "outputs": [
    {
     "data": {
      "text/plain": [
       "[<h2 class=\"vector-pinnable-header-label\">Contenidos</h2>,\n",
       " <h2 id=\"Más_de_cien_millones_de_ejemplares\"><span id=\"M.C3.A1s_de_cien_millones_de_ejemplares\"></span>Más de cien millones de ejemplares</h2>,\n",
       " <h2 id=\"Entre_cincuenta_y_cien_millones_de_ejemplares\">Entre cincuenta y cien millones de ejemplares</h2>,\n",
       " <h2 id=\"Entre_treinta_y_cincuenta_millones_de_ejemplares\">Entre treinta y cincuenta millones de ejemplares</h2>,\n",
       " <h2 id=\"Entre_veinte_y_treinta_millones_de_ejemplares\">Entre veinte y treinta millones de ejemplares</h2>,\n",
       " <h2 id=\"Entre_diez_y_veinte_millones_de_ejemplares\">Entre diez y veinte millones de ejemplares</h2>,\n",
       " <h2 id=\"Véase_también\"><span id=\"V.C3.A9ase_tambi.C3.A9n\"></span>Véase también</h2>,\n",
       " <h2 id=\"Notas\">Notas</h2>,\n",
       " <h2 id=\"Referencias\">Referencias</h2>,\n",
       " <h2 id=\"Enlaces_externos\">Enlaces externos</h2>]"
      ]
     },
     "execution_count": 152,
     "metadata": {},
     "output_type": "execute_result"
    }
   ],
   "source": [
    "primer_titulo = soup.find_all(\"h2\")\n",
    "primer_titulo"
   ]
  },
  {
   "cell_type": "code",
   "execution_count": 153,
   "id": "681c0e75",
   "metadata": {},
   "outputs": [
    {
     "data": {
      "text/plain": [
       "[<p>Este anexo provee una lista de los <b>libros más vendidos</b> en cualquier idioma. El concepto de «más vendido» (que generalmente se expresa mediante los términos <a href=\"/wiki/Superventas\" title=\"Superventas\">superventas</a> o <i>best-seller</i>) se refiere al número de copias (o a una estimación del mismo) que se han vendido de cada libro, y no a las que fueron impresas o distribuidas gratuitamente. No se incluyen en esta lista ni <a class=\"mw-redirect\" href=\"/wiki/C%C3%B3mic\" title=\"Cómic\">cómics</a>, ni <a href=\"/wiki/Libro_de_texto\" title=\"Libro de texto\">libros de texto</a>. Tampoco aparecen obras políticas, como las de <a href=\"/wiki/Mao_Zedong\" title=\"Mao Zedong\">Mao Zedong</a>, ni religiosas, como la <i><a href=\"/wiki/Biblia\" title=\"Biblia\">Biblia</a></i> (la obra más vendida de la historia, pero con ventas e impresiones muy inexactas) el <i><a href=\"/wiki/Cor%C3%A1n\" title=\"Corán\">Corán</a></i>, el <i><a href=\"/wiki/Libro_de_Morm%C3%B3n\" title=\"Libro de Mormón\">Libro de Mormón</a></i> o <i><a href=\"/wiki/%C2%BFQu%C3%A9_ense%C3%B1a_realmente_la_Biblia%3F\" title=\"¿Qué enseña realmente la Biblia?\">¿Qué enseña realmente la Biblia?</a></i>, que se han distribuido gratuitamente, indicadas en el <a href=\"/wiki/Anexo:Libros_m%C3%A1s_distribuidos\" title=\"Anexo:Libros más distribuidos\">anexo correspondiente a las obras más distribuidas</a>. Los libros se listan según las ventas máximas estimadas y reportadas por fuentes independientes y fidedignas.\n",
       " </p>,\n",
       " <p>Hay varios casos, significativamente el de <i><a class=\"mw-redirect\" href=\"/wiki/El_ingenioso_hidalgo_Don_Quijote_de_la_Mancha\" title=\"El ingenioso hidalgo Don Quijote de la Mancha\">El ingenioso hidalgo Don Quijote de la Mancha</a></i> ―de <a href=\"/wiki/Miguel_de_Cervantes\" title=\"Miguel de Cervantes\">Miguel de Cervantes</a> (1605-1615), en <a href=\"/wiki/Idioma_espa%C3%B1ol\" title=\"Idioma español\">español</a>― para los que se suele reclamar un gran número de ejemplares vendidos a lo largo de la historia, presumiblemente el dato más alto de la lista,<sup class=\"reference separada\" id=\"cite_ref-1\"><a href=\"#cite_note-1\"><span class=\"corchete-llamada\">[</span>1<span class=\"corchete-llamada\">]</span></a></sup>​<sup class=\"reference separada\" id=\"cite_ref-2\"><a href=\"#cite_note-2\"><span class=\"corchete-llamada\">[</span>2<span class=\"corchete-llamada\">]</span></a></sup>​ pero para los que ninguna fuente fiable da una cifra concreta. Para los casos más modernos de las series de <i><a href=\"/wiki/Harry_Potter\" title=\"Harry Potter\">Harry Potter</a></i> (<a href=\"/wiki/J._K._Rowling\" title=\"J. K. Rowling\">J. K. Rowling</a>, en <a href=\"/wiki/Idioma_ingl%C3%A9s\" title=\"Idioma inglés\">inglés</a>, 1997-2007) y <i><a href=\"/wiki/Crep%C3%BAsculo_(serie)\" title=\"Crepúsculo (serie)\">Crepúsculo</a></i> (<a href=\"/wiki/Stephenie_Meyer\" title=\"Stephenie Meyer\">Stephenie Meyer</a>, en inglés, 2005-2008), el problema es que no se hallan cifras de ventas de cada libro por separado, tan solo las del total de la colección, lo que obviamente no es comparable. Un cálculo aritmético elemental lleva a la conclusión  que, si las cifras totales de las series son correctas, al menos un título de cada una debiera entrar en el rango de esta lista.\n",
       " </p>]"
      ]
     },
     "execution_count": 153,
     "metadata": {},
     "output_type": "execute_result"
    }
   ],
   "source": [
    "primer_titulo = soup.find_all(\"p\")\n",
    "primer_titulo"
   ]
  },
  {
   "cell_type": "markdown",
   "id": "265c1171",
   "metadata": {},
   "source": [
    "## Diferencias entre Selenium y Requests  \n",
    "\n",
    "Ambas herramientas se utilizan para **Web Scraping**, pero tienen enfoques muy diferentes.  \n",
    "\n",
    "| **Característica**     | **Selenium** 🖥️ | **Requests** 🌐 |\n",
    "|----------------------|-----------------|----------------|\n",
    "| **Modo de funcionamiento** | Simula un navegador real | Envía solicitudes HTTP |\n",
    "| **Carga JavaScript** | ✅ Sí | ❌ No |\n",
    "| **Interacción con la web** | ✅ Puede hacer clic, desplazarse y completar formularios | ❌ Solo obtiene HTML estático |\n",
    "| **Velocidad** | 🐢 Más lento (abre un navegador) | 🚀 Más rápido |\n",
    "| **Bloqueos por el sitio** | ❌ Fácilmente detectado por los sitios web | ✅ Menos propenso a bloqueos |\n",
    "| **Uso de recursos** | 🔋 Alto consumo de CPU y RAM | 🔋 Bajo consumo |\n",
    "| **Casos de uso ideales** | Scraping de sitios con contenido dinámico (JavaScript) o interacción con formularios | Scraping de sitios con HTML estático (sin JavaScript) |\n",
    "\n",
    "####  ¿Cuándo usar Selenium?\n",
    "- Si el sitio **usa JavaScript** para cargar contenido.  \n",
    "- Cuando necesitas **interactuar** con la web (clics, scroll, inputs, etc.).  \n",
    "- Para **automatizar pruebas de software** en sitios web.  \n",
    "\n",
    "####  ¿Cuándo usar Requests?\n",
    "- Si el contenido **estático** se puede obtener directamente en el HTML.  \n",
    "- Cuando necesitas **eficiencia y rapidez**.  \n",
    "- Si el sitio **no requiere interacciones** complejas.  \n",
    "\n",
    "####  ¿Cuál es mejor?\n",
    "Depende del caso. Si el sitio es estático, usa **Requests**.  \n",
    "Si es dinámico con JavaScript, usa **Selenium**   \n"
   ]
  },
  {
   "cell_type": "markdown",
   "id": "b4e65fc6",
   "metadata": {},
   "source": [
    "## Introducción a Selenium\n",
    "\n",
    "Importamos la libreria `selenium`, la cual a diferencia de `requests` abre el explorador a través de `webdriver`. El objetivo principal es nuevamente obtener una tabla con datos para luego hacer un análisis exploratorio de los precios y sus productos.\n",
    "\n",
    "Para ello vamos a tener que entrar en las categorías de productos e ir recolectando la información a partir de ahí.\n",
    "\n"
   ]
  },
  {
   "cell_type": "code",
   "execution_count": 55,
   "id": "db012e9a",
   "metadata": {},
   "outputs": [],
   "source": [
    "from selenium import webdriver\n",
    "from selenium.webdriver.common.by import By\n",
    "import requests\n",
    "from bs4 import BeautifulSoup\n",
    "import pandas as pd\n",
    "import time"
   ]
  },
  {
   "cell_type": "markdown",
   "id": "eb016d88",
   "metadata": {},
   "source": [
    "`links_elements` contiene todos los elementos de tipo `<a>` anchor (enlaces). Al ejecutar este código se crea el set() links. Que contiene todos los links subyacentes a partir de la url establecida, es decir nuestro _web scraper_ va a entrar en todos y cada uno de los enlaces que hay a partir de nuestra url, y va a comprobar que no estén vacíos antes de guardarlos en el set."
   ]
  },
  {
   "cell_type": "code",
   "execution_count": 38,
   "id": "9a9aef08",
   "metadata": {},
   "outputs": [],
   "source": [
    "# Configurar el WebDriver\n",
    "options = webdriver.ChromeOptions()\n",
    "driver = webdriver.Chrome()\n",
    "\n",
    "# Acceder a la web de Makro\n",
    "driver.get(\"https://www.makro.es/productos\")\n",
    "time.sleep(5)  # Esperar a que la página cargue completamente\n",
    "\n",
    "links_elements = driver.find_elements(By.TAG_NAME, \"a\")\n",
    "\n",
    "# Lista para guardar los enlaces únicos\n",
    "links = set()\n",
    "\n",
    "# Recorrer los elementos y obtener el texto y el href\n",
    "for link in links_elements:\n",
    "    try:\n",
    "        url = link.get_attribute(\"href\")\n",
    "        if url:  # Solo guardar si el enlace no está vacío\n",
    "            links.add(url)\n",
    "    except:\n",
    "        continue\n",
    "\n",
    "# Cerrar el navegador\n",
    "driver.quit()"
   ]
  },
  {
   "cell_type": "code",
   "execution_count": 39,
   "id": "4382dafe",
   "metadata": {},
   "outputs": [
    {
     "data": {
      "text/plain": [
       "226"
      ]
     },
     "execution_count": 39,
     "metadata": {},
     "output_type": "execute_result"
    }
   ],
   "source": [
    "len(links_elements)"
   ]
  },
  {
   "cell_type": "code",
   "execution_count": 40,
   "id": "25297882",
   "metadata": {},
   "outputs": [
    {
     "data": {
      "text/plain": [
       "{'https://cih.makro.es/es/support/tickets/new',\n",
       " 'https://es.linkedin.com/company/makro-autoservicio-mayorista-sa',\n",
       " 'https://maps.google.com/maps/?q=40.358334,-3.824555',\n",
       " 'https://talento.makro.es/',\n",
       " 'https://tienda.makro.es/shop/promotions',\n",
       " 'https://tienda.makro.es/shop/storelist/829911ee-f923-408d-9f37-167fa36d542e',\n",
       " 'https://tienda.makro.es/shop/storelist/c266ad5d-a0ff-4a17-8b24-528ff7e42016',\n",
       " 'https://twitter.com/makroesp',\n",
       " 'https://www.facebook.com/MakroEspana',\n",
       " 'https://www.instagram.com/makroesp/',\n",
       " 'https://www.makro.es/',\n",
       " 'https://www.makro.es/MCW/ES_Makro/Home/info%20y%20servicios/productos/carnes',\n",
       " 'https://www.makro.es/MCW/ES_Makro/Home/info-y-servicios/productos/cestas-navidad',\n",
       " 'https://www.makro.es/aviso-legal',\n",
       " 'https://www.makro.es/bases',\n",
       " 'https://www.makro.es/calidad-y-seguridad',\n",
       " 'https://www.makro.es/compliance',\n",
       " 'https://www.makro.es/compliance#canalInterno',\n",
       " 'https://www.makro.es/compra-como-quieras',\n",
       " 'https://www.makro.es/compra-como-quieras/cash-and-carry',\n",
       " 'https://www.makro.es/compra-como-quieras/marketplace',\n",
       " 'https://www.makro.es/contacto-makro',\n",
       " 'https://www.makro.es/cookies',\n",
       " 'https://www.makro.es/devoluciones-online',\n",
       " 'https://www.makro.es/disposiciones-ambientales',\n",
       " 'https://www.makro.es/distribucion-hosteleria',\n",
       " 'https://www.makro.es/hacerse-cliente-makro',\n",
       " 'https://www.makro.es/hacerse-cliente-makro/preguntas-frecuentes',\n",
       " 'https://www.makro.es/info-y-servicios',\n",
       " 'https://www.makro.es/inspiracion-asesoramiento',\n",
       " 'https://www.makro.es/inspiracion-asesoramiento/aula-makro',\n",
       " 'https://www.makro.es/inspiracion-asesoramiento/branding',\n",
       " 'https://www.makro.es/inspiracion-asesoramiento/consejos',\n",
       " 'https://www.makro.es/inspiracion-asesoramiento/escuelas-hosteleria',\n",
       " 'https://www.makro.es/inspiracion-asesoramiento/eventos-gastronomicos',\n",
       " 'https://www.makro.es/inspiracion-asesoramiento/recetas',\n",
       " 'https://www.makro.es/makro-espana',\n",
       " 'https://www.makro.es/marketplace',\n",
       " 'https://www.makro.es/metro/services/idamstream/login',\n",
       " 'https://www.makro.es/ofertas',\n",
       " 'https://www.makro.es/ofertas/folletos-y-catalogos',\n",
       " 'https://www.makro.es/podcast',\n",
       " 'https://www.makro.es/politica-privacidad',\n",
       " 'https://www.makro.es/politica-privacidad/makro',\n",
       " 'https://www.makro.es/prensa',\n",
       " 'https://www.makro.es/productos',\n",
       " 'https://www.makro.es/productos/aceite',\n",
       " 'https://www.makro.es/productos/aceite/aceite-de-girasol',\n",
       " 'https://www.makro.es/productos/aceite/aceite-de-oliva',\n",
       " 'https://www.makro.es/productos/aire-libre',\n",
       " 'https://www.makro.es/productos/aire-libre/catering-eventos',\n",
       " 'https://www.makro.es/productos/aire-libre/terrazas',\n",
       " 'https://www.makro.es/productos/aire-libre/terrazas/barbacoas',\n",
       " 'https://www.makro.es/productos/azucar-y-edulcorantes',\n",
       " 'https://www.makro.es/productos/bebidas',\n",
       " 'https://www.makro.es/productos/bebidas/agua',\n",
       " 'https://www.makro.es/productos/bebidas/bebidas-alcoholicas',\n",
       " 'https://www.makro.es/productos/bebidas/bebidas-alcoholicas/ron',\n",
       " 'https://www.makro.es/productos/bebidas/bebidas-alcoholicas/sidra',\n",
       " 'https://www.makro.es/productos/bebidas/bebidas-alcoholicas/vermut',\n",
       " 'https://www.makro.es/productos/bebidas/bebidas-alcoholicas/vodka',\n",
       " 'https://www.makro.es/productos/cerveza',\n",
       " 'https://www.makro.es/productos/cerveza/artesanas',\n",
       " 'https://www.makro.es/productos/cerveza/internacionales',\n",
       " 'https://www.makro.es/productos/charcuteria',\n",
       " 'https://www.makro.es/productos/charcuteria/jamones',\n",
       " 'https://www.makro.es/productos/condimentos',\n",
       " 'https://www.makro.es/productos/congelados',\n",
       " 'https://www.makro.es/productos/congelados/aperitivos',\n",
       " 'https://www.makro.es/productos/congelados/carnes',\n",
       " 'https://www.makro.es/productos/congelados/carnes/caza',\n",
       " 'https://www.makro.es/productos/congelados/carnes/preparados',\n",
       " 'https://www.makro.es/productos/congelados/fruta-verdura',\n",
       " 'https://www.makro.es/productos/congelados/mariscos',\n",
       " 'https://www.makro.es/productos/congelados/pan',\n",
       " 'https://www.makro.es/productos/congelados/patatas',\n",
       " 'https://www.makro.es/productos/congelados/pescado',\n",
       " 'https://www.makro.es/productos/congelados/postres',\n",
       " 'https://www.makro.es/productos/congelados/postres/helados',\n",
       " 'https://www.makro.es/productos/congelados/precocinados',\n",
       " 'https://www.makro.es/productos/drogueria',\n",
       " 'https://www.makro.es/productos/ecologicos',\n",
       " 'https://www.makro.es/productos/equipamiento-hosteleria',\n",
       " 'https://www.makro.es/productos/equipamiento-hosteleria/cocina',\n",
       " 'https://www.makro.es/productos/equipamiento-hosteleria/cocina/cuchillos',\n",
       " 'https://www.makro.es/productos/equipamiento-hosteleria/cocina/electrodomesticos',\n",
       " 'https://www.makro.es/productos/equipamiento-hosteleria/cocina/utensilios-cocina',\n",
       " 'https://www.makro.es/productos/equipamiento-hosteleria/desechables',\n",
       " 'https://www.makro.es/productos/equipamiento-hosteleria/hotel',\n",
       " 'https://www.makro.es/productos/equipamiento-hosteleria/menaje',\n",
       " 'https://www.makro.es/productos/equipamiento-hosteleria/menaje/cristaleria',\n",
       " 'https://www.makro.es/productos/equipamiento-hosteleria/menaje/personalizacion',\n",
       " 'https://www.makro.es/productos/equipamiento-hosteleria/menaje/vajillas',\n",
       " 'https://www.makro.es/productos/equipamiento-hosteleria/sala',\n",
       " 'https://www.makro.es/productos/equipamiento-hosteleria/sala/accesorios-bar',\n",
       " 'https://www.makro.es/productos/equipamiento-hosteleria/sala/accesorios-mesa',\n",
       " 'https://www.makro.es/productos/equipamiento-hosteleria/televisores',\n",
       " 'https://www.makro.es/productos/equipamiento-hosteleria/textil',\n",
       " 'https://www.makro.es/productos/frutas',\n",
       " 'https://www.makro.es/productos/frutas/citricos',\n",
       " 'https://www.makro.es/productos/frutas/citricos/naranja',\n",
       " 'https://www.makro.es/productos/frutas/exoticas',\n",
       " 'https://www.makro.es/productos/huevos',\n",
       " 'https://www.makro.es/productos/internacional',\n",
       " 'https://www.makro.es/productos/internacional/cocina-italiana',\n",
       " 'https://www.makro.es/productos/internacional/cocina-latina',\n",
       " 'https://www.makro.es/productos/lacteos',\n",
       " 'https://www.makro.es/productos/marcas-makro',\n",
       " 'https://www.makro.es/productos/marcas-makro/aro',\n",
       " 'https://www.makro.es/productos/marcas-makro/makro-chef',\n",
       " 'https://www.makro.es/productos/marcas-makro/makro-premium',\n",
       " 'https://www.makro.es/productos/marcas-makro/makro-professional',\n",
       " 'https://www.makro.es/productos/marcas-makro/rioba',\n",
       " 'https://www.makro.es/productos/mariscos',\n",
       " 'https://www.makro.es/productos/mariscos/concha',\n",
       " 'https://www.makro.es/productos/mariscos/langosta',\n",
       " 'https://www.makro.es/productos/mariscos/pulpo',\n",
       " 'https://www.makro.es/productos/pescados',\n",
       " 'https://www.makro.es/productos/pescados/especies',\n",
       " 'https://www.makro.es/productos/pescados/pescado-azul',\n",
       " 'https://www.makro.es/productos/pescados/pescado-azul/atun',\n",
       " 'https://www.makro.es/productos/pescados/pescado-blanco',\n",
       " 'https://www.makro.es/productos/pescados/pescado-blanco/bacalao',\n",
       " 'https://www.makro.es/productos/quesos',\n",
       " 'https://www.makro.es/productos/quesos/espanoles',\n",
       " 'https://www.makro.es/productos/quesos/internacionales',\n",
       " 'https://www.makro.es/productos/quesos/internacionales/franceses',\n",
       " 'https://www.makro.es/productos/quesos/internacionales/italianos',\n",
       " 'https://www.makro.es/productos/sin-gluten',\n",
       " 'https://www.makro.es/productos/sin-gluten/ingredientes-basicos-sin-gluten',\n",
       " 'https://www.makro.es/productos/sin-gluten/menus-ofertas-horeca-sin-gluten',\n",
       " 'https://www.makro.es/productos/sin-gluten/menus-recetas-sin-gluten',\n",
       " 'https://www.makro.es/productos/sin-gluten/postres-dulces-sin-gluten',\n",
       " 'https://www.makro.es/productos/temporada',\n",
       " 'https://www.makro.es/productos/veganos',\n",
       " 'https://www.makro.es/productos/verduras',\n",
       " 'https://www.makro.es/productos/verduras/ensalada',\n",
       " 'https://www.makro.es/productos/verduras/flores',\n",
       " 'https://www.makro.es/productos/verduras/setas',\n",
       " 'https://www.makro.es/productos/verduras/tomate',\n",
       " 'https://www.makro.es/productos/vinos',\n",
       " 'https://www.makro.es/productos/vinos/champagne-cava',\n",
       " 'https://www.makro.es/productos/vinos/delecto',\n",
       " 'https://www.makro.es/productos/vinos/gran-monumento',\n",
       " 'https://www.makro.es/productos/vinos/ribera',\n",
       " 'https://www.makro.es/productos/vinos/rioja',\n",
       " 'https://www.makro.es/productos/vinos/sastreria',\n",
       " 'https://www.makro.es/productos/vinos/selecion-sumiller',\n",
       " 'https://www.makro.es/productos/vinos/sumiller-makro',\n",
       " 'https://www.makro.es/productos/vinos/vino-del-ano',\n",
       " 'https://www.makro.es/productos/vinos/vinos-blancos',\n",
       " 'https://www.makro.es/productos/vinos/vinos-rosados',\n",
       " 'https://www.makro.es/productos/vinos/vinos-tintos',\n",
       " 'https://www.makro.es/recursos-humanos/nuestro-equipo',\n",
       " 'https://www.makro.es/servicios',\n",
       " 'https://www.makro.es/servicios/disena-tu-cocina',\n",
       " 'https://www.makro.es/servicios/makroplus',\n",
       " 'https://www.makro.es/servicios/servicios-digitales',\n",
       " 'https://www.makro.es/servicios/servicios-digitales/app-makro',\n",
       " 'https://www.makro.es/servicios/servicios-digitales/facturas-digitales',\n",
       " 'https://www.makro.es/sostenibilidad',\n",
       " 'https://www.makro.es/terminos-y-condiciones',\n",
       " 'https://www.makro.es/terminos-y-condiciones/condiciones-pedidos-online',\n",
       " 'https://www.makro.es/tiendas',\n",
       " 'https://www.makro.es/tiendas/alcorcon',\n",
       " 'https://www.makro.es/tu-tienda',\n",
       " 'https://www.metroag.de/en',\n",
       " 'https://www.tiktok.com/@makroesp',\n",
       " 'https://www.youtube.com/channel/UCkgrmG4qO74Pm_zffCmR4IA',\n",
       " 'tel:900907503',\n",
       " 'tel:910387960',\n",
       " 'tel:914881250'}"
      ]
     },
     "execution_count": 40,
     "metadata": {},
     "output_type": "execute_result"
    }
   ],
   "source": [
    "links"
   ]
  },
  {
   "cell_type": "markdown",
   "id": "3f605664",
   "metadata": {},
   "source": [
    "No todos los enlaces nos interesan. Por ejemplo los términos y condiciones, los servicios, los enlaces a youtube... Así que vamos a filtrar por aquellos que nos interesan.\n",
    "\n",
    "Creamos una lista de palabras clave y sólo retendremos los links que contienen estas palabras, que son los productos alimenticios principalmente. Por lo tanto creamos una lista con las palabras clave que orienten nuestra búsqueda a nuestros intereses."
   ]
  },
  {
   "cell_type": "code",
   "execution_count": 41,
   "id": "e7803d10",
   "metadata": {},
   "outputs": [
    {
     "name": "stdout",
     "output_type": "stream",
     "text": [
      "46\n"
     ]
    }
   ],
   "source": [
    "palabras_clave = ['carne','pescado','fruta','verdura','marisco','vino','congelado']\n",
    "# clases_articulos = ['amplificad']\n",
    "articulos = []\n",
    "for clases in palabras_clave:\n",
    "    for link in sorted(links):  # Ordenar alfabéticamente\n",
    "        if clases in link:\n",
    "            \n",
    "            articulos.append(link)\n",
    "articulos = set(articulos)\n",
    "print(len(articulos))"
   ]
  },
  {
   "cell_type": "code",
   "execution_count": 42,
   "id": "0bdeedb6",
   "metadata": {
    "scrolled": true
   },
   "outputs": [
    {
     "data": {
      "text/plain": [
       "{'https://www.makro.es/MCW/ES_Makro/Home/info%20y%20servicios/productos/carnes',\n",
       " 'https://www.makro.es/productos/congelados',\n",
       " 'https://www.makro.es/productos/congelados/aperitivos',\n",
       " 'https://www.makro.es/productos/congelados/carnes',\n",
       " 'https://www.makro.es/productos/congelados/carnes/caza',\n",
       " 'https://www.makro.es/productos/congelados/carnes/preparados',\n",
       " 'https://www.makro.es/productos/congelados/fruta-verdura',\n",
       " 'https://www.makro.es/productos/congelados/mariscos',\n",
       " 'https://www.makro.es/productos/congelados/pan',\n",
       " 'https://www.makro.es/productos/congelados/patatas',\n",
       " 'https://www.makro.es/productos/congelados/pescado',\n",
       " 'https://www.makro.es/productos/congelados/postres',\n",
       " 'https://www.makro.es/productos/congelados/postres/helados',\n",
       " 'https://www.makro.es/productos/congelados/precocinados',\n",
       " 'https://www.makro.es/productos/frutas',\n",
       " 'https://www.makro.es/productos/frutas/citricos',\n",
       " 'https://www.makro.es/productos/frutas/citricos/naranja',\n",
       " 'https://www.makro.es/productos/frutas/exoticas',\n",
       " 'https://www.makro.es/productos/mariscos',\n",
       " 'https://www.makro.es/productos/mariscos/concha',\n",
       " 'https://www.makro.es/productos/mariscos/langosta',\n",
       " 'https://www.makro.es/productos/mariscos/pulpo',\n",
       " 'https://www.makro.es/productos/pescados',\n",
       " 'https://www.makro.es/productos/pescados/especies',\n",
       " 'https://www.makro.es/productos/pescados/pescado-azul',\n",
       " 'https://www.makro.es/productos/pescados/pescado-azul/atun',\n",
       " 'https://www.makro.es/productos/pescados/pescado-blanco',\n",
       " 'https://www.makro.es/productos/pescados/pescado-blanco/bacalao',\n",
       " 'https://www.makro.es/productos/verduras',\n",
       " 'https://www.makro.es/productos/verduras/ensalada',\n",
       " 'https://www.makro.es/productos/verduras/flores',\n",
       " 'https://www.makro.es/productos/verduras/setas',\n",
       " 'https://www.makro.es/productos/verduras/tomate',\n",
       " 'https://www.makro.es/productos/vinos',\n",
       " 'https://www.makro.es/productos/vinos/champagne-cava',\n",
       " 'https://www.makro.es/productos/vinos/delecto',\n",
       " 'https://www.makro.es/productos/vinos/gran-monumento',\n",
       " 'https://www.makro.es/productos/vinos/ribera',\n",
       " 'https://www.makro.es/productos/vinos/rioja',\n",
       " 'https://www.makro.es/productos/vinos/sastreria',\n",
       " 'https://www.makro.es/productos/vinos/selecion-sumiller',\n",
       " 'https://www.makro.es/productos/vinos/sumiller-makro',\n",
       " 'https://www.makro.es/productos/vinos/vino-del-ano',\n",
       " 'https://www.makro.es/productos/vinos/vinos-blancos',\n",
       " 'https://www.makro.es/productos/vinos/vinos-rosados',\n",
       " 'https://www.makro.es/productos/vinos/vinos-tintos'}"
      ]
     },
     "execution_count": 42,
     "metadata": {},
     "output_type": "execute_result"
    }
   ],
   "source": [
    "articulos"
   ]
  },
  {
   "cell_type": "markdown",
   "id": "5d959a71",
   "metadata": {},
   "source": [
    "Hasta aquí hemos trabajado con Selenium, que nos es más intuitivo para obtener el listado de enlaces a partir de los cuales vamos a recabar la información.\n",
    "\n",
    "A partir de ahora vamos a usar requests, que es más difícil de detectar"
   ]
  },
  {
   "cell_type": "code",
   "execution_count": 59,
   "id": "21956386",
   "metadata": {
    "scrolled": true
   },
   "outputs": [
    {
     "name": "stdout",
     "output_type": "stream",
     "text": [
      "https://www.makro.es/productos/vinos/ribera\n",
      "https://www.makro.es/productos/mariscos\n",
      "https://www.makro.es/productos/frutas/citricos\n",
      "https://www.makro.es/productos/mariscos/langosta\n",
      "https://www.makro.es/productos/vinos/delecto\n",
      "https://www.makro.es/productos/vinos/selecion-sumiller\n",
      "https://www.makro.es/productos/congelados/carnes/caza\n",
      "https://www.makro.es/productos/pescados/pescado-azul\n",
      "https://www.makro.es/productos/vinos/vinos-tintos\n",
      "https://www.makro.es/productos/congelados/postres/helados\n",
      "https://www.makro.es/productos/congelados/fruta-verdura\n",
      "https://www.makro.es/productos/vinos/vinos-blancos\n",
      "https://www.makro.es/productos/vinos/sumiller-makro\n",
      "https://www.makro.es/productos/congelados/pan\n",
      "https://www.makro.es/productos/vinos/gran-monumento\n",
      "https://www.makro.es/productos/congelados/aperitivos\n",
      "https://www.makro.es/productos/vinos/rioja\n",
      "https://www.makro.es/productos/congelados/patatas\n",
      "https://www.makro.es/productos/verduras/setas\n",
      "https://www.makro.es/productos/verduras/tomate\n",
      "https://www.makro.es/productos/congelados/postres\n",
      "https://www.makro.es/productos/frutas/citricos/naranja\n",
      "https://www.makro.es/productos/verduras\n",
      "https://www.makro.es/productos/mariscos/concha\n",
      "https://www.makro.es/productos/congelados\n",
      "https://www.makro.es/productos/congelados/carnes\n",
      "https://www.makro.es/productos/pescados/pescado-azul/atun\n",
      "https://www.makro.es/productos/vinos\n",
      "https://www.makro.es/productos/pescados/especies\n",
      "https://www.makro.es/productos/mariscos/pulpo\n",
      "https://www.makro.es/productos/vinos/sastreria\n",
      "https://www.makro.es/productos/congelados/pescado\n",
      "https://www.makro.es/productos/vinos/champagne-cava\n",
      "https://www.makro.es/productos/pescados/pescado-blanco/bacalao\n",
      "https://www.makro.es/productos/pescados/pescado-blanco\n",
      "https://www.makro.es/productos/congelados/precocinados\n",
      "https://www.makro.es/productos/congelados/mariscos\n",
      "https://www.makro.es/productos/vinos/vinos-rosados\n",
      "https://www.makro.es/productos/pescados\n",
      "https://www.makro.es/productos/verduras/flores\n",
      "https://www.makro.es/productos/congelados/carnes/preparados\n",
      "https://www.makro.es/MCW/ES_Makro/Home/info%20y%20servicios/productos/carnes\n",
      "https://www.makro.es/productos/vinos/vino-del-ano\n",
      "https://www.makro.es/productos/verduras/ensalada\n",
      "https://www.makro.es/productos/frutas\n",
      "https://www.makro.es/productos/frutas/exoticas\n"
     ]
    }
   ],
   "source": [
    "headers = {\n",
    "    \"User-Agent\": \"Mozilla/5.0 (Windows NT 10.0; Win64; x64) AppleWebKit/537.36 (KHTML, like Gecko) Chrome/122.0.0.0 Safari/537.36\"\n",
    "}\n",
    "df = pd.DataFrame([])\n",
    "for url in articulos:\n",
    "    print(url)\n",
    "    # Realizar la solicitud HTTP\n",
    "    response = requests.get(url, headers=headers)\n",
    "    time.sleep(3) \n",
    "    try:\n",
    "        soup = BeautifulSoup(response.text, \"html.parser\")\n",
    "    except:\n",
    "        print(response.status_code)\n"
   ]
  },
  {
   "cell_type": "markdown",
   "id": "588ef76d",
   "metadata": {},
   "source": [
    "`BeautifulSoup` nos facilita la interpretación del HTML obtenido en el `.get`. El objetivo a partir de ahora sería encontrar a ojo, cómo se llaman las clases producto, descripciuón, precio, imagen...\n",
    "\n",
    "Pero como se puede observar en la última línea del siguiente cuadro nos han pillado y no hemos conseguido entrar en el marketplace."
   ]
  },
  {
   "cell_type": "code",
   "execution_count": 62,
   "id": "e283e193",
   "metadata": {
    "scrolled": true
   },
   "outputs": [
    {
     "data": {
      "text/plain": [
       "<!DOCTYPE html>\n",
       "<html><head><meta content=\"width=device-width,initial-scale=1\" name=\"viewport\"/><title>403</title></head><body style=\"background:#f2f5f8;margin:0\"><div style=\"padding:20px;background:#002d72\"><svg class=\"m\" height=\"24\" style=\"display:table\" viewbox=\"0 0 136 25\" width=\"129\"><path d=\"M18.1333932,25 L23.3476299,9.30188577 L23.3476299,25 L31.1301731,25 L31.1301731,0.00765476126 L20.6240762,0.00765476126 L15.5650866,12.5038274 L10.5065456,0.00765476126 L0,0.00765476126 L0,25 L7.78299198,25 L7.78299198,9.30188577 L13.0358161,25 L18.1333932,25 Z M101.772514,15.2843068 C104.20038,15.0893356 106.621067,13.4309541 106.621067,10.7076602 L106.621067,5.08411232 L106.621067,4.53747231 C106.339289,1.72097044 104.233583,0.200374633 101.737516,0 L81.7169288,0 L81.7173775,25 L89.4994721,25 L89.4994721,15.2843068 L92.597234,15.2843068 L97.6553262,25 L106.605363,25 L100.581688,15.2843068 L101.772514,15.2843068 Z M99.6170027,8.80162461 C99.6170027,9.34241098 99.4828442,9.81700618 98.5154666,9.81700618 L89.4994721,9.81700618 L89.4994721,4.91165505 L98.5271326,4.91165505 C99.6250792,4.91165505 99.6170027,5.63255345 99.6170027,6.08283352 L99.6170027,8.80162461 Z M54.4782517,4.92831541 L54.4782517,0.00765476126 L34.2431905,0.00765476126 L34.2431905,25 L54.7465688,24.9945966 L54.7541966,20.0797896 L42.0454761,20.0797896 L42.0468222,14.7268601 L54.4782517,14.7268601 L54.4782517,9.81925758 L42.0468222,9.81925758 L42.0468222,4.92831541 L54.4782517,4.92831541 Z M64.2063186,4.92831541 L56.8127903,4.92831541 L56.8127903,0.00765476126 L79.3823902,0.00765476126 L79.3823902,4.92831541 L71.9884132,4.92831541 L71.9884132,25 L64.2063186,25 L64.2063186,4.92831541 Z M131.136191,0.00765476126 L114.598342,0.00765476126 C112.113044,0.208929954 110.014516,1.47376668 109.734085,4.30332667 L109.734085,20.4701825 C110.014516,23.2997424 112.113044,24.7987248 114.598342,25 L131.136191,25 C133.621041,24.7987248 135.719568,23.2997424 136,20.4701825 L136,4.30332667 C135.719568,1.47376668 133.621041,0.208929954 131.136191,0.00765476126 L131.136191,0.00765476126 Z M128.217457,18.9626448 C128.181561,19.2436195 128.076119,19.9834297 127.116369,20.0793393 L118.687711,20.0793393 C117.727961,19.9834297 117.552523,19.2436195 117.516628,18.9626448 L117.516628,5.90452261 C117.552075,5.62309757 117.685336,5.02377479 118.645086,4.92831541 L127.119959,4.92831541 C128.080157,5.02377479 128.181561,5.62309757 128.217457,5.90452261 L128.217457,18.9626448 Z\" fill=\"#FFE500\"></path></svg></div><div style=\"padding:100px 16px 0;text-align:center\"><svg display=\"block\" height=\"107\" style=\"margin:auto\" viewbox=\"0 0 106 97\" width=\"93\"><g fill=\"#0064FE\"><path d=\"M50.8,74.5c-16.9,0-31.6-11.4-35.9-27.6c-0.3-1,0.3-1.9,1.3-2.2c1-0.3,1.9,0.3,2.2,1.3 c3.9,14.7,17.2,24.9,32.4,24.9c18.5,0,33.5-15,33.5-33.5C84.3,19,69.3,4,50.8,4C35.4,4,22.1,14.4,18.3,29.2c-0.2,1-1.2,1.5-2.2,1.3 c-1-0.2-1.5-1.2-1.3-2.2c4.2-16.4,19-27.9,36-27.9c20.5,0,37.1,16.6,37.1,37.1S71.3,74.5,50.8,74.5z\"></path><path d=\"M103.8,96.6c-0.5,0-0.9-0.2-1.3-0.5L72.2,65.8c-0.7-0.7-0.7-1.8,0-2.5s1.8-0.7,2.5,0l30.3,30.3 c0.7,0.7,0.7,1.8,0,2.5C104.7,96.4,104.3,96.6,103.8,96.6z\"></path><path d=\"M46.4,52.7c0,0-0.1,0-0.1,0c-0.7-0.1-1.4-0.6-1.6-1.3L37,26.7l-6.8,11.7c-0.3,0.6-0.9,0.9-1.6,0.9H2.2 c-1,0-1.8-0.8-1.8-1.8s0.8-1.8,1.8-1.8h25.5L36,21.3c0.4-0.6,1-1,1.8-0.9c0.7,0.1,1.3,0.6,1.5,1.3l7.5,24.4l9-18 c0.3-0.6,0.9-1,1.5-1c0.7,0,1.3,0.3,1.6,0.8L66.4,39l7.2-9.2c0.6-0.8,1.7-0.9,2.5-0.3c0.8,0.6,0.9,1.7,0.3,2.5l-8.7,11.2 c-0.4,0.5-0.9,0.7-1.5,0.7c-0.6,0-1.1-0.3-1.4-0.8l-7.1-10.7L48,51.7C47.7,52.3,47.1,52.7,46.4,52.7z\"></path></g></svg><h1 style=\"font:800 40px/1 Arial;color:#002d72;margin:24px 0 0\">ARE YOU LOST?</h1><p style=\"font:16px/1.5 Arial;color:#34435a;margin:12px 0 0\">Sorry, only our team of experts has access here.<br/>0.5c757b5c.1740571533.7e79404</p></div></body></html>"
      ]
     },
     "execution_count": 62,
     "metadata": {},
     "output_type": "execute_result"
    }
   ],
   "source": [
    "soup"
   ]
  },
  {
   "cell_type": "markdown",
   "id": "24a2263e",
   "metadata": {},
   "source": [
    "En el diccionario headers podemos incluir algunas opciones para tratar de engañar al servidor de destino y hacerle creer que somos un usuario entrando a través de un explorador normal.\n",
    "\n",
    "Aunque en este caso tampoco funciona. Otro método que ayuda a saltar las defensas del servidor web es añadir una pausa como hemos hecho anteriormente con `time.sleep(5)`\n",
    "\n",
    "A continuación abrimos el notebook `Web_scraping_thomann` donde sí hemos conseguido entrar y podremos ver el proceso completo. Intenta crear un dataframe con la información de los productos thomann para luego analizarlos."
   ]
  },
  {
   "cell_type": "code",
   "execution_count": 65,
   "id": "643770d9",
   "metadata": {
    "scrolled": true
   },
   "outputs": [
    {
     "data": {
      "text/plain": [
       "<!DOCTYPE html>\n",
       "<html><head><meta content=\"width=device-width,initial-scale=1\" name=\"viewport\"/><title>403</title></head><body style=\"background:#f2f5f8;margin:0\"><div style=\"padding:20px;background:#002d72\"><svg class=\"m\" height=\"24\" style=\"display:table\" viewbox=\"0 0 136 25\" width=\"129\"><path d=\"M18.1333932,25 L23.3476299,9.30188577 L23.3476299,25 L31.1301731,25 L31.1301731,0.00765476126 L20.6240762,0.00765476126 L15.5650866,12.5038274 L10.5065456,0.00765476126 L0,0.00765476126 L0,25 L7.78299198,25 L7.78299198,9.30188577 L13.0358161,25 L18.1333932,25 Z M101.772514,15.2843068 C104.20038,15.0893356 106.621067,13.4309541 106.621067,10.7076602 L106.621067,5.08411232 L106.621067,4.53747231 C106.339289,1.72097044 104.233583,0.200374633 101.737516,0 L81.7169288,0 L81.7173775,25 L89.4994721,25 L89.4994721,15.2843068 L92.597234,15.2843068 L97.6553262,25 L106.605363,25 L100.581688,15.2843068 L101.772514,15.2843068 Z M99.6170027,8.80162461 C99.6170027,9.34241098 99.4828442,9.81700618 98.5154666,9.81700618 L89.4994721,9.81700618 L89.4994721,4.91165505 L98.5271326,4.91165505 C99.6250792,4.91165505 99.6170027,5.63255345 99.6170027,6.08283352 L99.6170027,8.80162461 Z M54.4782517,4.92831541 L54.4782517,0.00765476126 L34.2431905,0.00765476126 L34.2431905,25 L54.7465688,24.9945966 L54.7541966,20.0797896 L42.0454761,20.0797896 L42.0468222,14.7268601 L54.4782517,14.7268601 L54.4782517,9.81925758 L42.0468222,9.81925758 L42.0468222,4.92831541 L54.4782517,4.92831541 Z M64.2063186,4.92831541 L56.8127903,4.92831541 L56.8127903,0.00765476126 L79.3823902,0.00765476126 L79.3823902,4.92831541 L71.9884132,4.92831541 L71.9884132,25 L64.2063186,25 L64.2063186,4.92831541 Z M131.136191,0.00765476126 L114.598342,0.00765476126 C112.113044,0.208929954 110.014516,1.47376668 109.734085,4.30332667 L109.734085,20.4701825 C110.014516,23.2997424 112.113044,24.7987248 114.598342,25 L131.136191,25 C133.621041,24.7987248 135.719568,23.2997424 136,20.4701825 L136,4.30332667 C135.719568,1.47376668 133.621041,0.208929954 131.136191,0.00765476126 L131.136191,0.00765476126 Z M128.217457,18.9626448 C128.181561,19.2436195 128.076119,19.9834297 127.116369,20.0793393 L118.687711,20.0793393 C117.727961,19.9834297 117.552523,19.2436195 117.516628,18.9626448 L117.516628,5.90452261 C117.552075,5.62309757 117.685336,5.02377479 118.645086,4.92831541 L127.119959,4.92831541 C128.080157,5.02377479 128.181561,5.62309757 128.217457,5.90452261 L128.217457,18.9626448 Z\" fill=\"#FFE500\"></path></svg></div><div style=\"padding:100px 16px 0;text-align:center\"><svg display=\"block\" height=\"107\" style=\"margin:auto\" viewbox=\"0 0 106 97\" width=\"93\"><g fill=\"#0064FE\"><path d=\"M50.8,74.5c-16.9,0-31.6-11.4-35.9-27.6c-0.3-1,0.3-1.9,1.3-2.2c1-0.3,1.9,0.3,2.2,1.3 c3.9,14.7,17.2,24.9,32.4,24.9c18.5,0,33.5-15,33.5-33.5C84.3,19,69.3,4,50.8,4C35.4,4,22.1,14.4,18.3,29.2c-0.2,1-1.2,1.5-2.2,1.3 c-1-0.2-1.5-1.2-1.3-2.2c4.2-16.4,19-27.9,36-27.9c20.5,0,37.1,16.6,37.1,37.1S71.3,74.5,50.8,74.5z\"></path><path d=\"M103.8,96.6c-0.5,0-0.9-0.2-1.3-0.5L72.2,65.8c-0.7-0.7-0.7-1.8,0-2.5s1.8-0.7,2.5,0l30.3,30.3 c0.7,0.7,0.7,1.8,0,2.5C104.7,96.4,104.3,96.6,103.8,96.6z\"></path><path d=\"M46.4,52.7c0,0-0.1,0-0.1,0c-0.7-0.1-1.4-0.6-1.6-1.3L37,26.7l-6.8,11.7c-0.3,0.6-0.9,0.9-1.6,0.9H2.2 c-1,0-1.8-0.8-1.8-1.8s0.8-1.8,1.8-1.8h25.5L36,21.3c0.4-0.6,1-1,1.8-0.9c0.7,0.1,1.3,0.6,1.5,1.3l7.5,24.4l9-18 c0.3-0.6,0.9-1,1.5-1c0.7,0,1.3,0.3,1.6,0.8L66.4,39l7.2-9.2c0.6-0.8,1.7-0.9,2.5-0.3c0.8,0.6,0.9,1.7,0.3,2.5l-8.7,11.2 c-0.4,0.5-0.9,0.7-1.5,0.7c-0.6,0-1.1-0.3-1.4-0.8l-7.1-10.7L48,51.7C47.7,52.3,47.1,52.7,46.4,52.7z\"></path></g></svg><h1 style=\"font:800 40px/1 Arial;color:#002d72;margin:24px 0 0\">ARE YOU LOST?</h1><p style=\"font:16px/1.5 Arial;color:#34435a;margin:12px 0 0\">Sorry, only our team of experts has access here.<br/>0.dc6d655f.1740572006.385a838</p></div></body></html>"
      ]
     },
     "execution_count": 65,
     "metadata": {},
     "output_type": "execute_result"
    }
   ],
   "source": [
    "headers = {\n",
    "    \"User-Agent\": \"Mozilla/5.0 (Windows NT 10.0; Win64; x64) AppleWebKit/537.36 (KHTML, like Gecko) Chrome/122.0.0.0 Safari/537.36\",\n",
    "    \"Accept-Language\": \"es-ES,es;q=0.9,en;q=0.8\",\n",
    "    \"Referer\": \"https://www.google.com/\",\n",
    "    \"DNT\": \"1\",  # Do Not Track\n",
    "    \"Connection\": \"keep-alive\",\n",
    "    \"Upgrade-Insecure-Requests\": \"1\",\n",
    "    \"Cache-Control\": \"max-age=0\",\n",
    "}\n",
    "response = requests.get('https://www.makro.es/productos/carnes', headers=headers)\n",
    "soup = BeautifulSoup(response.text, \"html.parser\")\n",
    "soup"
   ]
  },
  {
   "cell_type": "code",
   "execution_count": null,
   "id": "b8e41777",
   "metadata": {},
   "outputs": [],
   "source": []
  }
 ],
 "metadata": {
  "kernelspec": {
   "display_name": "Python 3 (ipykernel)",
   "language": "python",
   "name": "python3"
  },
  "language_info": {
   "codemirror_mode": {
    "name": "ipython",
    "version": 3
   },
   "file_extension": ".py",
   "mimetype": "text/x-python",
   "name": "python",
   "nbconvert_exporter": "python",
   "pygments_lexer": "ipython3",
   "version": "3.9.13"
  }
 },
 "nbformat": 4,
 "nbformat_minor": 5
}
